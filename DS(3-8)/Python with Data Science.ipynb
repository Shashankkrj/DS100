{
 "cells": [
  {
   "cell_type": "markdown",
   "metadata": {},
   "source": [
    "# DAY 3"
   ]
  },
  {
   "cell_type": "markdown",
   "metadata": {},
   "source": [
    "# This is Python Tutorial"
   ]
  },
  {
   "cell_type": "markdown",
   "metadata": {},
   "source": [
    "This is our first program in python.It is just started here"
   ]
  },
  {
   "cell_type": "code",
   "execution_count": 7,
   "metadata": {},
   "outputs": [
    {
     "name": "stdout",
     "output_type": "stream",
     "text": [
      "Hello World\n"
     ]
    }
   ],
   "source": [
    "print(\"Hello World\")"
   ]
  },
  {
   "cell_type": "markdown",
   "metadata": {},
   "source": [
    "a=b+c"
   ]
  },
  {
   "cell_type": "markdown",
   "metadata": {},
   "source": [
    "$a=b+$c"
   ]
  },
  {
   "cell_type": "markdown",
   "metadata": {},
   "source": [
    "Use of ipython shell"
   ]
  },
  {
   "cell_type": "markdown",
   "metadata": {},
   "source": [
    "# DAY 4"
   ]
  },
  {
   "cell_type": "markdown",
   "metadata": {},
   "source": [
    "# Variables"
   ]
  },
  {
   "cell_type": "code",
   "execution_count": 8,
   "metadata": {},
   "outputs": [],
   "source": [
    "x=3"
   ]
  },
  {
   "cell_type": "code",
   "execution_count": 9,
   "metadata": {},
   "outputs": [
    {
     "name": "stdout",
     "output_type": "stream",
     "text": [
      "Variable   Type    Data/Info\n",
      "----------------------------\n",
      "x          int     3\n"
     ]
    }
   ],
   "source": [
    "%whos"
   ]
  },
  {
   "cell_type": "code",
   "execution_count": 10,
   "metadata": {},
   "outputs": [
    {
     "name": "stdout",
     "output_type": "stream",
     "text": [
      "<class 'int'>\n"
     ]
    }
   ],
   "source": [
    "print(type(x))"
   ]
  },
  {
   "cell_type": "code",
   "execution_count": 11,
   "metadata": {},
   "outputs": [],
   "source": [
    "x=5.7"
   ]
  },
  {
   "cell_type": "code",
   "execution_count": 12,
   "metadata": {},
   "outputs": [
    {
     "name": "stdout",
     "output_type": "stream",
     "text": [
      "Variable   Type     Data/Info\n",
      "-----------------------------\n",
      "x          float    5.7\n"
     ]
    }
   ],
   "source": [
    "%whos"
   ]
  },
  {
   "cell_type": "code",
   "execution_count": 13,
   "metadata": {},
   "outputs": [
    {
     "name": "stdout",
     "output_type": "stream",
     "text": [
      "<class 'float'>\n"
     ]
    }
   ],
   "source": [
    "print(type(x))"
   ]
  },
  {
   "cell_type": "code",
   "execution_count": 14,
   "metadata": {},
   "outputs": [],
   "source": [
    "abcd=556.32"
   ]
  },
  {
   "cell_type": "code",
   "execution_count": 15,
   "metadata": {},
   "outputs": [
    {
     "name": "stdout",
     "output_type": "stream",
     "text": [
      "Variable   Type     Data/Info\n",
      "-----------------------------\n",
      "abcd       float    556.32\n",
      "x          float    5.7\n"
     ]
    }
   ],
   "source": [
    "%whos"
   ]
  },
  {
   "cell_type": "code",
   "execution_count": 20,
   "metadata": {},
   "outputs": [],
   "source": [
    "a,b,c,d,f=3,5,6.0,7.2,-3"
   ]
  },
  {
   "cell_type": "code",
   "execution_count": 21,
   "metadata": {},
   "outputs": [
    {
     "name": "stdout",
     "output_type": "stream",
     "text": [
      "Variable   Type     Data/Info\n",
      "-----------------------------\n",
      "a          int      3\n",
      "abcd       float    556.32\n",
      "b          int      5\n",
      "c          float    6.0\n",
      "d          float    7.2\n",
      "f          int      -3\n",
      "x          float    5.7\n"
     ]
    }
   ],
   "source": [
    "%whos"
   ]
  },
  {
   "cell_type": "code",
   "execution_count": 22,
   "metadata": {},
   "outputs": [],
   "source": [
    "del abcd"
   ]
  },
  {
   "cell_type": "code",
   "execution_count": 23,
   "metadata": {},
   "outputs": [
    {
     "name": "stdout",
     "output_type": "stream",
     "text": [
      "Variable   Type     Data/Info\n",
      "-----------------------------\n",
      "a          int      3\n",
      "b          int      5\n",
      "c          float    6.0\n",
      "d          float    7.2\n",
      "f          int      -3\n",
      "x          float    5.7\n"
     ]
    }
   ],
   "source": [
    "%whos"
   ]
  },
  {
   "cell_type": "code",
   "execution_count": 24,
   "metadata": {},
   "outputs": [
    {
     "ename": "NameError",
     "evalue": "name 'acd' is not defined",
     "output_type": "error",
     "traceback": [
      "\u001b[1;31m---------------------------------------------------------------------------\u001b[0m",
      "\u001b[1;31mNameError\u001b[0m                                 Traceback (most recent call last)",
      "\u001b[1;32m<ipython-input-24-3bad71af8df7>\u001b[0m in \u001b[0;36m<module>\u001b[1;34m\u001b[0m\n\u001b[1;32m----> 1\u001b[1;33m \u001b[0mprint\u001b[0m\u001b[1;33m(\u001b[0m\u001b[0macd\u001b[0m\u001b[1;33m)\u001b[0m\u001b[1;33m\u001b[0m\u001b[1;33m\u001b[0m\u001b[0m\n\u001b[0m",
      "\u001b[1;31mNameError\u001b[0m: name 'acd' is not defined"
     ]
    }
   ],
   "source": [
    "print(acd)"
   ]
  },
  {
   "cell_type": "code",
   "execution_count": 25,
   "metadata": {},
   "outputs": [],
   "source": [
    "c=2+4j"
   ]
  },
  {
   "cell_type": "code",
   "execution_count": 26,
   "metadata": {},
   "outputs": [
    {
     "name": "stdout",
     "output_type": "stream",
     "text": [
      "<class 'complex'>\n"
     ]
    }
   ],
   "source": [
    "print(type(c))"
   ]
  },
  {
   "cell_type": "code",
   "execution_count": 27,
   "metadata": {},
   "outputs": [],
   "source": [
    "s=\"hello how are you\""
   ]
  },
  {
   "cell_type": "code",
   "execution_count": 28,
   "metadata": {},
   "outputs": [
    {
     "name": "stdout",
     "output_type": "stream",
     "text": [
      "<class 'str'>\n"
     ]
    }
   ],
   "source": [
    "print(type(s))"
   ]
  },
  {
   "cell_type": "markdown",
   "metadata": {},
   "source": [
    "# Operators"
   ]
  },
  {
   "cell_type": "code",
   "execution_count": 29,
   "metadata": {},
   "outputs": [
    {
     "name": "stdout",
     "output_type": "stream",
     "text": [
      "Variable   Type       Data/Info\n",
      "-------------------------------\n",
      "a          int        3\n",
      "b          int        5\n",
      "c          complex    (2+4j)\n",
      "d          float      7.2\n",
      "f          int        -3\n",
      "s          str        hello how are you\n",
      "x          float      5.7\n"
     ]
    }
   ],
   "source": [
    "%whos"
   ]
  },
  {
   "cell_type": "code",
   "execution_count": 30,
   "metadata": {},
   "outputs": [],
   "source": [
    "sum_of_aAndb=a+b"
   ]
  },
  {
   "cell_type": "code",
   "execution_count": 31,
   "metadata": {},
   "outputs": [
    {
     "name": "stdout",
     "output_type": "stream",
     "text": [
      "8\n"
     ]
    }
   ],
   "source": [
    "print(sum_of_aAndb)"
   ]
  },
  {
   "cell_type": "code",
   "execution_count": 32,
   "metadata": {},
   "outputs": [
    {
     "data": {
      "text/plain": [
       "int"
      ]
     },
     "execution_count": 32,
     "metadata": {},
     "output_type": "execute_result"
    }
   ],
   "source": [
    "type(sum_of_aAndb)"
   ]
  },
  {
   "cell_type": "code",
   "execution_count": 33,
   "metadata": {},
   "outputs": [
    {
     "data": {
      "text/plain": [
       "float"
      ]
     },
     "execution_count": 33,
     "metadata": {},
     "output_type": "execute_result"
    }
   ],
   "source": [
    "type(a+d)"
   ]
  },
  {
   "cell_type": "code",
   "execution_count": 34,
   "metadata": {},
   "outputs": [],
   "source": [
    "v=((a+d)**3)/4"
   ]
  },
  {
   "cell_type": "code",
   "execution_count": 35,
   "metadata": {},
   "outputs": [
    {
     "name": "stdout",
     "output_type": "stream",
     "text": [
      "265.30199999999996\n"
     ]
    }
   ],
   "source": [
    "print(v)"
   ]
  },
  {
   "cell_type": "code",
   "execution_count": 38,
   "metadata": {},
   "outputs": [
    {
     "name": "stdout",
     "output_type": "stream",
     "text": [
      "helloworld\n"
     ]
    }
   ],
   "source": [
    "s1= \"hello\"\n",
    "s2=\"world\"\n",
    "s=s1+s2\n",
    "print(s)"
   ]
  },
  {
   "cell_type": "code",
   "execution_count": 39,
   "metadata": {},
   "outputs": [
    {
     "data": {
      "text/plain": [
       "3"
      ]
     },
     "execution_count": 39,
     "metadata": {},
     "output_type": "execute_result"
    }
   ],
   "source": [
    "10//3"
   ]
  },
  {
   "cell_type": "code",
   "execution_count": 40,
   "metadata": {},
   "outputs": [
    {
     "data": {
      "text/plain": [
       "3.3333333333333335"
      ]
     },
     "execution_count": 40,
     "metadata": {},
     "output_type": "execute_result"
    }
   ],
   "source": [
    "10/3"
   ]
  },
  {
   "cell_type": "markdown",
   "metadata": {},
   "source": [
    "underscore contain the last result which you didn't store in the particular variable"
   ]
  },
  {
   "cell_type": "code",
   "execution_count": 41,
   "metadata": {},
   "outputs": [
    {
     "data": {
      "text/plain": [
       "3.3333333333333335"
      ]
     },
     "execution_count": 41,
     "metadata": {},
     "output_type": "execute_result"
    }
   ],
   "source": [
    "_"
   ]
  },
  {
   "cell_type": "code",
   "execution_count": 43,
   "metadata": {},
   "outputs": [
    {
     "name": "stdout",
     "output_type": "stream",
     "text": [
      "3.3333333333333335\n"
     ]
    }
   ],
   "source": [
    "print(_)"
   ]
  },
  {
   "cell_type": "markdown",
   "metadata": {},
   "source": [
    "# Identifier"
   ]
  },
  {
   "cell_type": "code",
   "execution_count": 44,
   "metadata": {},
   "outputs": [
    {
     "ename": "SyntaxError",
     "evalue": "invalid syntax (<ipython-input-44-8d1b8893481f>, line 1)",
     "output_type": "error",
     "traceback": [
      "\u001b[1;36m  File \u001b[1;32m\"<ipython-input-44-8d1b8893481f>\"\u001b[1;36m, line \u001b[1;32m1\u001b[0m\n\u001b[1;33m    3x=5\u001b[0m\n\u001b[1;37m     ^\u001b[0m\n\u001b[1;31mSyntaxError\u001b[0m\u001b[1;31m:\u001b[0m invalid syntax\n"
     ]
    }
   ],
   "source": [
    "3x=5"
   ]
  },
  {
   "cell_type": "code",
   "execution_count": 45,
   "metadata": {},
   "outputs": [
    {
     "ename": "SyntaxError",
     "evalue": "invalid syntax (<ipython-input-45-e67763287a1a>, line 1)",
     "output_type": "error",
     "traceback": [
      "\u001b[1;36m  File \u001b[1;32m\"<ipython-input-45-e67763287a1a>\"\u001b[1;36m, line \u001b[1;32m1\u001b[0m\n\u001b[1;33m    @y=4\u001b[0m\n\u001b[1;37m      ^\u001b[0m\n\u001b[1;31mSyntaxError\u001b[0m\u001b[1;31m:\u001b[0m invalid syntax\n"
     ]
    }
   ],
   "source": [
    "@y=4"
   ]
  },
  {
   "cell_type": "code",
   "execution_count": 46,
   "metadata": {},
   "outputs": [
    {
     "ename": "SyntaxError",
     "evalue": "starred assignment target must be in a list or tuple (<ipython-input-46-3588004ff47c>, line 1)",
     "output_type": "error",
     "traceback": [
      "\u001b[1;36m  File \u001b[1;32m\"<ipython-input-46-3588004ff47c>\"\u001b[1;36m, line \u001b[1;32m1\u001b[0m\n\u001b[1;33m    *t=4\u001b[0m\n\u001b[1;37m    ^\u001b[0m\n\u001b[1;31mSyntaxError\u001b[0m\u001b[1;31m:\u001b[0m starred assignment target must be in a list or tuple\n"
     ]
    }
   ],
   "source": [
    "*t=4"
   ]
  },
  {
   "cell_type": "code",
   "execution_count": 47,
   "metadata": {},
   "outputs": [],
   "source": [
    "_e=6"
   ]
  },
  {
   "cell_type": "markdown",
   "metadata": {},
   "source": [
    "Camel Case"
   ]
  },
  {
   "cell_type": "code",
   "execution_count": 48,
   "metadata": {},
   "outputs": [],
   "source": [
    "startingTimeOfTheCourse = 2.0"
   ]
  },
  {
   "cell_type": "code",
   "execution_count": 49,
   "metadata": {},
   "outputs": [
    {
     "name": "stdout",
     "output_type": "stream",
     "text": [
      "Variable                  Type       Data/Info\n",
      "----------------------------------------------\n",
      "a                         int        3\n",
      "b                         int        5\n",
      "c                         complex    (2+4j)\n",
      "d                         float      7.2\n",
      "f                         int        -3\n",
      "s                         str        helloworld\n",
      "s1                        str        hello\n",
      "s2                        str        world\n",
      "startingTimeOfTheCourse   float      2.0\n",
      "sum_of_aAndb              int        8\n",
      "v                         float      265.30199999999996\n",
      "x                         float      5.7\n"
     ]
    }
   ],
   "source": [
    "%whos"
   ]
  },
  {
   "cell_type": "markdown",
   "metadata": {},
   "source": [
    "# Type bool "
   ]
  },
  {
   "cell_type": "markdown",
   "metadata": {},
   "source": [
    "true,if it is equal =="
   ]
  },
  {
   "cell_type": "markdown",
   "metadata": {},
   "source": [
    "true,if not equal to !="
   ]
  },
  {
   "cell_type": "markdown",
   "metadata": {},
   "source": [
    "less than <"
   ]
  },
  {
   "cell_type": "markdown",
   "metadata": {},
   "source": [
    " greater than >"
   ]
  },
  {
   "cell_type": "markdown",
   "metadata": {},
   "source": [
    "less than or equal to  <="
   ]
  },
  {
   "cell_type": "markdown",
   "metadata": {},
   "source": [
    "greater than or equal to >="
   ]
  },
  {
   "cell_type": "code",
   "execution_count": 51,
   "metadata": {},
   "outputs": [
    {
     "data": {
      "text/plain": [
       "False"
      ]
     },
     "execution_count": 51,
     "metadata": {},
     "output_type": "execute_result"
    }
   ],
   "source": [
    "not(True)"
   ]
  },
  {
   "cell_type": "code",
   "execution_count": 52,
   "metadata": {},
   "outputs": [
    {
     "data": {
      "text/plain": [
       "True"
      ]
     },
     "execution_count": 52,
     "metadata": {},
     "output_type": "execute_result"
    }
   ],
   "source": [
    "not(False)"
   ]
  },
  {
   "cell_type": "code",
   "execution_count": 61,
   "metadata": {},
   "outputs": [],
   "source": [
    "a=True\n",
    "b=True\n",
    "c=False"
   ]
  },
  {
   "cell_type": "code",
   "execution_count": 62,
   "metadata": {},
   "outputs": [
    {
     "name": "stdout",
     "output_type": "stream",
     "text": [
      "Variable                  Type     Data/Info\n",
      "--------------------------------------------\n",
      "a                         bool     True\n",
      "b                         bool     True\n",
      "c                         bool     False\n",
      "d                         float    7.2\n",
      "f                         int      -3\n",
      "s                         str      helloworld\n",
      "s1                        str      hello\n",
      "s2                        str      world\n",
      "startingTimeOfTheCourse   float    2.0\n",
      "sum_of_aAndb              int      8\n",
      "v                         float    265.30199999999996\n",
      "x                         float    5.7\n"
     ]
    }
   ],
   "source": [
    "%whos"
   ]
  },
  {
   "cell_type": "code",
   "execution_count": 63,
   "metadata": {},
   "outputs": [
    {
     "name": "stdout",
     "output_type": "stream",
     "text": [
      "True\n"
     ]
    }
   ],
   "source": [
    "print(a and b)"
   ]
  },
  {
   "cell_type": "code",
   "execution_count": 64,
   "metadata": {},
   "outputs": [
    {
     "name": "stdout",
     "output_type": "stream",
     "text": [
      "False\n"
     ]
    }
   ],
   "source": [
    "print(a and c)"
   ]
  },
  {
   "cell_type": "code",
   "execution_count": 65,
   "metadata": {},
   "outputs": [
    {
     "name": "stdout",
     "output_type": "stream",
     "text": [
      "False\n"
     ]
    }
   ],
   "source": [
    "print(c and a)"
   ]
  },
  {
   "cell_type": "code",
   "execution_count": 66,
   "metadata": {},
   "outputs": [
    {
     "name": "stdout",
     "output_type": "stream",
     "text": [
      "True\n"
     ]
    }
   ],
   "source": [
    "d= a or c\n",
    "print(d)"
   ]
  },
  {
   "cell_type": "code",
   "execution_count": 67,
   "metadata": {},
   "outputs": [
    {
     "data": {
      "text/plain": [
       "False"
      ]
     },
     "execution_count": 67,
     "metadata": {},
     "output_type": "execute_result"
    }
   ],
   "source": [
    "not(a)"
   ]
  },
  {
   "cell_type": "code",
   "execution_count": 68,
   "metadata": {},
   "outputs": [
    {
     "data": {
      "text/plain": [
       "False"
      ]
     },
     "execution_count": 68,
     "metadata": {},
     "output_type": "execute_result"
    }
   ],
   "source": [
    "not(b)"
   ]
  },
  {
   "cell_type": "code",
   "execution_count": 69,
   "metadata": {},
   "outputs": [
    {
     "data": {
      "text/plain": [
       "True"
      ]
     },
     "execution_count": 69,
     "metadata": {},
     "output_type": "execute_result"
    }
   ],
   "source": [
    "not(c)"
   ]
  },
  {
   "cell_type": "code",
   "execution_count": 70,
   "metadata": {},
   "outputs": [],
   "source": [
    "t= not(d)"
   ]
  },
  {
   "cell_type": "code",
   "execution_count": 71,
   "metadata": {},
   "outputs": [
    {
     "data": {
      "text/plain": [
       "bool"
      ]
     },
     "execution_count": 71,
     "metadata": {},
     "output_type": "execute_result"
    }
   ],
   "source": [
    "type(t)"
   ]
  },
  {
   "cell_type": "code",
   "execution_count": 72,
   "metadata": {},
   "outputs": [
    {
     "name": "stdout",
     "output_type": "stream",
     "text": [
      "False\n"
     ]
    }
   ],
   "source": [
    "print(t)"
   ]
  },
  {
   "cell_type": "code",
   "execution_count": 73,
   "metadata": {},
   "outputs": [
    {
     "data": {
      "text/plain": [
       "False"
      ]
     },
     "execution_count": 73,
     "metadata": {},
     "output_type": "execute_result"
    }
   ],
   "source": [
    "not((a and b) or (c or d))"
   ]
  },
  {
   "cell_type": "markdown",
   "metadata": {},
   "source": [
    "# Comparison"
   ]
  },
  {
   "cell_type": "code",
   "execution_count": 74,
   "metadata": {},
   "outputs": [
    {
     "name": "stdout",
     "output_type": "stream",
     "text": [
      "True\n"
     ]
    }
   ],
   "source": [
    "print(2<3)"
   ]
  },
  {
   "cell_type": "code",
   "execution_count": 77,
   "metadata": {},
   "outputs": [
    {
     "name": "stdout",
     "output_type": "stream",
     "text": [
      "<class 'bool'>\n",
      "True\n"
     ]
    }
   ],
   "source": [
    "c=2<3\n",
    "print(type(c))\n",
    "print(c)"
   ]
  },
  {
   "cell_type": "code",
   "execution_count": 78,
   "metadata": {},
   "outputs": [
    {
     "name": "stdout",
     "output_type": "stream",
     "text": [
      "False\n"
     ]
    }
   ],
   "source": [
    "d= 3==4\n",
    "print(d)"
   ]
  },
  {
   "cell_type": "markdown",
   "metadata": {},
   "source": [
    "comparison between float and integer data type"
   ]
  },
  {
   "cell_type": "code",
   "execution_count": 81,
   "metadata": {},
   "outputs": [
    {
     "data": {
      "text/plain": [
       "True"
      ]
     },
     "execution_count": 81,
     "metadata": {},
     "output_type": "execute_result"
    }
   ],
   "source": [
    "3==3.0"
   ]
  },
  {
   "cell_type": "code",
   "execution_count": 82,
   "metadata": {},
   "outputs": [],
   "source": [
    "x=4\n",
    "y=9\n",
    "z=8.3\n",
    "r=-3"
   ]
  },
  {
   "cell_type": "markdown",
   "metadata": {},
   "source": [
    "precedence of comparison operator goes from left to right----->  parenthesis,and,or,"
   ]
  },
  {
   "cell_type": "code",
   "execution_count": 83,
   "metadata": {},
   "outputs": [
    {
     "data": {
      "text/plain": [
       "True"
      ]
     },
     "execution_count": 83,
     "metadata": {},
     "output_type": "execute_result"
    }
   ],
   "source": [
    "(x<y) and (z<y) or(r==x)"
   ]
  },
  {
   "cell_type": "code",
   "execution_count": 85,
   "metadata": {},
   "outputs": [
    {
     "data": {
      "text/plain": [
       "False"
      ]
     },
     "execution_count": 85,
     "metadata": {},
     "output_type": "execute_result"
    }
   ],
   "source": [
    "(r==x) and (x<y) or (z>y)"
   ]
  },
  {
   "cell_type": "code",
   "execution_count": 86,
   "metadata": {},
   "outputs": [
    {
     "data": {
      "text/plain": [
       "True"
      ]
     },
     "execution_count": 86,
     "metadata": {},
     "output_type": "execute_result"
    }
   ],
   "source": [
    "True or False and True"
   ]
  },
  {
   "cell_type": "code",
   "execution_count": 88,
   "metadata": {},
   "outputs": [
    {
     "data": {
      "text/plain": [
       "False"
      ]
     },
     "execution_count": 88,
     "metadata": {},
     "output_type": "execute_result"
    }
   ],
   "source": [
    "False or False and True"
   ]
  },
  {
   "cell_type": "code",
   "execution_count": 89,
   "metadata": {},
   "outputs": [
    {
     "data": {
      "text/plain": [
       "True"
      ]
     },
     "execution_count": 89,
     "metadata": {},
     "output_type": "execute_result"
    }
   ],
   "source": [
    "False and False or True"
   ]
  },
  {
   "cell_type": "code",
   "execution_count": 90,
   "metadata": {},
   "outputs": [
    {
     "data": {
      "text/plain": [
       "True"
      ]
     },
     "execution_count": 90,
     "metadata": {},
     "output_type": "execute_result"
    }
   ],
   "source": [
    "True or False and False"
   ]
  },
  {
   "cell_type": "code",
   "execution_count": 91,
   "metadata": {},
   "outputs": [
    {
     "data": {
      "text/plain": [
       "False"
      ]
     },
     "execution_count": 91,
     "metadata": {},
     "output_type": "execute_result"
    }
   ],
   "source": [
    "(True or False) and False"
   ]
  },
  {
   "cell_type": "code",
   "execution_count": 92,
   "metadata": {},
   "outputs": [
    {
     "name": "stdout",
     "output_type": "stream",
     "text": [
      "False\n"
     ]
    }
   ],
   "source": [
    "print((not(2!=3) and True) or (False and True))"
   ]
  },
  {
   "cell_type": "markdown",
   "metadata": {},
   "source": [
    "# Some Useful Functions"
   ]
  },
  {
   "cell_type": "markdown",
   "metadata": {},
   "source": [
    "1)  round(argument)"
   ]
  },
  {
   "cell_type": "code",
   "execution_count": 93,
   "metadata": {},
   "outputs": [
    {
     "name": "stdout",
     "output_type": "stream",
     "text": [
      "5\n"
     ]
    }
   ],
   "source": [
    "print(round(4.6))"
   ]
  },
  {
   "cell_type": "code",
   "execution_count": 94,
   "metadata": {},
   "outputs": [
    {
     "name": "stdout",
     "output_type": "stream",
     "text": [
      "4\n"
     ]
    }
   ],
   "source": [
    "print(round(4.3))"
   ]
  },
  {
   "cell_type": "code",
   "execution_count": 96,
   "metadata": {},
   "outputs": [
    {
     "name": "stdout",
     "output_type": "stream",
     "text": [
      "4.556\n"
     ]
    }
   ],
   "source": [
    "print(round(4.556389,3))"
   ]
  },
  {
   "cell_type": "code",
   "execution_count": 97,
   "metadata": {},
   "outputs": [
    {
     "name": "stdout",
     "output_type": "stream",
     "text": [
      "4.56\n"
     ]
    }
   ],
   "source": [
    "print(round(4.556389,2))"
   ]
  },
  {
   "cell_type": "markdown",
   "metadata": {},
   "source": [
    "2)  divmod(x,y)"
   ]
  },
  {
   "cell_type": "code",
   "execution_count": 98,
   "metadata": {},
   "outputs": [
    {
     "data": {
      "text/plain": [
       "(3, 7)"
      ]
     },
     "execution_count": 98,
     "metadata": {},
     "output_type": "execute_result"
    }
   ],
   "source": [
    "divmod(34,9)"
   ]
  },
  {
   "cell_type": "code",
   "execution_count": 100,
   "metadata": {},
   "outputs": [
    {
     "data": {
      "text/plain": [
       "tuple"
      ]
     },
     "execution_count": 100,
     "metadata": {},
     "output_type": "execute_result"
    }
   ],
   "source": [
    "g=divmod(34,5)\n",
    "type(g)"
   ]
  },
  {
   "cell_type": "code",
   "execution_count": 101,
   "metadata": {},
   "outputs": [
    {
     "name": "stdout",
     "output_type": "stream",
     "text": [
      "(6, 4)\n"
     ]
    }
   ],
   "source": [
    "print(g)"
   ]
  },
  {
   "cell_type": "code",
   "execution_count": 102,
   "metadata": {},
   "outputs": [
    {
     "name": "stdout",
     "output_type": "stream",
     "text": [
      "6\n"
     ]
    }
   ],
   "source": [
    "print(g[0])"
   ]
  },
  {
   "cell_type": "code",
   "execution_count": 103,
   "metadata": {},
   "outputs": [
    {
     "name": "stdout",
     "output_type": "stream",
     "text": [
      "4\n"
     ]
    }
   ],
   "source": [
    "print(g[1])"
   ]
  },
  {
   "cell_type": "code",
   "execution_count": 105,
   "metadata": {},
   "outputs": [
    {
     "data": {
      "text/plain": [
       "3"
      ]
     },
     "execution_count": 105,
     "metadata": {},
     "output_type": "execute_result"
    }
   ],
   "source": [
    "34//9"
   ]
  },
  {
   "cell_type": "code",
   "execution_count": 106,
   "metadata": {},
   "outputs": [
    {
     "data": {
      "text/plain": [
       "7"
      ]
     },
     "execution_count": 106,
     "metadata": {},
     "output_type": "execute_result"
    }
   ],
   "source": [
    "34%9"
   ]
  },
  {
   "cell_type": "markdown",
   "metadata": {},
   "source": [
    "3)   isinstance()"
   ]
  },
  {
   "cell_type": "code",
   "execution_count": 107,
   "metadata": {},
   "outputs": [
    {
     "data": {
      "text/plain": [
       "True"
      ]
     },
     "execution_count": 107,
     "metadata": {},
     "output_type": "execute_result"
    }
   ],
   "source": [
    "isinstance(3,int)"
   ]
  },
  {
   "cell_type": "code",
   "execution_count": 108,
   "metadata": {},
   "outputs": [
    {
     "data": {
      "text/plain": [
       "False"
      ]
     },
     "execution_count": 108,
     "metadata": {},
     "output_type": "execute_result"
    }
   ],
   "source": [
    "isinstance(3.4,int)"
   ]
  },
  {
   "cell_type": "code",
   "execution_count": 110,
   "metadata": {},
   "outputs": [
    {
     "name": "stdout",
     "output_type": "stream",
     "text": [
      "True\n"
     ]
    }
   ],
   "source": [
    "print(isinstance(3.4,float))"
   ]
  },
  {
   "cell_type": "code",
   "execution_count": 112,
   "metadata": {},
   "outputs": [
    {
     "name": "stdout",
     "output_type": "stream",
     "text": [
      "True\n"
     ]
    }
   ],
   "source": [
    "print(isinstance(3.4,(int,float)))"
   ]
  },
  {
   "cell_type": "code",
   "execution_count": 113,
   "metadata": {},
   "outputs": [
    {
     "name": "stdout",
     "output_type": "stream",
     "text": [
      "False\n"
     ]
    }
   ],
   "source": [
    "print(isinstance(2+3j,(int,float)))"
   ]
  },
  {
   "cell_type": "code",
   "execution_count": 114,
   "metadata": {},
   "outputs": [
    {
     "name": "stdout",
     "output_type": "stream",
     "text": [
      "False\n"
     ]
    }
   ],
   "source": [
    "print(isinstance(2+3j,(int,float,str)))"
   ]
  },
  {
   "cell_type": "code",
   "execution_count": 115,
   "metadata": {},
   "outputs": [
    {
     "name": "stdout",
     "output_type": "stream",
     "text": [
      "True\n"
     ]
    }
   ],
   "source": [
    "print(isinstance(2+3j,(int,float,str,complex)))"
   ]
  },
  {
   "cell_type": "markdown",
   "metadata": {},
   "source": [
    "4)   pow(x,y,z)"
   ]
  },
  {
   "cell_type": "code",
   "execution_count": 116,
   "metadata": {},
   "outputs": [
    {
     "data": {
      "text/plain": [
       "16"
      ]
     },
     "execution_count": 116,
     "metadata": {},
     "output_type": "execute_result"
    }
   ],
   "source": [
    "pow(2,4)"
   ]
  },
  {
   "cell_type": "code",
   "execution_count": 117,
   "metadata": {},
   "outputs": [
    {
     "data": {
      "text/plain": [
       "16"
      ]
     },
     "execution_count": 117,
     "metadata": {},
     "output_type": "execute_result"
    }
   ],
   "source": [
    "2**4"
   ]
  },
  {
   "cell_type": "code",
   "execution_count": 118,
   "metadata": {},
   "outputs": [
    {
     "data": {
      "text/plain": [
       "2"
      ]
     },
     "execution_count": 118,
     "metadata": {},
     "output_type": "execute_result"
    }
   ],
   "source": [
    "pow(2,4,7)"
   ]
  },
  {
   "cell_type": "markdown",
   "metadata": {},
   "source": [
    "5)  input()"
   ]
  },
  {
   "cell_type": "code",
   "execution_count": 121,
   "metadata": {},
   "outputs": [
    {
     "name": "stdout",
     "output_type": "stream",
     "text": [
      "Enter a number :56\n"
     ]
    }
   ],
   "source": [
    "x=input(\"Enter a number :\")"
   ]
  },
  {
   "cell_type": "code",
   "execution_count": 128,
   "metadata": {},
   "outputs": [
    {
     "data": {
      "text/plain": [
       "int"
      ]
     },
     "execution_count": 128,
     "metadata": {},
     "output_type": "execute_result"
    }
   ],
   "source": [
    "type(x)"
   ]
  },
  {
   "cell_type": "code",
   "execution_count": 129,
   "metadata": {},
   "outputs": [
    {
     "data": {
      "text/plain": [
       "int"
      ]
     },
     "execution_count": 129,
     "metadata": {},
     "output_type": "execute_result"
    }
   ],
   "source": [
    "x=int(x)\n",
    "type(x)"
   ]
  },
  {
   "cell_type": "code",
   "execution_count": 130,
   "metadata": {},
   "outputs": [
    {
     "name": "stdout",
     "output_type": "stream",
     "text": [
      "22\n"
     ]
    }
   ],
   "source": [
    "print(x-34)"
   ]
  },
  {
   "cell_type": "code",
   "execution_count": 135,
   "metadata": {},
   "outputs": [
    {
     "name": "stdout",
     "output_type": "stream",
     "text": [
      "Enter a real number :24\n"
     ]
    }
   ],
   "source": [
    "a= float(input(\"Enter a real number :\"))"
   ]
  },
  {
   "cell_type": "code",
   "execution_count": 132,
   "metadata": {},
   "outputs": [
    {
     "data": {
      "text/plain": [
       "float"
      ]
     },
     "execution_count": 132,
     "metadata": {},
     "output_type": "execute_result"
    }
   ],
   "source": [
    "type(a)"
   ]
  },
  {
   "cell_type": "code",
   "execution_count": 136,
   "metadata": {},
   "outputs": [
    {
     "name": "stdout",
     "output_type": "stream",
     "text": [
      "Enter a real number :abc\n"
     ]
    },
    {
     "ename": "ValueError",
     "evalue": "could not convert string to float: 'abc'",
     "output_type": "error",
     "traceback": [
      "\u001b[1;31m---------------------------------------------------------------------------\u001b[0m",
      "\u001b[1;31mValueError\u001b[0m                                Traceback (most recent call last)",
      "\u001b[1;32m<ipython-input-136-b90943db1e2a>\u001b[0m in \u001b[0;36m<module>\u001b[1;34m\u001b[0m\n\u001b[1;32m----> 1\u001b[1;33m \u001b[0mb\u001b[0m\u001b[1;33m=\u001b[0m \u001b[0mfloat\u001b[0m\u001b[1;33m(\u001b[0m\u001b[0minput\u001b[0m\u001b[1;33m(\u001b[0m\u001b[1;34m\"Enter a real number :\"\u001b[0m\u001b[1;33m)\u001b[0m\u001b[1;33m)\u001b[0m\u001b[1;33m\u001b[0m\u001b[1;33m\u001b[0m\u001b[0m\n\u001b[0m",
      "\u001b[1;31mValueError\u001b[0m: could not convert string to float: 'abc'"
     ]
    }
   ],
   "source": [
    "b= float(input(\"Enter a real number :\"))"
   ]
  },
  {
   "cell_type": "markdown",
   "metadata": {},
   "source": [
    "HOW TO GET INFORMATION ABOUT ANY FUNCTION IN IDE:-"
   ]
  },
  {
   "cell_type": "markdown",
   "metadata": {},
   "source": [
    "1) help(pow)---->for getting information about power"
   ]
  },
  {
   "cell_type": "markdown",
   "metadata": {},
   "source": [
    "2) pow?"
   ]
  },
  {
   "cell_type": "markdown",
   "metadata": {},
   "source": [
    "3) pow??"
   ]
  },
  {
   "cell_type": "markdown",
   "metadata": {},
   "source": [
    "4) dir(pow)---->for getting what function can be used with pow"
   ]
  },
  {
   "cell_type": "markdown",
   "metadata": {},
   "source": [
    "# Control Flow"
   ]
  },
  {
   "cell_type": "markdown",
   "metadata": {},
   "source": [
    "If(Condition)"
   ]
  },
  {
   "cell_type": "code",
   "execution_count": 145,
   "metadata": {},
   "outputs": [
    {
     "name": "stdout",
     "output_type": "stream",
     "text": [
      "12\n",
      "10\n",
      "12\n",
      "I am still inside if condition\n",
      "I am outside the if condition\n"
     ]
    }
   ],
   "source": [
    "a=int(input())\n",
    "b=int(input())\n",
    "if a>b:\n",
    "    print(a)\n",
    "    print(\"I am still inside if condition\")\n",
    "print(\"I am outside the if condition\")"
   ]
  },
  {
   "cell_type": "code",
   "execution_count": 146,
   "metadata": {},
   "outputs": [
    {
     "name": "stdout",
     "output_type": "stream",
     "text": [
      "10\n",
      "12\n",
      "I am outside the if condition\n"
     ]
    }
   ],
   "source": [
    "a=int(input())\n",
    "b=int(input())\n",
    "if a>b:\n",
    "    print(a)\n",
    "    print(\"I am still inside if condition\")\n",
    "print(\"I am outside the if condition\")"
   ]
  },
  {
   "cell_type": "code",
   "execution_count": 147,
   "metadata": {},
   "outputs": [
    {
     "name": "stdout",
     "output_type": "stream",
     "text": [
      "22\n",
      "4\n",
      "22\n"
     ]
    }
   ],
   "source": [
    "a=int(input())\n",
    "b=int(input())\n",
    "if a>b:\n",
    "    print(a)\n",
    "if b>a:\n",
    "    print(b)"
   ]
  },
  {
   "cell_type": "markdown",
   "metadata": {},
   "source": [
    "If-Else"
   ]
  },
  {
   "cell_type": "code",
   "execution_count": 148,
   "metadata": {},
   "outputs": [
    {
     "name": "stdout",
     "output_type": "stream",
     "text": [
      "10\n",
      "12\n",
      "12\n"
     ]
    }
   ],
   "source": [
    "a=int(input())\n",
    "b=int(input())\n",
    "if a>b:\n",
    "    print(a)\n",
    "else:\n",
    "    print(b)"
   ]
  },
  {
   "cell_type": "code",
   "execution_count": 150,
   "metadata": {},
   "outputs": [
    {
     "name": "stdout",
     "output_type": "stream",
     "text": [
      "10\n",
      "10\n",
      "10\n",
      "else part\n"
     ]
    }
   ],
   "source": [
    "a=int(input())\n",
    "b=int(input())\n",
    "if a>b:\n",
    "    print(a)\n",
    "    print(\"if part\")\n",
    "else:\n",
    "    print(b)\n",
    "    print(\"else part\")"
   ]
  },
  {
   "cell_type": "markdown",
   "metadata": {},
   "source": [
    "If-Elif-Else"
   ]
  },
  {
   "cell_type": "code",
   "execution_count": 153,
   "metadata": {},
   "outputs": [
    {
     "name": "stdout",
     "output_type": "stream",
     "text": [
      "12\n",
      "23\n",
      "23\n",
      "not in if\n"
     ]
    }
   ],
   "source": [
    "a=int(input())\n",
    "b=int(input())\n",
    "if a>b:\n",
    "    print(a)\n",
    "elif a==b:\n",
    "    print(\"Equal\")\n",
    "else:\n",
    "    print(b)\n",
    "    print(\"not in if\")"
   ]
  },
  {
   "cell_type": "code",
   "execution_count": 155,
   "metadata": {},
   "outputs": [
    {
     "name": "stdout",
     "output_type": "stream",
     "text": [
      "Enter Marks40\n",
      "Below Average\n"
     ]
    }
   ],
   "source": [
    "a=int(input(\"Enter Marks\"))\n",
    "if a>=85:\n",
    "    print(\"A Grade\")\n",
    "elif a<85 and a>=80:\n",
    "    print(\"A- Grade\")\n",
    "elif (a<80) and (a>=75):\n",
    "    print(\"B Grade\")\n",
    "elif a<75 and a>=70:\n",
    "    print(\"B- Grade\")\n",
    "else:\n",
    "    print(\"Below Average\")"
   ]
  },
  {
   "cell_type": "code",
   "execution_count": 156,
   "metadata": {},
   "outputs": [
    {
     "name": "stdout",
     "output_type": "stream",
     "text": [
      "Else part\n"
     ]
    }
   ],
   "source": [
    "a=3\n",
    "if a>10:\n",
    "    print(\">10\")\n",
    "elif not(a>10):\n",
    "    print(\"Else part\")"
   ]
  },
  {
   "cell_type": "markdown",
   "metadata": {},
   "source": [
    "Nested If"
   ]
  },
  {
   "cell_type": "code",
   "execution_count": 157,
   "metadata": {},
   "outputs": [
    {
     "name": "stdout",
     "output_type": "stream",
     "text": [
      "12\n",
      ">10\n",
      "Inside the top If\n",
      "<=20\n",
      "Inside the else part of Nested If\n",
      "Outside all Ifs\n"
     ]
    }
   ],
   "source": [
    "a=int(input())\n",
    "if a>10:\n",
    "    print(\">10\")\n",
    "    print(\"Inside the top If\")\n",
    "    if(a>20):\n",
    "        print(\">20\")\n",
    "        print(\"Inside the Nested If\")\n",
    "    else:\n",
    "        print(\"<=20\")\n",
    "        print(\"Inside the else part of Nested If\")\n",
    "print(\"Outside all Ifs\")"
   ]
  },
  {
   "cell_type": "code",
   "execution_count": 159,
   "metadata": {},
   "outputs": [
    {
     "name": "stdout",
     "output_type": "stream",
     "text": [
      "25\n",
      ">10\n",
      "Inside the top If\n",
      ">20\n",
      "Inside the Nested If\n",
      "<=30\n",
      "Inside the else part of nested if of nested if\n",
      "Outside all Ifs\n"
     ]
    }
   ],
   "source": [
    "a=int(input())\n",
    "if a>10:\n",
    "    print(\">10\")\n",
    "    print(\"Inside the top If\")\n",
    "    if(a>20):\n",
    "        print(\">20\")\n",
    "        print(\"Inside the Nested If\")\n",
    "        if a>30:\n",
    "            print(\">30\")\n",
    "            print(\"Inside the nested if of nested if\")\n",
    "        else:\n",
    "            print(\"<=30\")\n",
    "            print(\"Inside the else part of nested if of nested if\")\n",
    "    else:\n",
    "        print(\"<=20\")\n",
    "        print(\"Inside the else part of Nested If\")\n",
    "print(\"Outside all Ifs\")"
   ]
  },
  {
   "cell_type": "markdown",
   "metadata": {},
   "source": [
    "# DAY 5"
   ]
  },
  {
   "cell_type": "markdown",
   "metadata": {},
   "source": [
    "#comment ----> single line comment syntax"
   ]
  },
  {
   "cell_type": "markdown",
   "metadata": {},
   "source": [
    "\"\"\" comment \"\"\" ----> multi line comment syntax"
   ]
  },
  {
   "cell_type": "code",
   "execution_count": 11,
   "metadata": {},
   "outputs": [
    {
     "name": "stdout",
     "output_type": "stream",
     "text": [
      "Enter a real number :-6.3456\n",
      "-6\n",
      "Even\n"
     ]
    }
   ],
   "source": [
    "#TASK:-\n",
    "\"\"\"User will enter a floating point number let say 238.915.Your task is to find \n",
    " out the integer portion before the point (in this case 238) and then check if that integer portion is an even number or not?\"\"\"\n",
    "\n",
    "#SOLUTION BY TUTOR:-\n",
    "\n",
    "x=float(input(\"Enter a real number :\"))\n",
    "y=round(x)\n",
    "if(x>0):\n",
    "    if y>x:\n",
    "        intPortion = y-1;\n",
    "    else:\n",
    "        intPortion =y;\n",
    "else:\n",
    "    if y<x:\n",
    "        intPortion =y+1;\n",
    "    else:\n",
    "        intPortion =y;\n",
    "print(intPortion)\n",
    "if intPortion%2 ==0:\n",
    "    print(\"Even\")\n",
    "else:\n",
    "    print(\"Odd\")"
   ]
  },
  {
   "cell_type": "code",
   "execution_count": 23,
   "metadata": {},
   "outputs": [
    {
     "name": "stdout",
     "output_type": "stream",
     "text": [
      "Enter a real number :-6.3456\n",
      "-6\n",
      "Even\n"
     ]
    }
   ],
   "source": [
    "#SOLUTION BY ME:-\n",
    "\n",
    "x =float(input(\"Enter a real number :\"))\n",
    "y =int(x)\n",
    "print(y)\n",
    "if y%2 ==0:\n",
    "    print(\"Even\")\n",
    "else:\n",
    "    print(\"Odd\")"
   ]
  },
  {
   "cell_type": "code",
   "execution_count": 35,
   "metadata": {},
   "outputs": [
    {
     "name": "stdout",
     "output_type": "stream",
     "text": [
      "Enter a real number :-6.3456\n",
      "-6\n",
      "Even\n"
     ]
    }
   ],
   "source": [
    "#SOLUTION BY ME:-\n",
    "\n",
    "x=float(input(\"Enter a real number :\"))\n",
    "y=x//1\n",
    "y=int(y)\n",
    "if(x>0):\n",
    "    if y>x:\n",
    "        intPortion = y-1;\n",
    "    else:\n",
    "        intPortion =y;\n",
    "else:\n",
    "    if y<x:\n",
    "        intPortion =y+1;\n",
    "    else:\n",
    "        intPortion =y;\n",
    "print(intPortion)\n",
    "if intPortion%2 ==0:\n",
    "    print(\"Even\")\n",
    "else:\n",
    "    print(\"Odd\")"
   ]
  },
  {
   "cell_type": "markdown",
   "metadata": {},
   "source": [
    "# LOOPS----->"
   ]
  },
  {
   "cell_type": "markdown",
   "metadata": {},
   "source": [
    "# CONTROL FLOW(while LOOP)"
   ]
  },
  {
   "cell_type": "code",
   "execution_count": 39,
   "metadata": {},
   "outputs": [
    {
     "name": "stdout",
     "output_type": "stream",
     "text": [
      "5\n",
      "1\n",
      "This is iteration no. : 1\n",
      "4\n",
      "This is iteration no. : 2\n",
      "9\n",
      "This is iteration no. : 3\n",
      "16\n",
      "This is iteration no. : 4\n",
      "Loop Done\n"
     ]
    }
   ],
   "source": [
    "n = int(input())\n",
    "i=1\n",
    "while i<n:\n",
    "    print(i**2)\n",
    "    print(\"This is iteration no. :\",i)\n",
    "    i+=1  #i=i+1\n",
    "print(\"Loop Done\")"
   ]
  },
  {
   "cell_type": "code",
   "execution_count": 46,
   "metadata": {},
   "outputs": [
    {
     "name": "stdout",
     "output_type": "stream",
     "text": [
      "Max Iterations :8\n",
      "2\n",
      "4\n",
      "6\n",
      "done\n"
     ]
    }
   ],
   "source": [
    "n= int(input(\"Max Iterations :\"))\n",
    "i=1\n",
    "while (i < n):\n",
    "    if i%2==0:\n",
    "        print(i)\n",
    "    else:\n",
    "        pass\n",
    "    i+=1\n",
    "print('done')"
   ]
  },
  {
   "cell_type": "markdown",
   "metadata": {},
   "source": [
    "# CONTROL FLOW(Loops:break,continue)"
   ]
  },
  {
   "cell_type": "code",
   "execution_count": 47,
   "metadata": {},
   "outputs": [
    {
     "name": "stdout",
     "output_type": "stream",
     "text": [
      "Inside Else\n",
      "Inside Else\n",
      "Inside Else\n",
      "Inside Else\n",
      "Inside Else\n",
      "Inside Else\n",
      "Inside Else\n",
      "Inside Else\n",
      "Inside if\n",
      "done\n"
     ]
    }
   ],
   "source": [
    "n=10\n",
    "i=1\n",
    "while True:\n",
    "    if i%9==0:\n",
    "        print(\"Inside if\")\n",
    "        break\n",
    "    else:\n",
    "        print(\"Inside Else\")\n",
    "        i=i+1\n",
    "print(\"done\")"
   ]
  },
  {
   "cell_type": "code",
   "execution_count": 49,
   "metadata": {},
   "outputs": [
    {
     "name": "stdout",
     "output_type": "stream",
     "text": [
      "Inside if\n",
      "Inside if\n",
      "Inside if\n",
      "Inside if\n",
      "Inside if\n",
      "Inside if\n",
      "Inside if\n",
      "Inside if\n",
      "something\n",
      "something else\n",
      "done\n"
     ]
    }
   ],
   "source": [
    "n=10\n",
    "i=1\n",
    "while True:\n",
    "    if i%9 != 0:\n",
    "        print(\"Inside if\")\n",
    "        i+=1\n",
    "        continue\n",
    "    print(\"something\")\n",
    "    print(\"something else\")\n",
    "    break\n",
    "print(\"done\")"
   ]
  },
  {
   "cell_type": "markdown",
   "metadata": {},
   "source": [
    "# CONTROL FLOW(for LOOP)"
   ]
  },
  {
   "cell_type": "code",
   "execution_count": 6,
   "metadata": {},
   "outputs": [
    {
     "name": "stdout",
     "output_type": "stream",
     "text": [
      "1\n",
      "[0]\n",
      "2\n",
      "[0, 1]\n",
      "3\n",
      "[0, 1, 4]\n",
      "4\n",
      "[0, 1, 4, 9]\n",
      "5\n",
      "[0, 1, 4, 9, 16]\n",
      "6\n",
      "[0, 1, 4, 9, 16, 25]\n",
      "7\n",
      "[0, 1, 4, 9, 16, 25, 36]\n",
      "8\n",
      "[0, 1, 4, 9, 16, 25, 36, 49]\n",
      "9\n",
      "[0, 1, 4, 9, 16, 25, 36, 49, 64]\n",
      "10\n",
      "[0, 1, 4, 9, 16, 25, 36, 49, 64, 81]\n"
     ]
    }
   ],
   "source": [
    "L=[]\n",
    "for i in range (10):\n",
    "    print(i+1)\n",
    "    L.append(i**2)\n",
    "    print(L)"
   ]
  },
  {
   "cell_type": "code",
   "execution_count": 9,
   "metadata": {},
   "outputs": [
    {
     "name": "stdout",
     "output_type": "stream",
     "text": [
      "0\n",
      "[0]\n",
      "2\n",
      "[0, 4]\n",
      "4\n",
      "[0, 4, 16]\n",
      "6\n",
      "[0, 4, 16, 36]\n",
      "8\n",
      "[0, 4, 16, 36, 64]\n"
     ]
    }
   ],
   "source": [
    "L=[]\n",
    "for i in range (0,10,2):\n",
    "    print(i)\n",
    "    L.append(i**2)\n",
    "    print(L)"
   ]
  },
  {
   "cell_type": "code",
   "execution_count": 10,
   "metadata": {},
   "outputs": [
    {
     "name": "stdout",
     "output_type": "stream",
     "text": [
      "1\n",
      "[1]\n",
      "4\n",
      "[1, 16]\n",
      "7\n",
      "[1, 16, 49]\n",
      "10\n",
      "[1, 16, 49, 100]\n",
      "13\n",
      "[1, 16, 49, 100, 169]\n",
      "16\n",
      "[1, 16, 49, 100, 169, 256]\n",
      "19\n",
      "[1, 16, 49, 100, 169, 256, 361]\n"
     ]
    }
   ],
   "source": [
    "L=[]\n",
    "for i in range (1,20,3):\n",
    "    print(i)\n",
    "    L.append(i**2)\n",
    "    print(L)"
   ]
  },
  {
   "cell_type": "markdown",
   "metadata": {},
   "source": [
    "# CONTROL FLOW(else in for LOOP)"
   ]
  },
  {
   "cell_type": "code",
   "execution_count": 36,
   "metadata": {},
   "outputs": [
    {
     "name": "stdout",
     "output_type": "stream",
     "text": [
      "{3, 4, 6}\n"
     ]
    }
   ],
   "source": [
    "S={4,6,3}\n",
    "print(S)"
   ]
  },
  {
   "cell_type": "code",
   "execution_count": 47,
   "metadata": {},
   "outputs": [
    {
     "name": "stdout",
     "output_type": "stream",
     "text": [
      "{4.9, 'cherry', 'apple'}\n",
      "4.9\n",
      "cherry\n",
      "apple\n",
      "Loop terminates with success\n",
      "Outside of loop\n"
     ]
    }
   ],
   "source": [
    "S={\"apple\",4.9,\"cherry\"}\n",
    "print(S)\n",
    "for x in S:\n",
    "    print(x)\n",
    "else:\n",
    "    print(\"Loop terminates with success\")\n",
    "print(\"Outside of loop\")"
   ]
  },
  {
   "cell_type": "code",
   "execution_count": 44,
   "metadata": {},
   "outputs": [
    {
     "name": "stdout",
     "output_type": "stream",
     "text": [
      "{4.9, 'cherry', 'apple'}\n",
      "4.9\n",
      "cherry\n",
      "Outside of loop\n"
     ]
    }
   ],
   "source": [
    "S = {\"apple\",4.9,\"cherry\"}\n",
    "print(S)   #Doubt inthis line,how does all the items rearranged after print(S) in current line?\n",
    "i = 1\n",
    "for x in S:   #Doubt in this line,why does overall value change after putting any variable other than x here?\n",
    "    print(x)\n",
    "    i+=1\n",
    "    if i==3:\n",
    "        break\n",
    "    else:\n",
    "        pass\n",
    "else:\n",
    "    print(\"Loop terminates with success\")\n",
    "print(\"Outside of loop\")"
   ]
  },
  {
   "cell_type": "markdown",
   "metadata": {},
   "source": [
    "# CONTROL FLOW(EXPLORING A DICTIONARY)"
   ]
  },
  {
   "cell_type": "code",
   "execution_count": 1,
   "metadata": {},
   "outputs": [
    {
     "name": "stdout",
     "output_type": "stream",
     "text": [
      "A 10\n",
      "B -19\n",
      "C ABC\n"
     ]
    }
   ],
   "source": [
    "D={\"A\":10,\"B\":-19,\"C\":\"ABC\"}\n",
    "for x in D:\n",
    "    print(x,D[x])"
   ]
  },
  {
   "cell_type": "code",
   "execution_count": 2,
   "metadata": {},
   "outputs": [
    {
     "name": "stdout",
     "output_type": "stream",
     "text": [
      "A ---> 10\n",
      "B ---> -19\n",
      "C ---> ABC\n"
     ]
    }
   ],
   "source": [
    "D={\"A\":10,\"B\":-19,\"C\":\"ABC\"}\n",
    "for x in D:\n",
    "    print(x,\"--->\",D[x])"
   ]
  },
  {
   "cell_type": "code",
   "execution_count": 9,
   "metadata": {},
   "outputs": [
    {
     "name": "stdout",
     "output_type": "stream",
     "text": [
      "[-5, 1, 2, 2, 3, 4, 7, 9]\n"
     ]
    }
   ],
   "source": [
    "# TASK 2\n",
    "\"\"\"Given a list of numbers i.e. [1,2,4,-5,7,9,3,2], make another list that contains all the items in sorted order from min to max \n",
    "i.e. your result will be another list like [-5,1,2,2,3,4,7,9]\"\"\"\n",
    "\n",
    "#SOLUTION by Tutor:-\n",
    "\n",
    "L= [1,2,4,-5,7,9,3,2]\n",
    "for j in range(len(L)):\n",
    "    m =L[j]\n",
    "    index = j\n",
    "    counter = j\n",
    "    for i in range (j,len(L)):\n",
    "        if L[i]<m:\n",
    "            m= L[i]\n",
    "            index = counter\n",
    "        counter += 1\n",
    "    temp = L[j]\n",
    "    L[j] = m\n",
    "    L[index] =temp\n",
    "print(L)"
   ]
  },
  {
   "cell_type": "code",
   "execution_count": null,
   "metadata": {},
   "outputs": [],
   "source": []
  },
  {
   "cell_type": "markdown",
   "metadata": {},
   "source": [
    "# FUNCTIONS"
   ]
  },
  {
   "cell_type": "code",
   "execution_count": 1,
   "metadata": {},
   "outputs": [
    {
     "name": "stdout",
     "output_type": "stream",
     "text": [
      "I am done\n",
      "Send me another task\n"
     ]
    }
   ],
   "source": [
    "def printSuccess():\n",
    "    print(\"I am done\")\n",
    "    print(\"Send me another task\")\n",
    "printSuccess()"
   ]
  },
  {
   "cell_type": "markdown",
   "metadata": {},
   "source": [
    "# FUNCTIONS (Doc String)"
   ]
  },
  {
   "cell_type": "code",
   "execution_count": 3,
   "metadata": {},
   "outputs": [
    {
     "name": "stdout",
     "output_type": "stream",
     "text": [
      "The task was successful\n"
     ]
    }
   ],
   "source": [
    "def printSuccess2():\n",
    "    \"\"\"this function is doing nothing except printing a message\"\"\"\n",
    "    print(\"The task was successful\")\n",
    "printSuccess2()"
   ]
  },
  {
   "cell_type": "code",
   "execution_count": 32,
   "metadata": {},
   "outputs": [
    {
     "name": "stdout",
     "output_type": "stream",
     "text": [
      "Help on function printSuccess2 in module __main__:\n",
      "\n",
      "printSuccess2()\n",
      "    this function does nothing\n",
      "\n"
     ]
    }
   ],
   "source": [
    "help(printSuccess2)"
   ]
  },
  {
   "cell_type": "markdown",
   "metadata": {},
   "source": [
    "# FUNCTIONS(Input Arguments)"
   ]
  },
  {
   "cell_type": "code",
   "execution_count": 19,
   "metadata": {},
   "outputs": [],
   "source": [
    "def printMessage(msg):\n",
    "    \"\"\"The function prints the message supplied by the user or prints that msg is not in the form of string\"\"\"\n",
    "    if isinstance(msg,str):\n",
    "        print(msg)\n",
    "    else:\n",
    "        print(\"Your input argument is not a string\")\n",
    "        print(\"Here is the type of what you have supplied\",type(msg))"
   ]
  },
  {
   "cell_type": "code",
   "execution_count": 15,
   "metadata": {},
   "outputs": [
    {
     "name": "stdout",
     "output_type": "stream",
     "text": [
      "Help on function printMessage in module __main__:\n",
      "\n",
      "printMessage(msg)\n",
      "    The function prints the message supplied by the user or prints that msg is not in the form of string\n",
      "\n"
     ]
    }
   ],
   "source": [
    "help(printMessage)"
   ]
  },
  {
   "cell_type": "code",
   "execution_count": 11,
   "metadata": {},
   "outputs": [],
   "source": [
    "printMessage??"
   ]
  },
  {
   "cell_type": "code",
   "execution_count": 16,
   "metadata": {},
   "outputs": [
    {
     "name": "stdout",
     "output_type": "stream",
     "text": [
      "This is the message\n"
     ]
    }
   ],
   "source": [
    "printMessage(\"This is the message\")"
   ]
  },
  {
   "cell_type": "code",
   "execution_count": 20,
   "metadata": {},
   "outputs": [
    {
     "name": "stdout",
     "output_type": "stream",
     "text": [
      "Your input argument is not a string\n",
      "Here is the type of what you have supplied <class 'int'>\n"
     ]
    }
   ],
   "source": [
    "printMessage(23)"
   ]
  },
  {
   "cell_type": "code",
   "execution_count": 21,
   "metadata": {},
   "outputs": [
    {
     "name": "stdout",
     "output_type": "stream",
     "text": [
      "Hello\n"
     ]
    }
   ],
   "source": [
    "y=\"Hello\"\n",
    "printMessage(y)"
   ]
  },
  {
   "cell_type": "markdown",
   "metadata": {},
   "source": [
    "# FUNCTIONS(Input Multiple Arguments)"
   ]
  },
  {
   "cell_type": "code",
   "execution_count": 10,
   "metadata": {},
   "outputs": [],
   "source": [
    "def mypow(a,b):\n",
    "    \"\"\"My this function computes power just like built-in pow function\"\"\"\n",
    "    c=a**b\n",
    "    print(c)"
   ]
  },
  {
   "cell_type": "code",
   "execution_count": 23,
   "metadata": {},
   "outputs": [],
   "source": [
    "mypow?"
   ]
  },
  {
   "cell_type": "code",
   "execution_count": 11,
   "metadata": {},
   "outputs": [
    {
     "name": "stdout",
     "output_type": "stream",
     "text": [
      "81\n"
     ]
    }
   ],
   "source": [
    "mypow(3,4)"
   ]
  },
  {
   "cell_type": "code",
   "execution_count": 27,
   "metadata": {},
   "outputs": [],
   "source": [
    "def checkArgs(a,b,c):\n",
    "    if isinstance(a,(int,float)) and isinstance(b,(int,float)) and isinstance(c,(int,float)):\n",
    "        print((a+b+c)**2)\n",
    "    else:\n",
    "        print(\"Error: the input arguments are not of the expected types\")"
   ]
  },
  {
   "cell_type": "code",
   "execution_count": 28,
   "metadata": {},
   "outputs": [
    {
     "name": "stdout",
     "output_type": "stream",
     "text": [
      "144\n"
     ]
    }
   ],
   "source": [
    "checkArgs(3,4,5)"
   ]
  },
  {
   "cell_type": "code",
   "execution_count": 29,
   "metadata": {},
   "outputs": [
    {
     "name": "stdout",
     "output_type": "stream",
     "text": [
      "Error: the input arguments are not of the expected types\n"
     ]
    }
   ],
   "source": [
    "checkArgs(3,4,\"g\")"
   ]
  },
  {
   "cell_type": "code",
   "execution_count": 30,
   "metadata": {},
   "outputs": [
    {
     "ename": "TypeError",
     "evalue": "checkArgs() missing 1 required positional argument: 'c'",
     "output_type": "error",
     "traceback": [
      "\u001b[1;31m---------------------------------------------------------------------------\u001b[0m",
      "\u001b[1;31mTypeError\u001b[0m                                 Traceback (most recent call last)",
      "\u001b[1;32m<ipython-input-30-f6f193ef9e63>\u001b[0m in \u001b[0;36m<module>\u001b[1;34m\u001b[0m\n\u001b[1;32m----> 1\u001b[1;33m \u001b[0mcheckArgs\u001b[0m\u001b[1;33m(\u001b[0m\u001b[1;36m3\u001b[0m\u001b[1;33m,\u001b[0m\u001b[1;36m4\u001b[0m\u001b[1;33m)\u001b[0m\u001b[1;33m\u001b[0m\u001b[1;33m\u001b[0m\u001b[0m\n\u001b[0m",
      "\u001b[1;31mTypeError\u001b[0m: checkArgs() missing 1 required positional argument: 'c'"
     ]
    }
   ],
   "source": [
    "checkArgs(3,4)"
   ]
  },
  {
   "cell_type": "code",
   "execution_count": 31,
   "metadata": {},
   "outputs": [
    {
     "ename": "TypeError",
     "evalue": "checkArgs() takes 3 positional arguments but 4 were given",
     "output_type": "error",
     "traceback": [
      "\u001b[1;31m---------------------------------------------------------------------------\u001b[0m",
      "\u001b[1;31mTypeError\u001b[0m                                 Traceback (most recent call last)",
      "\u001b[1;32m<ipython-input-31-afa86b76cc6a>\u001b[0m in \u001b[0;36m<module>\u001b[1;34m\u001b[0m\n\u001b[1;32m----> 1\u001b[1;33m \u001b[0mcheckArgs\u001b[0m\u001b[1;33m(\u001b[0m\u001b[1;36m3\u001b[0m\u001b[1;33m,\u001b[0m\u001b[1;36m4\u001b[0m\u001b[1;33m,\u001b[0m\u001b[1;36m5\u001b[0m\u001b[1;33m,\u001b[0m\u001b[1;36m6\u001b[0m\u001b[1;33m)\u001b[0m\u001b[1;33m\u001b[0m\u001b[1;33m\u001b[0m\u001b[0m\n\u001b[0m",
      "\u001b[1;31mTypeError\u001b[0m: checkArgs() takes 3 positional arguments but 4 were given"
     ]
    }
   ],
   "source": [
    "checkArgs(3,4,5,6)"
   ]
  },
  {
   "cell_type": "markdown",
   "metadata": {},
   "source": [
    "# FUNCTIONS(Order of input Arguments)"
   ]
  },
  {
   "cell_type": "code",
   "execution_count": 33,
   "metadata": {},
   "outputs": [],
   "source": [
    "# Here when we are changing order of value every time,it initialises to different variable every time.\n",
    "# This problem can be solved by initialising the variable by particular value at the time of calling as same as cell no.36 and 39 (below)\n",
    "def f(a,b,c):\n",
    "    print(\"A is :\",a)\n",
    "    print(\"B is :\",b)\n",
    "    print(\"C is :\",c)"
   ]
  },
  {
   "cell_type": "code",
   "execution_count": 34,
   "metadata": {},
   "outputs": [
    {
     "name": "stdout",
     "output_type": "stream",
     "text": [
      "A is : 2\n",
      "B is : 3\n",
      "C is : game\n"
     ]
    }
   ],
   "source": [
    "f(2,3,\"game\")"
   ]
  },
  {
   "cell_type": "code",
   "execution_count": 35,
   "metadata": {},
   "outputs": [
    {
     "name": "stdout",
     "output_type": "stream",
     "text": [
      "A is : 3\n",
      "B is : game\n",
      "C is : 2\n"
     ]
    }
   ],
   "source": [
    "f(3,\"game\",2)"
   ]
  },
  {
   "cell_type": "code",
   "execution_count": 36,
   "metadata": {},
   "outputs": [
    {
     "name": "stdout",
     "output_type": "stream",
     "text": [
      "A is : 2\n",
      "B is : 3\n",
      "C is : game\n"
     ]
    }
   ],
   "source": [
    "f(a=2,b=3,c=\"game\")"
   ]
  },
  {
   "cell_type": "code",
   "execution_count": 39,
   "metadata": {},
   "outputs": [
    {
     "name": "stdout",
     "output_type": "stream",
     "text": [
      "A is : 2\n",
      "B is : 3\n",
      "C is : game\n"
     ]
    }
   ],
   "source": [
    "f(c=\"game\",a=2,b=3)"
   ]
  },
  {
   "cell_type": "markdown",
   "metadata": {},
   "source": [
    "# DAY 6"
   ]
  },
  {
   "cell_type": "markdown",
   "metadata": {},
   "source": [
    "# FUNCTIONS(Scope of Variable and Use of return statement)"
   ]
  },
  {
   "cell_type": "code",
   "execution_count": 14,
   "metadata": {},
   "outputs": [
    {
     "ename": "NameError",
     "evalue": "name 'sumValue' is not defined",
     "output_type": "error",
     "traceback": [
      "\u001b[1;31m---------------------------------------------------------------------------\u001b[0m",
      "\u001b[1;31mNameError\u001b[0m                                 Traceback (most recent call last)",
      "\u001b[1;32m<ipython-input-14-b2d22c5ecdb9>\u001b[0m in \u001b[0;36m<module>\u001b[1;34m\u001b[0m\n\u001b[0;32m      2\u001b[0m     \u001b[0msumValue\u001b[0m\u001b[1;33m=\u001b[0m\u001b[0ma\u001b[0m\u001b[1;33m+\u001b[0m\u001b[0mb\u001b[0m\u001b[1;33m\u001b[0m\u001b[1;33m\u001b[0m\u001b[0m\n\u001b[0;32m      3\u001b[0m \u001b[0mmyadd\u001b[0m\u001b[1;33m(\u001b[0m\u001b[1;36m2\u001b[0m\u001b[1;33m,\u001b[0m\u001b[1;36m3\u001b[0m\u001b[1;33m)\u001b[0m\u001b[1;33m\u001b[0m\u001b[1;33m\u001b[0m\u001b[0m\n\u001b[1;32m----> 4\u001b[1;33m \u001b[0mprint\u001b[0m\u001b[1;33m(\u001b[0m\u001b[0msumValue\u001b[0m\u001b[1;33m)\u001b[0m\u001b[1;33m\u001b[0m\u001b[1;33m\u001b[0m\u001b[0m\n\u001b[0m",
      "\u001b[1;31mNameError\u001b[0m: name 'sumValue' is not defined"
     ]
    }
   ],
   "source": [
    "def myadd(a,b):\n",
    "    sumValue=a+b\n",
    "myadd(2,3)\n",
    "print(sumValue)"
   ]
  },
  {
   "cell_type": "code",
   "execution_count": 15,
   "metadata": {},
   "outputs": [
    {
     "ename": "NameError",
     "evalue": "name 'sumValue' is not defined",
     "output_type": "error",
     "traceback": [
      "\u001b[1;31m---------------------------------------------------------------------------\u001b[0m",
      "\u001b[1;31mNameError\u001b[0m                                 Traceback (most recent call last)",
      "\u001b[1;32m<ipython-input-15-cc047d2beff4>\u001b[0m in \u001b[0;36m<module>\u001b[1;34m\u001b[0m\n\u001b[0;32m      4\u001b[0m     \u001b[1;32mreturn\u001b[0m \u001b[0msumValue\u001b[0m\u001b[1;33m\u001b[0m\u001b[1;33m\u001b[0m\u001b[0m\n\u001b[0;32m      5\u001b[0m \u001b[0mmyadd\u001b[0m\u001b[1;33m(\u001b[0m\u001b[1;36m2\u001b[0m\u001b[1;33m,\u001b[0m\u001b[1;36m3\u001b[0m\u001b[1;33m)\u001b[0m\u001b[1;33m\u001b[0m\u001b[1;33m\u001b[0m\u001b[0m\n\u001b[1;32m----> 6\u001b[1;33m \u001b[0mprint\u001b[0m\u001b[1;33m(\u001b[0m\u001b[0msumValue\u001b[0m\u001b[1;33m)\u001b[0m\u001b[1;33m\u001b[0m\u001b[1;33m\u001b[0m\u001b[0m\n\u001b[0m",
      "\u001b[1;31mNameError\u001b[0m: name 'sumValue' is not defined"
     ]
    }
   ],
   "source": [
    "#Here sumValue is still not accesible after using return statement in above statement because its scope is only inside the defined  myadd variable.\n",
    "def myadd(a,b):\n",
    "    sumValue=a+b\n",
    "    return sumValue\n",
    "myadd(2,3)\n",
    "print(sumValue)"
   ]
  },
  {
   "cell_type": "code",
   "execution_count": 44,
   "metadata": {},
   "outputs": [
    {
     "name": "stdout",
     "output_type": "stream",
     "text": [
      "5\n"
     ]
    }
   ],
   "source": [
    "#So,for accessing the sumVariable,we have to call its value in another variable outside the scope of sumValue variable.\n",
    "def myadd(a,b):\n",
    "    sumValue=a+b\n",
    "    return sumValue\n",
    "d= myadd(2,3)\n",
    "print(d)"
   ]
  },
  {
   "cell_type": "code",
   "execution_count": 19,
   "metadata": {},
   "outputs": [
    {
     "name": "stdout",
     "output_type": "stream",
     "text": [
      "3\n"
     ]
    }
   ],
   "source": [
    "variableOutsideTheFunction = 3   #global variable\n",
    "def g():\n",
    "    print(variableOutsideTheFunction)\n",
    "    \n",
    "g()"
   ]
  },
  {
   "cell_type": "code",
   "execution_count": 22,
   "metadata": {},
   "outputs": [
    {
     "name": "stdout",
     "output_type": "stream",
     "text": [
      "5\n",
      "3\n"
     ]
    }
   ],
   "source": [
    "variableOutsideTheFunction = 3      #global variable\n",
    "def g():\n",
    "    variableOutsideTheFunction=5   #local variable\n",
    "    print(variableOutsideTheFunction)\n",
    "    \n",
    "g()\n",
    "print(variableOutsideTheFunction)"
   ]
  },
  {
   "cell_type": "code",
   "execution_count": 30,
   "metadata": {},
   "outputs": [
    {
     "name": "stdout",
     "output_type": "stream",
     "text": [
      "None\n",
      "<class 'NoneType'>\n",
      "<class 'NoneType'>\n",
      "<class 'function'>\n"
     ]
    }
   ],
   "source": [
    "# In python ,even a function doesn't return any value ,it still returns none which has a none data type.\n",
    "\n",
    "variableOutsideTheFunction = 3      #global variable\n",
    "def g():\n",
    "    variableOutsideTheFunction=5   #local variable\n",
    "    \n",
    "print(g())\n",
    "print(type(g()))\n",
    "print(type(g))"
   ]
  },
  {
   "cell_type": "code",
   "execution_count": 45,
   "metadata": {},
   "outputs": [
    {
     "name": "stdout",
     "output_type": "stream",
     "text": [
      "A\n",
      "something\n",
      " \n",
      "A\n",
      "something\n",
      "None\n",
      " \n",
      "A\n",
      "something\n",
      "<class 'NoneType'>\n"
     ]
    }
   ],
   "source": [
    "def h():\n",
    "    print(\"A\")\n",
    "    a=3\n",
    "    b=5\n",
    "    c=a+b\n",
    "    print(\"something\")\n",
    "    return   #return works like break in between statements of loop\n",
    "    print(\"B\")\n",
    "    print(\"C\")\n",
    "\n",
    "h()\n",
    "print(\" \")\n",
    "print(h())\n",
    "print(\" \")\n",
    "print(type(h()))"
   ]
  },
  {
   "cell_type": "code",
   "execution_count": 42,
   "metadata": {},
   "outputs": [
    {
     "name": "stdout",
     "output_type": "stream",
     "text": [
      "A\n",
      "something\n",
      " \n",
      "A\n",
      "something\n",
      "8\n",
      " \n",
      "A\n",
      "something\n",
      "<class 'int'>\n"
     ]
    }
   ],
   "source": [
    "def h():\n",
    "    print(\"A\")\n",
    "    a=3\n",
    "    b=5\n",
    "    c=a+b\n",
    "    print(\"something\")\n",
    "    return c #return works like break in between statements of loop\n",
    "    print(\"B\")\n",
    "    print(\"C\")\n",
    "\n",
    "h()\n",
    "print(\" \")\n",
    "print(h())\n",
    "print(\" \")\n",
    "print(type(h()))"
   ]
  },
  {
   "cell_type": "code",
   "execution_count": 5,
   "metadata": {},
   "outputs": [
    {
     "name": "stdout",
     "output_type": "stream",
     "text": [
      "5 7 something\n"
     ]
    }
   ],
   "source": [
    "# In python,we can return more than one value.\n",
    "def r():\n",
    "    a=5\n",
    "    b=7\n",
    "    d=\"something\"\n",
    "    return a,b,d\n",
    "\n",
    "x,y,z=r()\n",
    "print(x,y,z)"
   ]
  },
  {
   "cell_type": "markdown",
   "metadata": {},
   "source": [
    "# FUNCTIONS(variable number of input arguments)"
   ]
  },
  {
   "cell_type": "code",
   "execution_count": 19,
   "metadata": {},
   "outputs": [],
   "source": [
    "\"\"\"Here we are writing a code for how to defining a function by taking multiple values from user in every scenario without initialising \n",
    " no. of arguments\"\"\"\n",
    "\n",
    "def myAddUniversal(*args):\n",
    "    s=0\n",
    "    for i in range (len(args)):\n",
    "        s+=args[i]\n",
    "    return s"
   ]
  },
  {
   "cell_type": "code",
   "execution_count": 23,
   "metadata": {},
   "outputs": [
    {
     "name": "stdout",
     "output_type": "stream",
     "text": [
      "93.6\n"
     ]
    }
   ],
   "source": [
    "print(myAddUniversal(2,4,5,4.6,78))"
   ]
  },
  {
   "cell_type": "code",
   "execution_count": 12,
   "metadata": {},
   "outputs": [],
   "source": [
    "def printAllVariableNamesAndValues(**args):\n",
    "    for x in args:\n",
    "        print(\"Variable Name is :\",x,\"And Value is :\",args[x])"
   ]
  },
  {
   "cell_type": "code",
   "execution_count": 21,
   "metadata": {},
   "outputs": [
    {
     "name": "stdout",
     "output_type": "stream",
     "text": [
      "Variable Name is : a And Value is : 3\n",
      "Variable Name is : b And Value is : 8\n",
      "Variable Name is : c And Value is : CCC\n",
      "Variable Name is : y And Value is : 6.7\n"
     ]
    }
   ],
   "source": [
    "printAllVariableNamesAndValues(a=3,b=\"8\",c=\"CCC\",y=6.7)"
   ]
  },
  {
   "cell_type": "markdown",
   "metadata": {},
   "source": [
    "# FUNCTION(DEFAULT VALUES)"
   ]
  },
  {
   "cell_type": "code",
   "execution_count": 3,
   "metadata": {},
   "outputs": [
    {
     "name": "stdout",
     "output_type": "stream",
     "text": [
      "4\n"
     ]
    }
   ],
   "source": [
    "def gg(s=4):\n",
    "    print(s)\n",
    "gg()  #If no value is given to gg function during calling then default value 4 is given to gg function."
   ]
  },
  {
   "cell_type": "code",
   "execution_count": 4,
   "metadata": {},
   "outputs": [
    {
     "name": "stdout",
     "output_type": "stream",
     "text": [
      "56\n"
     ]
    }
   ],
   "source": [
    "gg(56)"
   ]
  },
  {
   "cell_type": "code",
   "execution_count": 6,
   "metadata": {},
   "outputs": [
    {
     "name": "stdout",
     "output_type": "stream",
     "text": [
      "[-9, 2, 3]\n"
     ]
    }
   ],
   "source": [
    "L=[1,2,3]\n",
    "L2 = L\n",
    "L2[0]= -9\n",
    "print(L) #Here L and L2 are pointing same memory,so due to change in L2 ,L also changes."
   ]
  },
  {
   "cell_type": "code",
   "execution_count": 11,
   "metadata": {},
   "outputs": [
    {
     "name": "stdout",
     "output_type": "stream",
     "text": [
      "1\n",
      "2\n",
      " \n",
      "12\n",
      "3\n",
      "4\n",
      " \n",
      "1\n",
      "2\n"
     ]
    }
   ],
   "source": [
    "def ff(L=[1,2]):\n",
    "    for i in L:\n",
    "        print(i)\n",
    "\n",
    "L2=[12,3,4]\n",
    "ff()\n",
    "print(\" \")\n",
    "ff(L2)\n",
    "print(\" \")\n",
    "ff()  #Here L value doesn't  change as above example (in cell 6)because default value doesn't changes."
   ]
  },
  {
   "cell_type": "markdown",
   "metadata": {},
   "source": [
    "# MODULES IN PYTHON"
   ]
  },
  {
   "cell_type": "code",
   "execution_count": 12,
   "metadata": {},
   "outputs": [],
   "source": [
    "import sys\n",
    "sys.path.append('C:/ABC/')"
   ]
  },
  {
   "cell_type": "code",
   "execution_count": 13,
   "metadata": {},
   "outputs": [],
   "source": [
    "import my_universal_functions as myfs"
   ]
  },
  {
   "cell_type": "code",
   "execution_count": 14,
   "metadata": {},
   "outputs": [],
   "source": [
    "myfs.addAllNumerics??"
   ]
  },
  {
   "cell_type": "code",
   "execution_count": 17,
   "metadata": {},
   "outputs": [
    {
     "name": "stdout",
     "output_type": "stream",
     "text": [
      "15\n"
     ]
    }
   ],
   "source": [
    "c=myfs.addAllNumerics(2,3,4,6)\n",
    "print(c)"
   ]
  },
  {
   "cell_type": "markdown",
   "metadata": {},
   "source": [
    "#                                                      OR"
   ]
  },
  {
   "cell_type": "code",
   "execution_count": 18,
   "metadata": {},
   "outputs": [],
   "source": [
    "import sys\n",
    "sys.path.append('C:/ABC/')"
   ]
  },
  {
   "cell_type": "code",
   "execution_count": 19,
   "metadata": {},
   "outputs": [],
   "source": [
    "from my_universal_functions import addAllNumerics"
   ]
  },
  {
   "cell_type": "code",
   "execution_count": 21,
   "metadata": {},
   "outputs": [
    {
     "name": "stdout",
     "output_type": "stream",
     "text": [
      "27\n"
     ]
    }
   ],
   "source": [
    "d =addAllNumerics(2,3,4,5,6,7)\n",
    "print(d)"
   ]
  },
  {
   "cell_type": "markdown",
   "metadata": {},
   "source": [
    "#    "
   ]
  },
  {
   "cell_type": "code",
   "execution_count": 22,
   "metadata": {},
   "outputs": [
    {
     "data": {
      "text/plain": [
       "'Python Course'"
      ]
     },
     "execution_count": 22,
     "metadata": {},
     "output_type": "execute_result"
    }
   ],
   "source": [
    "myfs.myName"
   ]
  },
  {
   "cell_type": "markdown",
   "metadata": {},
   "source": [
    "# PRACTICE FUNCTIONS"
   ]
  },
  {
   "cell_type": "markdown",
   "metadata": {},
   "source": [
    "\n",
    "Given a list of numbers i.e. [1,2,4,-5,7,9,3,2], make another list that contains all the items in sorted order from min to max \n",
    "i.e. your result will be another list like [-5,1,2,2,3,4,7,9]\n",
    "\n",
    "SOLUTION by Tutor:-"
   ]
  },
  {
   "cell_type": "code",
   "execution_count": 18,
   "metadata": {},
   "outputs": [],
   "source": [
    "def findMin(L,startIndx):\n",
    "    m = L[startIndx]\n",
    "    idx = startIndx\n",
    "    for i in range(startIndx,len(L)):\n",
    "        x =L[i]\n",
    "        if x<m:\n",
    "            m =x\n",
    "            idx =i\n",
    "        else:\n",
    "            pass\n",
    "    return m,idx\n",
    "     "
   ]
  },
  {
   "cell_type": "code",
   "execution_count": 29,
   "metadata": {},
   "outputs": [
    {
     "name": "stdout",
     "output_type": "stream",
     "text": [
      "0 3\n"
     ]
    }
   ],
   "source": [
    "a,b =findMin([2,3,4,0,9],0)\n",
    "print(a,b)"
   ]
  },
  {
   "cell_type": "code",
   "execution_count": 30,
   "metadata": {},
   "outputs": [],
   "source": [
    "def swapValues(L,idx1,idx2):\n",
    "    tmp=L[idx1]\n",
    "    L[idx1] = L[idx2]\n",
    "    L[idx2] = tmp\n",
    "    return L"
   ]
  },
  {
   "cell_type": "code",
   "execution_count": 31,
   "metadata": {},
   "outputs": [
    {
     "name": "stdout",
     "output_type": "stream",
     "text": [
      "[2, 7, 6, 3]\n"
     ]
    }
   ],
   "source": [
    "L=[2,3,6,7]\n",
    "L2 = swapValues(L,1,3)\n",
    "print(L2)"
   ]
  },
  {
   "cell_type": "code",
   "execution_count": 32,
   "metadata": {},
   "outputs": [],
   "source": [
    "def checkIfNotNumeric2(L):\n",
    "    for x in L:\n",
    "        if not(isinstance(x,(int,float))):\n",
    "            return False\n",
    "    return True"
   ]
  },
  {
   "cell_type": "code",
   "execution_count": 33,
   "metadata": {},
   "outputs": [],
   "source": [
    "def sortList(L):\n",
    "    if not(checkIfNotNumeric2(L)):\n",
    "        print(\"Error:List doesn't contain numeric values\")\n",
    "        return\n",
    "    else:\n",
    "        c = 0\n",
    "        for x in L:\n",
    "            m,idx = findMin(L,c)\n",
    "            L = swapValues(L,c,idx)\n",
    "            c+=1\n",
    "        return L"
   ]
  },
  {
   "cell_type": "code",
   "execution_count": 34,
   "metadata": {},
   "outputs": [
    {
     "name": "stdout",
     "output_type": "stream",
     "text": [
      "[-8, 1, 2, 3, 5, 17]\n"
     ]
    }
   ],
   "source": [
    "L2 =sortList([2,1,5,3,-8,17])\n",
    "print(L2)"
   ]
  },
  {
   "cell_type": "markdown",
   "metadata": {},
   "source": [
    "# STRING"
   ]
  },
  {
   "cell_type": "code",
   "execution_count": 42,
   "metadata": {},
   "outputs": [
    {
     "name": "stdout",
     "output_type": "stream",
     "text": [
      "Python is a good language\n",
      "<class 'str'>\n",
      "Python is a good language Its good for data science\n"
     ]
    }
   ],
   "source": [
    "s=\"Python is a good language\"\n",
    "t=\"Its good for data science\"\n",
    "print(s)\n",
    "print(type(s))\n",
    "v=s+\" \"+t\n",
    "print(v)"
   ]
  },
  {
   "cell_type": "code",
   "execution_count": 46,
   "metadata": {},
   "outputs": [
    {
     "name": "stdout",
     "output_type": "stream",
     "text": [
      "THe price of this book is: 12\n",
      "THe price of this book is: 12\n"
     ]
    }
   ],
   "source": [
    "a=12\n",
    "b=\"THe price of this book\"\n",
    "v=b+' is: '+str(a)\n",
    "print(v)\n",
    "print(b,\"is:\",a)"
   ]
  },
  {
   "cell_type": "markdown",
   "metadata": {},
   "source": [
    "# STRING(Multi line String)"
   ]
  },
  {
   "cell_type": "code",
   "execution_count": 48,
   "metadata": {},
   "outputs": [
    {
     "name": "stdout",
     "output_type": "stream",
     "text": [
      "this is line1\n",
      "this is line2\n",
      "this is last line and this line is 3\n",
      "\n"
     ]
    }
   ],
   "source": [
    "a=\"\"\"this is line1\n",
    "this is line2\n",
    "this is last line and this line is 3\n",
    "\"\"\"\n",
    "print(a)"
   ]
  },
  {
   "cell_type": "code",
   "execution_count": 49,
   "metadata": {},
   "outputs": [
    {
     "name": "stdout",
     "output_type": "stream",
     "text": [
      "The following options are available:\n",
      "            -a       :does nothing\n",
      "            -b       :also does nothing\n",
      "\n"
     ]
    }
   ],
   "source": [
    "print(\"\"\"The following options are available:\n",
    "            -a       :does nothing\n",
    "            -b       :also does nothing\n",
    "\"\"\")"
   ]
  },
  {
   "cell_type": "markdown",
   "metadata": {},
   "source": [
    "# STRING(Indexing and Slicing)"
   ]
  },
  {
   "cell_type": "code",
   "execution_count": 163,
   "metadata": {},
   "outputs": [
    {
     "name": "stdout",
     "output_type": "stream",
     "text": [
      "r\n",
      "4\n"
     ]
    }
   ],
   "source": [
    "s=\"How are you and who are you\"\n",
    "print(s[5])\n",
    "print(s.index(\"a\"))"
   ]
  },
  {
   "cell_type": "code",
   "execution_count": 51,
   "metadata": {},
   "outputs": [
    {
     "data": {
      "text/plain": [
       "str"
      ]
     },
     "execution_count": 51,
     "metadata": {},
     "output_type": "execute_result"
    }
   ],
   "source": [
    "type(s[5]) #each and every character of s variable(above) is of str data type."
   ]
  },
  {
   "cell_type": "code",
   "execution_count": 52,
   "metadata": {},
   "outputs": [
    {
     "data": {
      "text/plain": [
       "' are y'"
      ]
     },
     "execution_count": 52,
     "metadata": {},
     "output_type": "execute_result"
    }
   ],
   "source": [
    "s[3:9]"
   ]
  },
  {
   "cell_type": "code",
   "execution_count": 56,
   "metadata": {},
   "outputs": [
    {
     "data": {
      "text/plain": [
       "'How are yo'"
      ]
     },
     "execution_count": 56,
     "metadata": {},
     "output_type": "execute_result"
    }
   ],
   "source": [
    "s[0:10]"
   ]
  },
  {
   "cell_type": "code",
   "execution_count": 57,
   "metadata": {},
   "outputs": [
    {
     "data": {
      "text/plain": [
       "'u'"
      ]
     },
     "execution_count": 57,
     "metadata": {},
     "output_type": "execute_result"
    }
   ],
   "source": [
    "s[-1]"
   ]
  },
  {
   "cell_type": "code",
   "execution_count": 58,
   "metadata": {},
   "outputs": [
    {
     "data": {
      "text/plain": [
       "'y'"
      ]
     },
     "execution_count": 58,
     "metadata": {},
     "output_type": "execute_result"
    }
   ],
   "source": [
    "s[-3]"
   ]
  },
  {
   "cell_type": "code",
   "execution_count": 59,
   "metadata": {},
   "outputs": [
    {
     "data": {
      "text/plain": [
       "' are '"
      ]
     },
     "execution_count": 59,
     "metadata": {},
     "output_type": "execute_result"
    }
   ],
   "source": [
    "s[-8:-3]"
   ]
  },
  {
   "cell_type": "code",
   "execution_count": 60,
   "metadata": {},
   "outputs": [
    {
     "data": {
      "text/plain": [
       "' who are '"
      ]
     },
     "execution_count": 60,
     "metadata": {},
     "output_type": "execute_result"
    }
   ],
   "source": [
    "s[-12:-3]"
   ]
  },
  {
   "cell_type": "code",
   "execution_count": 62,
   "metadata": {},
   "outputs": [
    {
     "ename": "TypeError",
     "evalue": "'str' object does not support item assignment",
     "output_type": "error",
     "traceback": [
      "\u001b[1;31m---------------------------------------------------------------------------\u001b[0m",
      "\u001b[1;31mTypeError\u001b[0m                                 Traceback (most recent call last)",
      "\u001b[1;32m<ipython-input-62-289db166fcab>\u001b[0m in \u001b[0;36m<module>\u001b[1;34m\u001b[0m\n\u001b[1;32m----> 1\u001b[1;33m \u001b[0ms\u001b[0m\u001b[1;33m[\u001b[0m\u001b[1;36m1\u001b[0m\u001b[1;33m]\u001b[0m\u001b[1;33m=\u001b[0m\u001b[1;34m\"e\"\u001b[0m \u001b[1;31m#string is a data type which is inmutable or unchangeable.Once created,you can not change its contents.\u001b[0m\u001b[1;33m\u001b[0m\u001b[1;33m\u001b[0m\u001b[0m\n\u001b[0m",
      "\u001b[1;31mTypeError\u001b[0m: 'str' object does not support item assignment"
     ]
    }
   ],
   "source": [
    "s[1]=\"e\" #string is a data type which is inmutable or unchangeable.Once created,you can not change its contents."
   ]
  },
  {
   "cell_type": "code",
   "execution_count": 63,
   "metadata": {},
   "outputs": [
    {
     "data": {
      "text/plain": [
       "'Hwaeyu'"
      ]
     },
     "execution_count": 63,
     "metadata": {},
     "output_type": "execute_result"
    }
   ],
   "source": [
    "s[0:12:2]"
   ]
  },
  {
   "cell_type": "markdown",
   "metadata": {},
   "source": [
    " s[start:end:step]"
   ]
  },
  {
   "cell_type": "code",
   "execution_count": 65,
   "metadata": {},
   "outputs": [
    {
     "data": {
      "text/plain": [
       "' are you and who are you'"
      ]
     },
     "execution_count": 65,
     "metadata": {},
     "output_type": "execute_result"
    }
   ],
   "source": [
    "s[3:]"
   ]
  },
  {
   "cell_type": "code",
   "execution_count": 68,
   "metadata": {},
   "outputs": [
    {
     "data": {
      "text/plain": [
       "'ow are you '"
      ]
     },
     "execution_count": 68,
     "metadata": {},
     "output_type": "execute_result"
    }
   ],
   "source": [
    "s[1:12:]"
   ]
  },
  {
   "cell_type": "code",
   "execution_count": 70,
   "metadata": {},
   "outputs": [
    {
     "data": {
      "text/plain": [
       "'uoy era ohw dna uoy era woH'"
      ]
     },
     "execution_count": 70,
     "metadata": {},
     "output_type": "execute_result"
    }
   ],
   "source": [
    "s[::-1]"
   ]
  },
  {
   "cell_type": "markdown",
   "metadata": {},
   "source": [
    "# DAY 7"
   ]
  },
  {
   "cell_type": "markdown",
   "metadata": {},
   "source": [
    "# SOME STRING METHODS"
   ]
  },
  {
   "cell_type": "code",
   "execution_count": 3,
   "metadata": {},
   "outputs": [
    {
     "data": {
      "text/plain": [
       "['__add__',\n",
       " '__class__',\n",
       " '__contains__',\n",
       " '__delattr__',\n",
       " '__dir__',\n",
       " '__doc__',\n",
       " '__eq__',\n",
       " '__format__',\n",
       " '__ge__',\n",
       " '__getattribute__',\n",
       " '__getitem__',\n",
       " '__getnewargs__',\n",
       " '__gt__',\n",
       " '__hash__',\n",
       " '__init__',\n",
       " '__init_subclass__',\n",
       " '__iter__',\n",
       " '__le__',\n",
       " '__len__',\n",
       " '__lt__',\n",
       " '__mod__',\n",
       " '__mul__',\n",
       " '__ne__',\n",
       " '__new__',\n",
       " '__reduce__',\n",
       " '__reduce_ex__',\n",
       " '__repr__',\n",
       " '__rmod__',\n",
       " '__rmul__',\n",
       " '__setattr__',\n",
       " '__sizeof__',\n",
       " '__str__',\n",
       " '__subclasshook__',\n",
       " 'capitalize',\n",
       " 'casefold',\n",
       " 'center',\n",
       " 'count',\n",
       " 'encode',\n",
       " 'endswith',\n",
       " 'expandtabs',\n",
       " 'find',\n",
       " 'format',\n",
       " 'format_map',\n",
       " 'index',\n",
       " 'isalnum',\n",
       " 'isalpha',\n",
       " 'isascii',\n",
       " 'isdecimal',\n",
       " 'isdigit',\n",
       " 'isidentifier',\n",
       " 'islower',\n",
       " 'isnumeric',\n",
       " 'isprintable',\n",
       " 'isspace',\n",
       " 'istitle',\n",
       " 'isupper',\n",
       " 'join',\n",
       " 'ljust',\n",
       " 'lower',\n",
       " 'lstrip',\n",
       " 'maketrans',\n",
       " 'partition',\n",
       " 'replace',\n",
       " 'rfind',\n",
       " 'rindex',\n",
       " 'rjust',\n",
       " 'rpartition',\n",
       " 'rsplit',\n",
       " 'rstrip',\n",
       " 'split',\n",
       " 'splitlines',\n",
       " 'startswith',\n",
       " 'strip',\n",
       " 'swapcase',\n",
       " 'title',\n",
       " 'translate',\n",
       " 'upper',\n",
       " 'zfill']"
      ]
     },
     "execution_count": 3,
     "metadata": {},
     "output_type": "execute_result"
    }
   ],
   "source": [
    "dir(str)"
   ]
  },
  {
   "cell_type": "code",
   "execution_count": 8,
   "metadata": {},
   "outputs": [
    {
     "name": "stdout",
     "output_type": "stream",
     "text": [
      "abc    def     hkhjjl    hhjlhjd\n"
     ]
    }
   ],
   "source": [
    "a=\"     abc    def     hkhjjl    hhjlhjd    \"\n",
    "b=a.strip()  #It removes starting and ending spaces of string without doing anything to the space between the characters.\n",
    "print(b)"
   ]
  },
  {
   "cell_type": "code",
   "execution_count": 14,
   "metadata": {},
   "outputs": [
    {
     "name": "stdout",
     "output_type": "stream",
     "text": [
      "abc defg ;; sadfa qf\n"
     ]
    }
   ],
   "source": [
    "a =\"ABC defg ;; sadfa QF\"\n",
    "b=a.lower()\n",
    "print(b)"
   ]
  },
  {
   "cell_type": "code",
   "execution_count": 15,
   "metadata": {},
   "outputs": [
    {
     "name": "stdout",
     "output_type": "stream",
     "text": [
      "ABC DEFG ;; SADFA QF\n"
     ]
    }
   ],
   "source": [
    "c=a.upper()\n",
    "print(c)"
   ]
  },
  {
   "cell_type": "code",
   "execution_count": 16,
   "metadata": {},
   "outputs": [
    {
     "name": "stdout",
     "output_type": "stream",
     "text": [
      "ABC defg ** sadfa QF\n"
     ]
    }
   ],
   "source": [
    "d=a.replace(\";\",\"*\")\n",
    "print(d)"
   ]
  },
  {
   "cell_type": "code",
   "execution_count": 17,
   "metadata": {},
   "outputs": [
    {
     "name": "stdout",
     "output_type": "stream",
     "text": [
      "ABC defg **&&^^%%**&&^^%% sadfa QF\n"
     ]
    }
   ],
   "source": [
    "d=a.replace(\";\",\"**&&^^%%\")\n",
    "print(d)"
   ]
  },
  {
   "cell_type": "code",
   "execution_count": 18,
   "metadata": {},
   "outputs": [
    {
     "name": "stdout",
     "output_type": "stream",
     "text": [
      "ABC defg two semi colons sadfa QF\n"
     ]
    }
   ],
   "source": [
    "d=a.replace(\";;\",\"two semi colons\")\n",
    "print(d)"
   ]
  },
  {
   "cell_type": "code",
   "execution_count": 20,
   "metadata": {},
   "outputs": [
    {
     "name": "stdout",
     "output_type": "stream",
     "text": [
      "['abc', 'def', 'hgydfa', 'yy23']\n"
     ]
    }
   ],
   "source": [
    "a=\"abc;def;hgydfa;yy23\"\n",
    "L =a.split(\";\")\n",
    "print(L)"
   ]
  },
  {
   "cell_type": "code",
   "execution_count": 21,
   "metadata": {},
   "outputs": [
    {
     "data": {
      "text/plain": [
       "'def'"
      ]
     },
     "execution_count": 21,
     "metadata": {},
     "output_type": "execute_result"
    }
   ],
   "source": [
    "L[1]"
   ]
  },
  {
   "cell_type": "code",
   "execution_count": 25,
   "metadata": {},
   "outputs": [
    {
     "data": {
      "text/plain": [
       "'Abc;def;hgydfa;yy23'"
      ]
     },
     "execution_count": 25,
     "metadata": {},
     "output_type": "execute_result"
    }
   ],
   "source": [
    "a.capitalize()"
   ]
  },
  {
   "cell_type": "code",
   "execution_count": 26,
   "metadata": {},
   "outputs": [
    {
     "data": {
      "text/plain": [
       "'Asghjysbgshsghgghfd'"
      ]
     },
     "execution_count": 26,
     "metadata": {},
     "output_type": "execute_result"
    }
   ],
   "source": [
    "\"asGHJYSbgshsghgGHFD\".capitalize()"
   ]
  },
  {
   "cell_type": "code",
   "execution_count": 27,
   "metadata": {},
   "outputs": [],
   "source": [
    "a.count?   #or  help(a.count)"
   ]
  },
  {
   "cell_type": "code",
   "execution_count": 34,
   "metadata": {},
   "outputs": [
    {
     "data": {
      "text/plain": [
       "4"
      ]
     },
     "execution_count": 34,
     "metadata": {},
     "output_type": "execute_result"
    }
   ],
   "source": [
    "a=\"122323233\"\n",
    "a.count('2')"
   ]
  },
  {
   "cell_type": "code",
   "execution_count": 10,
   "metadata": {},
   "outputs": [
    {
     "data": {
      "text/plain": [
       "False"
      ]
     },
     "execution_count": 10,
     "metadata": {},
     "output_type": "execute_result"
    }
   ],
   "source": [
    "\"abc\" in \"asjdsjddjjdhdkdhdkuhbmcjhmd//dekojoeg[p';poke]\""
   ]
  },
  {
   "cell_type": "code",
   "execution_count": 11,
   "metadata": {},
   "outputs": [
    {
     "data": {
      "text/plain": [
       "True"
      ]
     },
     "execution_count": 11,
     "metadata": {},
     "output_type": "execute_result"
    }
   ],
   "source": [
    "\"abc\" in \"asjdsjddjjdhabcdkdhdkuhbmcjhmd//dekojoeg[p';poke]\""
   ]
  },
  {
   "cell_type": "code",
   "execution_count": 42,
   "metadata": {},
   "outputs": [
    {
     "data": {
      "text/plain": [
       "False"
      ]
     },
     "execution_count": 42,
     "metadata": {},
     "output_type": "execute_result"
    }
   ],
   "source": [
    "\"abc\" not in \"asjdsjddjjdhabcdkdhdkuhbmcjhmd//dekojoeg[p';poke]\""
   ]
  },
  {
   "cell_type": "code",
   "execution_count": 12,
   "metadata": {},
   "outputs": [
    {
     "data": {
      "text/plain": [
       "True"
      ]
     },
     "execution_count": 12,
     "metadata": {},
     "output_type": "execute_result"
    }
   ],
   "source": [
    "\"abc\"==\"abc\""
   ]
  },
  {
   "cell_type": "code",
   "execution_count": 21,
   "metadata": {},
   "outputs": [
    {
     "data": {
      "text/plain": [
       "True"
      ]
     },
     "execution_count": 21,
     "metadata": {},
     "output_type": "execute_result"
    }
   ],
   "source": [
    "\"abchdhg\"<\"def\"  #on basis of alphabetic orders,two strings can be compared.we can find which string is greater than or less than other\n",
    "#here a is first in alphabetic order and d is fourth in alphabetic order so,def is greater"
   ]
  },
  {
   "cell_type": "code",
   "execution_count": 22,
   "metadata": {},
   "outputs": [
    {
     "data": {
      "text/plain": [
       "False"
      ]
     },
     "execution_count": 22,
     "metadata": {},
     "output_type": "execute_result"
    }
   ],
   "source": [
    "\"dbchdhg\"<\"aef\" "
   ]
  },
  {
   "cell_type": "code",
   "execution_count": 23,
   "metadata": {},
   "outputs": [
    {
     "data": {
      "text/plain": [
       "True"
      ]
     },
     "execution_count": 23,
     "metadata": {},
     "output_type": "execute_result"
    }
   ],
   "source": [
    "\"$%\"<\"*&\"  #Doubt"
   ]
  },
  {
   "cell_type": "code",
   "execution_count": 30,
   "metadata": {},
   "outputs": [
    {
     "name": "stdout",
     "output_type": "stream",
     "text": [
      "we are learning \"string\" here\n"
     ]
    }
   ],
   "source": [
    "print(\"we are learning \\\"string\\\" here\") # we can use escape sequence to make a use double quote inside a string."
   ]
  },
  {
   "cell_type": "markdown",
   "metadata": {},
   "source": [
    "OR"
   ]
  },
  {
   "cell_type": "code",
   "execution_count": 32,
   "metadata": {},
   "outputs": [
    {
     "name": "stdout",
     "output_type": "stream",
     "text": [
      "we are learning \"string\" here\n"
     ]
    }
   ],
   "source": [
    "print('we are learning \"string\" here') #Here we use single quote instead of double quote because single quote defines everything string inside it even the double quote."
   ]
  },
  {
   "cell_type": "code",
   "execution_count": 36,
   "metadata": {},
   "outputs": [
    {
     "name": "stdout",
     "output_type": "stream",
     "text": [
      "we are \n",
      "now on another line\n"
     ]
    }
   ],
   "source": [
    "print(\"we are \\nnow on another line\")"
   ]
  },
  {
   "cell_type": "code",
   "execution_count": 38,
   "metadata": {},
   "outputs": [
    {
     "name": "stdout",
     "output_type": "stream",
     "text": [
      "we are \tnow on another tab\n"
     ]
    }
   ],
   "source": [
    "print(\"we are \\tnow on another tab\")"
   ]
  },
  {
   "cell_type": "code",
   "execution_count": 41,
   "metadata": {},
   "outputs": [
    {
     "name": "stdout",
     "output_type": "stream",
     "text": [
      "C:\n",
      "ame\\drive\n",
      "C:\\name\\drive\n"
     ]
    }
   ],
   "source": [
    "#Problem:-\n",
    "print(\"C:\\name\\drive\")\n",
    "\n",
    "#Solution:-\n",
    "print(r\"C:\\name\\drive\") #r defines string as raw string(ignore any escape sequence inside the double quote)"
   ]
  },
  {
   "cell_type": "markdown",
   "metadata": {},
   "source": [
    "# DATA STRUCTURES----> Collections of lot of Data"
   ]
  },
  {
   "cell_type": "code",
   "execution_count": 44,
   "metadata": {},
   "outputs": [],
   "source": [
    "#LIST         --->        ORDERED     CHANGEABLE           DUPLICATES         []\n",
    "#TUPLE        --->        ORDERED     UNCHANGEABLE         DUPLICATES         ()\n",
    "#SET          --->        UNORDERED   ADDABLE/REMOVABLE    NO DUPLICATES      {}\n",
    "#DICTIONARY   --->        UNORDERED   CHANGEABLE           NO DUPLICATES      {}"
   ]
  },
  {
   "cell_type": "code",
   "execution_count": 47,
   "metadata": {},
   "outputs": [],
   "source": [
    "L=[1,3,4.9,\"name\",3]   #List\n",
    "T=(1,3,4.9,\"name\",3)   #Tuple\n",
    "S={1,3,4.9,\"name\",3}   #Set\n",
    "D={23:\"twothree\",'B':43,'c':'CCD'}    #Dictionary"
   ]
  },
  {
   "cell_type": "code",
   "execution_count": 48,
   "metadata": {},
   "outputs": [
    {
     "name": "stdout",
     "output_type": "stream",
     "text": [
      "The type of L is  <class 'list'>\n",
      "The type of T is  <class 'tuple'>\n",
      "The type of S is  <class 'set'>\n",
      "The type of D is  <class 'dict'>\n"
     ]
    }
   ],
   "source": [
    "print(\"The type of L is \",type(L))\n",
    "print(\"The type of T is \",type(T))\n",
    "print(\"The type of S is \",type(S))\n",
    "print(\"The type of D is \",type(D))"
   ]
  },
  {
   "cell_type": "code",
   "execution_count": 54,
   "metadata": {},
   "outputs": [
    {
     "name": "stdout",
     "output_type": "stream",
     "text": [
      "3\n",
      "3\n",
      "True\n",
      "twothree\n",
      "43\n",
      "{1, 3, 4.9, 'name'}\n"
     ]
    }
   ],
   "source": [
    "print(L[1])\n",
    "print(T[1])\n",
    "print(3 in S)\n",
    "print(D[23])\n",
    "print(D['B'])\n",
    "print(S)   #here only one 3 print because set does not contain duplicate value"
   ]
  },
  {
   "cell_type": "code",
   "execution_count": 57,
   "metadata": {},
   "outputs": [
    {
     "name": "stdout",
     "output_type": "stream",
     "text": [
      "[3, 4.9]\n",
      "[3, 'name', 4.9, 3, 1]\n",
      "(3, 4.9)\n"
     ]
    }
   ],
   "source": [
    "print(L[1:3])\n",
    "print(L[::-1])  #reversing of list\n",
    "print(T[1:3])"
   ]
  },
  {
   "cell_type": "code",
   "execution_count": 66,
   "metadata": {},
   "outputs": [
    {
     "name": "stdout",
     "output_type": "stream",
     "text": [
      "[1, 3, 4.9, 'name', 3, 'how', 'are', 6, 'you']\n",
      "[1, 3, 4.9, 'name', 3, 'how', 'are', 6, 'you', 6.8]\n"
     ]
    }
   ],
   "source": [
    "L= L+['how','are',6,'you']\n",
    "print(L)\n",
    "#                                                       OR\n",
    "L.append(6.8)\n",
    "print(L)"
   ]
  },
  {
   "cell_type": "code",
   "execution_count": 77,
   "metadata": {},
   "outputs": [
    {
     "name": "stdout",
     "output_type": "stream",
     "text": [
      "[1, 3, 4.9, 'how', 'are', 6, 'you', 6.8]\n"
     ]
    }
   ],
   "source": [
    "del L[3]\n",
    "print(L)"
   ]
  },
  {
   "cell_type": "code",
   "execution_count": 68,
   "metadata": {},
   "outputs": [
    {
     "name": "stdout",
     "output_type": "stream",
     "text": [
      "(1, 3, 4.9, 'name', 3, 'a', 'b', 'c')\n",
      "(1, 3, 4.9, 'name', 3)\n"
     ]
    }
   ],
   "source": [
    "T2=('a','b','c')\n",
    "T3=T+T2\n",
    "print(T3)\n",
    "print(T)    #Tuple is unchangeable"
   ]
  },
  {
   "cell_type": "code",
   "execution_count": 71,
   "metadata": {},
   "outputs": [
    {
     "name": "stdout",
     "output_type": "stream",
     "text": [
      "{1, 3, 4.9, 'name', 56}\n",
      "{1, 3, 4.9, 'name', 'game', 23, 56}\n"
     ]
    }
   ],
   "source": [
    "S.add(56)\n",
    "print(S)\n",
    "#                                       OR\n",
    "S.update({23,\"game\",1})\n",
    "print(S)"
   ]
  },
  {
   "cell_type": "code",
   "execution_count": 78,
   "metadata": {},
   "outputs": [
    {
     "name": "stdout",
     "output_type": "stream",
     "text": [
      "{1, 3, 4.9, 'name', 23, 56}\n"
     ]
    }
   ],
   "source": [
    "S.remove('game')\n",
    "print(S)"
   ]
  },
  {
   "cell_type": "code",
   "execution_count": 92,
   "metadata": {},
   "outputs": [
    {
     "name": "stdout",
     "output_type": "stream",
     "text": [
      "{23: 'twothree', 'B': 43, 'newkey': 'newvalue', 'y': 'YY', 'z': 10}\n",
      "{23: 'twothree', 'B': 43, 'newkey': 'newvalue', 'y': 'YY', 'z': 10}\n"
     ]
    }
   ],
   "source": [
    "D['newkey']=\"newvalue\"\n",
    "print(D)\n",
    "#                                              OR\n",
    "D.update(D2)\n",
    "print(D)"
   ]
  },
  {
   "cell_type": "code",
   "execution_count": 90,
   "metadata": {},
   "outputs": [
    {
     "ename": "TypeError",
     "evalue": "unsupported operand type(s) for +: 'dict' and 'dict'",
     "output_type": "error",
     "traceback": [
      "\u001b[1;31m---------------------------------------------------------------------------\u001b[0m",
      "\u001b[1;31mTypeError\u001b[0m                                 Traceback (most recent call last)",
      "\u001b[1;32m<ipython-input-90-21c2d98eb20c>\u001b[0m in \u001b[0;36m<module>\u001b[1;34m\u001b[0m\n\u001b[0;32m      1\u001b[0m \u001b[0mD2\u001b[0m\u001b[1;33m=\u001b[0m\u001b[1;33m{\u001b[0m\u001b[1;34m'y'\u001b[0m\u001b[1;33m:\u001b[0m\u001b[1;34m\"YY\"\u001b[0m\u001b[1;33m,\u001b[0m\u001b[1;34m'z'\u001b[0m\u001b[1;33m:\u001b[0m\u001b[1;36m10\u001b[0m\u001b[1;33m}\u001b[0m\u001b[1;33m\u001b[0m\u001b[1;33m\u001b[0m\u001b[0m\n\u001b[1;32m----> 2\u001b[1;33m \u001b[0mD3\u001b[0m \u001b[1;33m=\u001b[0m\u001b[0mD\u001b[0m\u001b[1;33m+\u001b[0m\u001b[0mD2\u001b[0m   \u001b[1;31m#Addition operator is not define for dictionary\u001b[0m\u001b[1;33m\u001b[0m\u001b[1;33m\u001b[0m\u001b[0m\n\u001b[0m",
      "\u001b[1;31mTypeError\u001b[0m: unsupported operand type(s) for +: 'dict' and 'dict'"
     ]
    }
   ],
   "source": [
    "D2={'y':\"YY\",'z':10}\n",
    "D3 =D+D2   #Addition operator is not define for dictionary"
   ]
  },
  {
   "cell_type": "code",
   "execution_count": 79,
   "metadata": {},
   "outputs": [
    {
     "name": "stdout",
     "output_type": "stream",
     "text": [
      "{23: 'twothree', 'B': 43, 'newkey': 'newvalue'}\n"
     ]
    }
   ],
   "source": [
    "del D['c']\n",
    "print(D)"
   ]
  },
  {
   "cell_type": "code",
   "execution_count": 100,
   "metadata": {},
   "outputs": [
    {
     "name": "stdout",
     "output_type": "stream",
     "text": [
      "[1, 3, '4.9', 'how', 'are', 6, 'you', 6.8]\n"
     ]
    }
   ],
   "source": [
    "L2=L\n",
    "print(L2)   #both  L2 and L points same memory"
   ]
  },
  {
   "cell_type": "code",
   "execution_count": 102,
   "metadata": {},
   "outputs": [
    {
     "name": "stdout",
     "output_type": "stream",
     "text": [
      "[1, 3, 'four point nine', 'how', 'are', 6, 'you', 6.8]\n",
      "[1, 3, 'four point nine', 'how', 'are', 6, 'you', 6.8]\n"
     ]
    }
   ],
   "source": [
    "L2[2]=\"four point nine\"\n",
    "print(L2)\n",
    "print(L)"
   ]
  },
  {
   "cell_type": "code",
   "execution_count": 105,
   "metadata": {},
   "outputs": [
    {
     "name": "stdout",
     "output_type": "stream",
     "text": [
      "[1, 3, '4.9', 'how', 'are', 6, 'you', 6.8]\n",
      "[1, 3, 'four point nine', 'how', 'are', 6, 'you', 6.8]\n"
     ]
    }
   ],
   "source": [
    "L2=L.copy()    #copy function doesn't changes the values of L after copying it to L2\n",
    "L2[2]='4.9'\n",
    "print(L2)\n",
    "print(L)"
   ]
  },
  {
   "cell_type": "code",
   "execution_count": 107,
   "metadata": {},
   "outputs": [
    {
     "name": "stdout",
     "output_type": "stream",
     "text": [
      "[3, 'four point nine', 'how', 'are']\n",
      "['three', 'four point nine', 'how', 'are']\n",
      "[1, 3, 'four point nine', 'how', 'are', 6, 'you', 6.8]\n"
     ]
    }
   ],
   "source": [
    "L3=L[1:5]     # Here slicing picks a copy of list only doesn't change value of list as same as copy function\n",
    "print(L3)\n",
    "L3[0]=\"three\"\n",
    "print(L3)\n",
    "print(L)"
   ]
  },
  {
   "cell_type": "code",
   "execution_count": 113,
   "metadata": {},
   "outputs": [],
   "source": [
    "L.clear?"
   ]
  },
  {
   "cell_type": "code",
   "execution_count": 114,
   "metadata": {},
   "outputs": [],
   "source": [
    "L.pop?"
   ]
  },
  {
   "cell_type": "code",
   "execution_count": 118,
   "metadata": {},
   "outputs": [
    {
     "name": "stdout",
     "output_type": "stream",
     "text": [
      "[1, 3, 'four point nine', 'how', 'are', 6, 'you', 6.8]\n",
      "[6.8, 'you', 6, 'are', 'how', 'four point nine', 3, 1]\n"
     ]
    }
   ],
   "source": [
    "L.reverse()\n",
    "print(L)\n",
    "#                                             OR\n",
    "print(L[::-1])"
   ]
  },
  {
   "cell_type": "code",
   "execution_count": 122,
   "metadata": {},
   "outputs": [
    {
     "data": {
      "text/plain": [
       "dict_items([(23, 'twothree'), ('B', 43), ('newkey', 'newvalue'), ('y', 'YY'), ('z', 10)])"
      ]
     },
     "execution_count": 122,
     "metadata": {},
     "output_type": "execute_result"
    }
   ],
   "source": [
    "D.items()"
   ]
  },
  {
   "cell_type": "code",
   "execution_count": 124,
   "metadata": {},
   "outputs": [
    {
     "name": "stdout",
     "output_type": "stream",
     "text": [
      "[1, 3, 'four point nine', 'how', 'are', 6, 'you', 6.8]\n",
      "(1, 3, 4.9, 'name', 3)\n",
      "{1, 3, 4.9, 'name', 23, 56}\n",
      "{23: 'twothree', 'B': 43, 'newkey': 'newvalue', 'y': 'YY', 'z': 10}\n"
     ]
    }
   ],
   "source": [
    "print(L)\n",
    "print(T)\n",
    "print(S)\n",
    "print(D)"
   ]
  },
  {
   "cell_type": "code",
   "execution_count": 129,
   "metadata": {},
   "outputs": [
    {
     "name": "stdout",
     "output_type": "stream",
     "text": [
      "[1, 3, 'four point nine', 'how', 'are', 6, 'you', 6.8]\n",
      "how\n",
      "{23: 'twothree', 'B': 43, 'newkey': 'newvalue', 'y': 'YY', 'z': 10}\n",
      "23 twothree\n",
      "B 43\n",
      "newkey newvalue\n",
      "y YY\n",
      "z 10\n"
     ]
    }
   ],
   "source": [
    "D2={'A':L,'B':T,'C':S,'D':D}\n",
    "print(D2['A'])\n",
    "print(D2['A'][3])\n",
    "k=D2['D']\n",
    "print(k)\n",
    "for x in k:\n",
    "    print(x,k[x])"
   ]
  },
  {
   "cell_type": "code",
   "execution_count": 130,
   "metadata": {},
   "outputs": [
    {
     "name": "stdout",
     "output_type": "stream",
     "text": [
      "<class 'dict'>\n"
     ]
    }
   ],
   "source": [
    "L3=[L,T,D,23,\"game\"]\n",
    "print(type(L3[2]))"
   ]
  },
  {
   "cell_type": "code",
   "execution_count": 136,
   "metadata": {},
   "outputs": [
    {
     "name": "stdout",
     "output_type": "stream",
     "text": [
      "[0, 1, 4, 9, 16, 25, 36, 49, 64, 81]\n"
     ]
    }
   ],
   "source": [
    "L3=[x**2 for x in range(10)]\n",
    "print(L3)"
   ]
  },
  {
   "cell_type": "code",
   "execution_count": 138,
   "metadata": {},
   "outputs": [
    {
     "name": "stdout",
     "output_type": "stream",
     "text": [
      "{64, 121, 289, 196, 4, 25}\n"
     ]
    }
   ],
   "source": [
    "S3={x**2 for x in range(2,20,3)}\n",
    "print(S3)"
   ]
  },
  {
   "cell_type": "markdown",
   "metadata": {},
   "source": [
    "# PRACTICE DATA STRUCTURES"
   ]
  },
  {
   "cell_type": "code",
   "execution_count": 5,
   "metadata": {},
   "outputs": [],
   "source": [
    "\"\"\"Let say you are a teacher and you have different student records containing id of a student and the marks list in each\n",
    "subject where different students have taken different number of subjects.All these records are in hard copy.You want to enter\n",
    "all the data in computer and want to compute the average marks of each student and display\"\"\"\n",
    "\n",
    "def getDataFromUser():\n",
    "    D={}\n",
    "    while True:\n",
    "        studentId=input(\"Enter student ID\")\n",
    "        markslist=input(\"Enter the marks by comma separated values: \")\n",
    "        moreStudents =input('Enter \"no\" to quit insertion: ')\n",
    "        if studentId in D:\n",
    "            print(studentId,\" is already inserted\")\n",
    "        else:\n",
    "            D[studentId]=markslist.split(\",\")\n",
    "        if moreStudents.lower() == \"no\":\n",
    "            return D\n",
    "    "
   ]
  },
  {
   "cell_type": "code",
   "execution_count": 6,
   "metadata": {},
   "outputs": [
    {
     "name": "stdout",
     "output_type": "stream",
     "text": [
      "Enter student ID12\n",
      "Enter the marks by comma separated values: 56,45,13\n",
      "Enter \"no\" to quit insertion: agfgfgh\n",
      "Enter student ID45\n",
      "Enter the marks by comma separated values: 44,55,66,77,4\n",
      "Enter \"no\" to quit insertion: fgfhgj\n",
      "Enter student ID12\n",
      "Enter the marks by comma separated values: 45,45\n",
      "Enter \"no\" to quit insertion: mgbjhh\n",
      "12  is already inserted\n",
      "Enter student ID23\n",
      "Enter the marks by comma separated values: 45,45\n",
      "Enter \"no\" to quit insertion: no\n"
     ]
    }
   ],
   "source": [
    "studentData= getDataFromUser()"
   ]
  },
  {
   "cell_type": "code",
   "execution_count": 7,
   "metadata": {},
   "outputs": [
    {
     "data": {
      "text/plain": [
       "{'12': ['56', '45', '13'],\n",
       " '45': ['44', '55', '66', '77', '4'],\n",
       " '23': ['45', '45']}"
      ]
     },
     "execution_count": 7,
     "metadata": {},
     "output_type": "execute_result"
    }
   ],
   "source": [
    "studentData"
   ]
  },
  {
   "cell_type": "code",
   "execution_count": 12,
   "metadata": {},
   "outputs": [],
   "source": [
    "def getAvgMarks(D):\n",
    "    avgMarks= {}\n",
    "    for x in D:\n",
    "        L=D[x]\n",
    "        s=0\n",
    "        for marks in L:\n",
    "            s+= int(marks)\n",
    "        avgMarks[x] =s/len(L)\n",
    "    return avgMarks"
   ]
  },
  {
   "cell_type": "code",
   "execution_count": 13,
   "metadata": {},
   "outputs": [],
   "source": [
    "avgM = getAvgMarks(studentData)"
   ]
  },
  {
   "cell_type": "code",
   "execution_count": 15,
   "metadata": {},
   "outputs": [
    {
     "name": "stdout",
     "output_type": "stream",
     "text": [
      "Student : 12 got avg marks as: 38.0\n",
      "Student : 45 got avg marks as: 49.2\n",
      "Student : 23 got avg marks as: 45.0\n"
     ]
    }
   ],
   "source": [
    "for x in avgM:\n",
    "    print(\"Student :\",x,\"got avg marks as:\",avgM[x])"
   ]
  },
  {
   "cell_type": "markdown",
   "metadata": {},
   "source": [
    "# Data Science Packages"
   ]
  },
  {
   "cell_type": "markdown",
   "metadata": {},
   "source": [
    "# NUMPY"
   ]
  },
  {
   "cell_type": "code",
   "execution_count": 1,
   "metadata": {},
   "outputs": [],
   "source": [
    "import numpy as np"
   ]
  },
  {
   "cell_type": "code",
   "execution_count": 2,
   "metadata": {},
   "outputs": [
    {
     "name": "stdout",
     "output_type": "stream",
     "text": [
      "[1 2 3 5 7]\n",
      "<class 'numpy.ndarray'>\n",
      "int32\n"
     ]
    }
   ],
   "source": [
    "a=np.array([1,2,3,5,7])    #Defining array by list\n",
    "print(a)\n",
    "print(type(a))     #ndarray means we add as many as dimension in the array(upto n dimension)\n",
    "print(a.dtype)     "
   ]
  },
  {
   "cell_type": "code",
   "execution_count": 71,
   "metadata": {},
   "outputs": [
    {
     "name": "stdout",
     "output_type": "stream",
     "text": [
      "[2 3 5]\n",
      "<class 'numpy.ndarray'>\n",
      "int32\n"
     ]
    }
   ],
   "source": [
    "b=np.array((2,3,5))        #Defining array by tuple\n",
    "print(b)\n",
    "print(type(b))\n",
    "print(b.dtype)"
   ]
  },
  {
   "cell_type": "code",
   "execution_count": 72,
   "metadata": {},
   "outputs": [
    {
     "data": {
      "text/plain": [
       "dtype('int32')"
      ]
     },
     "execution_count": 72,
     "metadata": {},
     "output_type": "execute_result"
    }
   ],
   "source": [
    "a=np.array([1,2,3,5,7],dtype='i')\n",
    "a.dtype"
   ]
  },
  {
   "cell_type": "code",
   "execution_count": 73,
   "metadata": {},
   "outputs": [
    {
     "data": {
      "text/plain": [
       "dtype('float32')"
      ]
     },
     "execution_count": 73,
     "metadata": {},
     "output_type": "execute_result"
    }
   ],
   "source": [
    "b=np.array((2,3,5),dtype='f')\n",
    "b.dtype"
   ]
  },
  {
   "cell_type": "code",
   "execution_count": 74,
   "metadata": {},
   "outputs": [
    {
     "data": {
      "text/plain": [
       "dtype('float64')"
      ]
     },
     "execution_count": 74,
     "metadata": {},
     "output_type": "execute_result"
    }
   ],
   "source": [
    "b=np.array((2,3,5),dtype='float64')\n",
    "b.dtype"
   ]
  },
  {
   "cell_type": "markdown",
   "metadata": {},
   "source": [
    "# NUMPY( DIMENSIONS)"
   ]
  },
  {
   "cell_type": "code",
   "execution_count": 87,
   "metadata": {},
   "outputs": [
    {
     "name": "stdout",
     "output_type": "stream",
     "text": [
      "2\n",
      "(2, 3)\n"
     ]
    }
   ],
   "source": [
    "a=np.array([[1,2,3],[4,5,6]])\n",
    "print(a.ndim)     #ndim is used to find out dimension of array\n",
    "print(a.shape)    #Here shape format is (no. of 1D arrays,no. of elements in each 1D array)"
   ]
  },
  {
   "cell_type": "code",
   "execution_count": 76,
   "metadata": {},
   "outputs": [
    {
     "name": "stdout",
     "output_type": "stream",
     "text": [
      "3\n"
     ]
    }
   ],
   "source": [
    "print(a[0,2])     #Here 0 is used to enter into first array and 2 is used for taking 3 from that array"
   ]
  },
  {
   "cell_type": "code",
   "execution_count": 77,
   "metadata": {},
   "outputs": [
    {
     "name": "stdout",
     "output_type": "stream",
     "text": [
      "2\n"
     ]
    }
   ],
   "source": [
    "c = np.array([[1,2,3,-1],[2,4,5,9]])\n",
    "print(c.ndim)"
   ]
  },
  {
   "cell_type": "code",
   "execution_count": 78,
   "metadata": {},
   "outputs": [
    {
     "name": "stdout",
     "output_type": "stream",
     "text": [
      "5\n"
     ]
    }
   ],
   "source": [
    "print(c[1,2])"
   ]
  },
  {
   "cell_type": "code",
   "execution_count": 81,
   "metadata": {},
   "outputs": [
    {
     "name": "stdout",
     "output_type": "stream",
     "text": [
      "3\n"
     ]
    }
   ],
   "source": [
    "d=np.array([[[1,2,3],[4,5,6],[0,0,-1]],[[-1,-2,-3],[-4,-5,-6],[0,0,1]]])     #Array of 2D array is 3D array    \n",
    "\"\"\"Here in the given example,it is 3D array which contains 2 2D array and that each 2D array contains 3 1D arrays and lastly\n",
    "each 1D array contains 3 elements\"\"\"\n",
    "print(d.ndim)"
   ]
  },
  {
   "cell_type": "code",
   "execution_count": 80,
   "metadata": {},
   "outputs": [
    {
     "name": "stdout",
     "output_type": "stream",
     "text": [
      "-3\n"
     ]
    }
   ],
   "source": [
    "print(d[1,0,2])"
   ]
  },
  {
   "cell_type": "code",
   "execution_count": 86,
   "metadata": {},
   "outputs": [
    {
     "name": "stdout",
     "output_type": "stream",
     "text": [
      "(2, 3, 3)\n",
      "2\n",
      "3\n",
      "3\n"
     ]
    }
   ],
   "source": [
    "d=np.array([[[1,2,3],[4,5,6],[0,0,-1]],[[-1,-2,-3],[-4,-5,-6],[0,0,1]]])\n",
    "print(d.shape)  #Here shape format is (no. of 2D array,no. of 1D array in each 2D array,no. of elements in each 1D array)\n",
    "print(d.shape[0])\n",
    "print(d.shape[1])\n",
    "print(d.shape[2])"
   ]
  },
  {
   "cell_type": "code",
   "execution_count": 90,
   "metadata": {},
   "outputs": [
    {
     "name": "stdout",
     "output_type": "stream",
     "text": [
      "1\n"
     ]
    }
   ],
   "source": [
    "# NOTE:-\n",
    "x=np.array([1])\n",
    "print(x.ndim)    #Here array is of 1D"
   ]
  },
  {
   "cell_type": "code",
   "execution_count": 92,
   "metadata": {},
   "outputs": [
    {
     "name": "stdout",
     "output_type": "stream",
     "text": [
      "0\n"
     ]
    }
   ],
   "source": [
    "# NOTE:-\n",
    "y=np.array(3)\n",
    "print(y.ndim)   #Here array is of 0D"
   ]
  },
  {
   "cell_type": "markdown",
   "metadata": {},
   "source": [
    "# DAY 8"
   ]
  },
  {
   "cell_type": "code",
   "execution_count": 2,
   "metadata": {},
   "outputs": [
    {
     "name": "stdout",
     "output_type": "stream",
     "text": [
      "[[[ 1  2  3]\n",
      "  [ 4  5  6]\n",
      "  [ 0  0 -1]]\n",
      "\n",
      " [[-1 -2 -3]\n",
      "  [-4 -5 -6]\n",
      "  [ 0  0  1]]]\n"
     ]
    },
    {
     "data": {
      "text/plain": [
       "18"
      ]
     },
     "execution_count": 2,
     "metadata": {},
     "output_type": "execute_result"
    }
   ],
   "source": [
    "import numpy as np\n",
    "d=np.array([[[1,2,3],[4,5,6],[0,0,-1]],[[-1,-2,-3],[-4,-5,-6],[0,0,1]]])\n",
    "print(d)\n",
    "d.size     #defines total no. of elements in an array"
   ]
  },
  {
   "cell_type": "code",
   "execution_count": 7,
   "metadata": {},
   "outputs": [
    {
     "data": {
      "text/plain": [
       "72"
      ]
     },
     "execution_count": 7,
     "metadata": {},
     "output_type": "execute_result"
    }
   ],
   "source": [
    "d.nbytes    #Doubt:-Not Understand"
   ]
  },
  {
   "cell_type": "markdown",
   "metadata": {},
   "source": [
    "# NUMPY(Functions)"
   ]
  },
  {
   "cell_type": "code",
   "execution_count": 3,
   "metadata": {},
   "outputs": [
    {
     "name": "stdout",
     "output_type": "stream",
     "text": [
      "['' '' '' '' '' '' '' '' '' '']\n",
      "[0. 0. 0. 0. 0. 0. 0. 0. 0. 0.]\n",
      "[0 0 0 0 0 0 0 0 0 0]\n"
     ]
    }
   ],
   "source": [
    "a=np.zeros(10,dtype='str',order='C')\n",
    "print(a)\n",
    "b=np.zeros(10,dtype='float',order='F')\n",
    "print(b)\n",
    "c=np.zeros(10,dtype='int',order='C')\n",
    "print(c)"
   ]
  },
  {
   "cell_type": "code",
   "execution_count": 125,
   "metadata": {},
   "outputs": [
    {
     "name": "stdout",
     "output_type": "stream",
     "text": [
      "[['1' '1']\n",
      " ['1' '1']\n",
      " ['1' '1']\n",
      " ['1' '1']\n",
      " ['1' '1']]\n"
     ]
    }
   ],
   "source": [
    "b=np.ones((5,2),dtype=\"str\",order=\"F\")\n",
    "print(b)"
   ]
  },
  {
   "cell_type": "code",
   "execution_count": 127,
   "metadata": {},
   "outputs": [
    {
     "name": "stdout",
     "output_type": "stream",
     "text": [
      "[[1. 1. 1. 1. 1.]\n",
      " [1. 1. 1. 1. 1.]]\n"
     ]
    }
   ],
   "source": [
    "b=np.ones((2,5),dtype=\"float\")\n",
    "print(b)"
   ]
  },
  {
   "cell_type": "code",
   "execution_count": 45,
   "metadata": {},
   "outputs": [
    {
     "name": "stdout",
     "output_type": "stream",
     "text": [
      "[ 0  1  2  3  4  5  6  7  8  9 10 11 12 13 14 15 16 17 18 19 20 21 22 23\n",
      " 24 25 26 27 28 29 30 31 32 33 34 35 36 37 38 39 40 41 42 43 44 45 46 47\n",
      " 48 49 50 51 52 53 54 55 56 57 58 59 60 61 62 63 64 65 66 67 68 69 70 71\n",
      " 72 73 74 75 76 77 78 79 80 81 82 83 84 85 86 87 88 89 90 91 92 93 94 95\n",
      " 96 97 98 99]\n"
     ]
    }
   ],
   "source": [
    "A=np.arange(100)\n",
    "print(A)"
   ]
  },
  {
   "cell_type": "code",
   "execution_count": 47,
   "metadata": {},
   "outputs": [
    {
     "name": "stdout",
     "output_type": "stream",
     "text": [
      "[20 21 22 23 24 25 26 27 28 29 30 31 32 33 34 35 36 37 38 39 40 41 42 43\n",
      " 44 45 46 47 48 49 50 51 52 53 54 55 56 57 58 59 60 61 62 63 64 65 66 67\n",
      " 68 69 70 71 72 73 74 75 76 77 78 79 80 81 82 83 84 85 86 87 88 89 90 91\n",
      " 92 93 94 95 96 97 98 99]\n"
     ]
    }
   ],
   "source": [
    "A=np.arange(20,100)\n",
    "print(A)"
   ]
  },
  {
   "cell_type": "code",
   "execution_count": 48,
   "metadata": {},
   "outputs": [
    {
     "name": "stdout",
     "output_type": "stream",
     "text": [
      "[20 23 26 29 32 35 38 41 44 47 50 53 56 59 62 65 68 71 74 77 80 83 86 89\n",
      " 92 95 98]\n"
     ]
    }
   ],
   "source": [
    "A=np.arange(20,100,3)\n",
    "print(A)"
   ]
  },
  {
   "cell_type": "code",
   "execution_count": 51,
   "metadata": {},
   "outputs": [
    {
     "name": "stdout",
     "output_type": "stream",
     "text": [
      "range(0, 10)\n",
      "[0, 1, 2, 3, 4, 5, 6, 7, 8, 9]\n"
     ]
    }
   ],
   "source": [
    "#NOTE:-\n",
    "#ITERATOR\n",
    "print(range(10))\n",
    "print(list(range(10)))"
   ]
  },
  {
   "cell_type": "code",
   "execution_count": 4,
   "metadata": {},
   "outputs": [
    {
     "name": "stdout",
     "output_type": "stream",
     "text": [
      "[4 3 6 5 2 8 7 1 9 0]\n",
      "<class 'numpy.ndarray'>\n"
     ]
    }
   ],
   "source": [
    "A=np.random.permutation(np.arange(10))\n",
    "print(A)\n",
    "print(type(A))"
   ]
  },
  {
   "cell_type": "code",
   "execution_count": 5,
   "metadata": {},
   "outputs": [
    {
     "name": "stdout",
     "output_type": "stream",
     "text": [
      "27\n",
      "<class 'int'>\n"
     ]
    }
   ],
   "source": [
    "v=np.random.randint(20,30)   #it return random value between low and high value every time when the cell is run\n",
    "print(v)\n",
    "print(type(v))"
   ]
  },
  {
   "cell_type": "code",
   "execution_count": 3,
   "metadata": {},
   "outputs": [
    {
     "name": "stdout",
     "output_type": "stream",
     "text": [
      "[6.01134978e-01 1.52470704e-02 8.01341979e-01 7.98641287e-01\n",
      " 7.57596715e-01 3.52468663e-01 6.36984983e-01 5.02320469e-01\n",
      " 7.46440075e-01 2.35413339e-01 9.74984299e-01 2.10218445e-02\n",
      " 3.83128512e-01 1.93455330e-01 7.52981856e-01 6.36022718e-01\n",
      " 6.55846515e-01 9.32417378e-01 3.60374855e-01 7.03064870e-01\n",
      " 1.44127619e-01 1.17873690e-01 2.14098062e-01 1.16476540e-01\n",
      " 2.14599473e-02 9.36352466e-01 8.15505779e-01 8.17442496e-01\n",
      " 6.51574694e-01 3.86248860e-01 2.79571974e-01 9.44472430e-01\n",
      " 4.62244978e-02 7.60527645e-01 3.88822863e-01 1.28542299e-01\n",
      " 1.63639159e-02 5.00860038e-01 4.30102157e-01 2.55659320e-01\n",
      " 7.86838352e-01 6.90616453e-01 9.53222214e-01 8.35137457e-01\n",
      " 4.03947849e-01 3.36195007e-01 9.13039607e-01 8.64565918e-01\n",
      " 6.36297340e-01 4.43181788e-01 9.76033678e-01 8.49926119e-01\n",
      " 5.53730990e-01 8.11101628e-01 9.69576417e-03 3.01996085e-01\n",
      " 9.25177073e-01 7.26819916e-02 4.72387560e-01 9.38181525e-01\n",
      " 6.53133596e-01 5.41466340e-01 9.29919754e-01 3.70182784e-01\n",
      " 3.27719841e-01 1.27557389e-01 1.14157064e-02 5.67601362e-01\n",
      " 4.56738102e-01 7.22083184e-03 3.48729334e-01 9.89181795e-01\n",
      " 4.84449587e-02 8.26807039e-01 5.05440250e-01 2.88891925e-01\n",
      " 3.10149439e-01 6.57693262e-01 6.08483531e-01 5.76298584e-01\n",
      " 4.27042371e-01 6.52258479e-01 1.55820409e-01 6.06075905e-01\n",
      " 1.86027547e-02 1.56201533e-01 6.41596995e-02 2.52342324e-02\n",
      " 8.00957374e-01 7.39904338e-01 1.35625960e-01 7.72743067e-01\n",
      " 6.60906857e-01 5.38012476e-01 1.82977097e-01 3.66825640e-01\n",
      " 2.03076813e-01 4.48772953e-01 8.72090848e-01 3.65598799e-02\n",
      " 5.84416504e-01 1.43319918e-01 3.71462272e-01 8.82006653e-01\n",
      " 6.25073407e-01 4.02624230e-01 8.82671328e-01 6.05920777e-01\n",
      " 4.83344051e-01 9.32211568e-02 7.43018897e-01 9.66073746e-01\n",
      " 9.51692461e-01 7.97485941e-01 1.39331411e-01 6.46983214e-01\n",
      " 9.28047081e-01 2.84343104e-01 9.97007416e-02 8.31288480e-01\n",
      " 2.97182854e-01 5.12855408e-01 4.63498628e-01 2.16921474e-01\n",
      " 2.69569804e-01 3.05192677e-01 6.11429209e-01 7.87927452e-01\n",
      " 6.44862944e-01 9.12001489e-01 9.62486961e-01 2.21392741e-01\n",
      " 5.21054053e-01 6.53976682e-01 4.37261840e-01 9.06149070e-01\n",
      " 6.54326229e-01 6.72267038e-01 7.94223237e-02 9.62726590e-01\n",
      " 5.34864121e-01 2.57633221e-01 7.21418788e-01 8.28043689e-01\n",
      " 9.09399971e-01 8.87380936e-01 7.86515083e-01 9.97131104e-01\n",
      " 9.55740537e-01 9.41770905e-01 7.85500591e-01 8.75359129e-01\n",
      " 3.81855144e-01 9.53511167e-02 9.87373472e-01 8.86759185e-01\n",
      " 9.71550500e-01 5.22680466e-01 5.31845939e-01 8.24010943e-01\n",
      " 4.05988091e-01 9.06609344e-01 5.43898702e-03 7.30733584e-01\n",
      " 3.12200908e-01 9.36147588e-01 9.09281838e-01 1.95913953e-01\n",
      " 9.98977828e-01 4.35613552e-01 1.69824696e-01 6.40850381e-01\n",
      " 7.90223254e-01 7.30953558e-01 8.67392402e-02 6.04629036e-01\n",
      " 7.33007457e-01 7.39771576e-01 9.19616439e-01 1.14778098e-01\n",
      " 2.44615890e-01 5.69549359e-01 9.40476571e-01 7.61649421e-01\n",
      " 3.29714647e-01 1.84019860e-01 6.97575931e-01 2.30288126e-01\n",
      " 2.69813069e-01 4.43513255e-01 8.40545956e-01 9.79639993e-01\n",
      " 9.58084404e-01 4.17452303e-01 3.68691571e-01 5.88747336e-01\n",
      " 8.14015251e-01 3.57697695e-01 6.35675920e-01 3.96241431e-02\n",
      " 6.21528325e-01 4.46776507e-01 4.44590199e-01 9.61238534e-01\n",
      " 9.69366940e-01 7.33978799e-01 7.37940053e-01 8.09504664e-01\n",
      " 2.11972538e-01 8.36831696e-01 6.67290429e-01 4.97474002e-01\n",
      " 5.75080825e-01 9.39064989e-01 5.04830852e-02 1.48419200e-01\n",
      " 3.44431618e-01 7.31167455e-02 6.94417056e-01 9.06913775e-01\n",
      " 4.34394974e-01 7.38625353e-01 4.92807172e-01 7.60421974e-01\n",
      " 1.33750494e-01 9.86461838e-02 8.22149177e-01 8.94163018e-01\n",
      " 7.16151735e-01 6.60313874e-01 4.32476102e-01 5.21172390e-01\n",
      " 1.51131445e-01 5.90393089e-01 1.44266726e-01 3.87324431e-01\n",
      " 4.30087831e-01 5.22936712e-01 4.64053591e-01 7.20801454e-01\n",
      " 7.02305048e-01 6.87864957e-01 8.09555445e-01 9.47903393e-02\n",
      " 9.35533400e-01 3.82371180e-01 7.66010551e-01 9.62895167e-01\n",
      " 7.91718533e-01 1.41198062e-01 7.72014832e-01 1.49100004e-01\n",
      " 7.47088300e-01 9.03306146e-01 6.92784690e-01 5.53664706e-01\n",
      " 7.04170376e-01 5.63049693e-01 7.85053443e-01 8.53075914e-01\n",
      " 9.61498614e-01 2.44397622e-01 3.17298939e-01 2.57885122e-01\n",
      " 3.43676756e-01 2.39799947e-01 1.06981900e-01 8.34503915e-02\n",
      " 4.75435555e-02 7.71831652e-01 2.11830968e-01 7.95681529e-02\n",
      " 7.10219186e-01 6.84684805e-01 4.77712636e-01 6.15679764e-01\n",
      " 9.37719332e-01 8.88069049e-01 8.27688702e-01 1.60477297e-01\n",
      " 9.07883542e-02 5.17967609e-01 1.49171793e-02 8.34735844e-01\n",
      " 3.90107484e-01 6.36300219e-01 4.78943447e-01 9.07501330e-01\n",
      " 5.15321533e-01 5.55578354e-01 5.77661449e-01 8.63839490e-01\n",
      " 6.86027759e-01 3.87853649e-04 2.69767767e-01 9.48954846e-01\n",
      " 4.06950087e-01 3.39109061e-01 7.48983205e-01 3.47081746e-01\n",
      " 7.86877817e-01 7.82739848e-01 5.57805948e-01 7.69173033e-01\n",
      " 5.28966343e-02 9.43271709e-02 2.66991007e-01 7.57468317e-01\n",
      " 1.11524051e-01 7.17019827e-01 5.47816066e-01 7.47074714e-01\n",
      " 1.65255324e-01 2.82462615e-01 7.34788549e-01 4.35928908e-01\n",
      " 4.06082580e-01 3.74910921e-01 5.98625459e-01 7.26862776e-01\n",
      " 1.59243320e-01 1.56796769e-01 5.62194602e-01 3.84367738e-01\n",
      " 3.83364400e-01 4.33315003e-01 5.58351174e-02 3.77234678e-01\n",
      " 3.37979660e-01 4.25081747e-01 6.89703896e-01 7.17311899e-01\n",
      " 6.40630422e-01 3.70992703e-01 4.80295962e-01 8.11376958e-01\n",
      " 7.46817578e-02 8.22804236e-01 6.60867346e-01 2.40914639e-01\n",
      " 5.67310294e-01 1.90089533e-02 8.77670561e-01 6.50845468e-01\n",
      " 6.95182743e-01 9.57779458e-01 2.48773265e-01 7.78884232e-01\n",
      " 5.89260024e-01 6.34642299e-01 2.45176455e-02 8.02939523e-03\n",
      " 3.22897316e-01 9.73155283e-01 3.03348739e-01 5.81188211e-01\n",
      " 3.17154148e-01 8.90146510e-01 8.12882999e-01 2.84783214e-01\n",
      " 6.65203777e-01 1.00325739e-01 2.95767727e-01 3.88733983e-01\n",
      " 9.99127375e-01 8.68441441e-01 3.41800907e-01 7.15167609e-02\n",
      " 1.45247091e-01 3.17324688e-01 5.21940842e-01 2.04387706e-01\n",
      " 4.24038173e-02 3.68263795e-01 5.10913224e-02 7.35110208e-01\n",
      " 4.86851882e-01 5.91759575e-01 3.33966007e-02 5.93445310e-01\n",
      " 3.60375761e-01 4.86168679e-01 7.27995647e-01 9.30746731e-02\n",
      " 1.48968321e-01 7.20387836e-01 2.23461468e-01 3.22751242e-01\n",
      " 4.53840931e-01 8.66223418e-01 6.55852345e-01 2.45739744e-01\n",
      " 9.33892050e-01 6.91560781e-01 3.09256544e-01 9.66442526e-01\n",
      " 6.20664802e-01 6.23891290e-01 6.25143045e-01 6.55271531e-01\n",
      " 3.41470064e-01 3.24937282e-02 3.17667880e-01 3.10228720e-01\n",
      " 1.43704077e-01 4.36993900e-01 2.71570615e-02 5.20283540e-02\n",
      " 1.40665712e-02 1.27385706e-01 3.44862703e-01 9.84203661e-01\n",
      " 4.24472591e-01 8.07575602e-01 5.12495711e-01 3.03304253e-01\n",
      " 2.45106363e-01 7.72242860e-01 6.97044311e-01 2.11084703e-01\n",
      " 8.72023593e-01 2.53682318e-01 6.56586900e-01 2.21559693e-02\n",
      " 5.22200245e-01 1.10039991e-01 1.81435929e-01 1.78148113e-01\n",
      " 9.12829769e-01 4.02553885e-01 2.74299842e-01 1.63521193e-01\n",
      " 8.02606799e-02 6.32419088e-01 6.53858989e-02 4.28551811e-01\n",
      " 9.52302999e-01 5.80054412e-01 5.63567139e-02 5.82870832e-01\n",
      " 6.90188096e-01 2.39249017e-01 7.65678838e-01 3.54171532e-01\n",
      " 2.86450021e-01 5.14099519e-01 3.98545304e-01 4.37163359e-02\n",
      " 9.69968971e-01 4.25292369e-01 1.11070063e-01 8.31951270e-01\n",
      " 3.60563467e-02 1.83445741e-01 4.49547925e-01 5.18094017e-01\n",
      " 1.42414313e-01 8.42502389e-01 6.92721439e-01 1.30281503e-01\n",
      " 6.27756509e-01 5.64175865e-01 7.41289098e-01 4.82260572e-01\n",
      " 3.26541068e-01 2.91220378e-01 9.59038313e-01 7.81105598e-01\n",
      " 9.54622320e-01 7.54256253e-01 8.60816185e-01 1.49318420e-01\n",
      " 4.08567867e-01 7.00318699e-02 2.57713928e-01 1.27396586e-01\n",
      " 7.40393879e-01 6.16908413e-01 7.82780067e-01 7.47618824e-02\n",
      " 3.00633165e-01 9.07260366e-01 3.27824770e-01 8.84080144e-02\n",
      " 1.86035967e-01 3.67085172e-01 5.51950483e-01 1.74970454e-02\n",
      " 5.48112617e-01 9.10889291e-02 1.03215879e-01 9.90090003e-01\n",
      " 8.58085843e-01 9.87808156e-01 5.02171466e-01 3.39383993e-02\n",
      " 3.91684325e-01 3.44267080e-01 1.60608726e-01 3.31894852e-01\n",
      " 7.18624058e-01 8.20718309e-01 8.58356707e-03 6.76612613e-01\n",
      " 4.32675793e-01 3.13129312e-01 1.59324131e-01 3.10437409e-02\n",
      " 1.84596650e-01 4.17812531e-01 8.85479747e-02 2.79864632e-01\n",
      " 7.69725137e-01 5.75500630e-01 1.29041091e-01 6.43817666e-01\n",
      " 1.67607928e-01 3.77713513e-01 9.95564282e-02 9.77108535e-01\n",
      " 4.25327840e-01 4.09710877e-01 7.58190617e-01 2.39485228e-01\n",
      " 9.09738361e-01 4.74497974e-01 5.53499645e-01 2.22128612e-01\n",
      " 2.38136244e-02 3.25808177e-01 6.85033974e-01 9.56526727e-01\n",
      " 3.56460283e-02 5.23118974e-01 2.72433162e-01 6.21895560e-01\n",
      " 5.02618138e-01 7.68901400e-01 6.34535076e-01 5.07356328e-01\n",
      " 5.29854066e-02 2.94996397e-02 8.22267429e-01 2.47136943e-01\n",
      " 4.30189791e-02 8.41712892e-01 1.53804211e-01 5.01073726e-01\n",
      " 2.53971898e-01 9.82418409e-01 4.72469065e-01 6.32631741e-01\n",
      " 8.33252562e-01 9.29563284e-01 7.60027548e-01 1.16167645e-03\n",
      " 9.77534165e-02 7.67537896e-01 4.73429966e-01 8.25308353e-01\n",
      " 8.50135325e-01 6.26973336e-01 1.50892271e-01 3.21488739e-01\n",
      " 1.66467003e-01 3.48280204e-01 7.98565972e-01 4.47399424e-01\n",
      " 5.07752572e-01 9.28555939e-01 9.37011787e-01 1.89660086e-01\n",
      " 4.33418130e-02 1.56469385e-01 4.47355205e-01 8.77263571e-01\n",
      " 7.72428934e-01 7.04139463e-01 9.66086329e-01 7.68999788e-01\n",
      " 7.92746237e-01 2.84432220e-02 6.52426232e-01 3.15732939e-01\n",
      " 2.25192917e-01 1.17956768e-01 9.25675057e-01 9.31274709e-01\n",
      " 5.83741205e-01 2.74413592e-03 8.96334421e-01 2.81006116e-01\n",
      " 5.09629720e-01 9.23035604e-01 6.17925343e-01 8.76514868e-01\n",
      " 1.75246250e-01 2.48438246e-01 6.79321253e-01 3.57571050e-01\n",
      " 9.06095342e-01 2.77616066e-01 2.03285537e-01 6.20072052e-01\n",
      " 8.19598924e-01 8.10000704e-01 3.35539533e-01 6.76583259e-01\n",
      " 5.53196931e-01 1.19124370e-01 9.04454638e-01 3.16060764e-01\n",
      " 4.34733025e-01 5.71126512e-01 5.06183120e-01 2.14925549e-01\n",
      " 2.17427437e-01 7.89507924e-02 4.75549894e-01 4.56976667e-01\n",
      " 4.97568689e-01 6.01538921e-02 1.56175066e-01 1.93545465e-02\n",
      " 7.54444246e-01 2.78492275e-01 5.85228351e-01 9.56727856e-01\n",
      " 1.49116607e-01 3.57725348e-01 3.38549638e-02 7.49248945e-01\n",
      " 2.39784379e-01 9.95423722e-01 5.22464257e-01 3.63191740e-01\n",
      " 7.43423118e-01 3.73214109e-01 6.62694671e-01 2.39730941e-01\n",
      " 3.71373891e-02 3.15334005e-01 2.20624637e-01 5.58639907e-01\n",
      " 3.30417378e-01 2.95769428e-01 1.25651222e-01 7.47886559e-01\n",
      " 2.49663085e-02 7.57853576e-01 7.80418945e-01 3.02809639e-01\n",
      " 7.79303005e-01 3.53765200e-01 1.64755909e-02 1.35563173e-01\n",
      " 4.30575952e-01 8.98499833e-01 7.53382996e-01 1.87380039e-01\n",
      " 5.89067877e-01 5.98905040e-01 2.45908838e-01 1.32363307e-01\n",
      " 5.60947313e-01 9.30555335e-01 6.99969481e-01 1.10825806e-01\n",
      " 3.50491019e-01 4.60369275e-01 5.26295241e-01 3.25978377e-01\n",
      " 2.41473739e-01 3.70210412e-01 3.77087519e-01 3.38849469e-01\n",
      " 5.10807903e-01 4.87800648e-01 8.01317891e-01 9.94786942e-01\n",
      " 7.67230797e-01 2.09057173e-01 8.98224396e-02 2.88333311e-01\n",
      " 7.41111781e-01 1.19531280e-01 7.26678014e-01 9.27508890e-02\n",
      " 1.30170723e-01 4.05419987e-02 8.77133853e-01 3.17963648e-01\n",
      " 4.79221174e-01 1.47952661e-01 8.37658414e-03 7.40137040e-01\n",
      " 4.75160774e-01 2.53913660e-01 2.68552748e-01 3.74478489e-01\n",
      " 7.77596770e-01 6.28231546e-01 3.55962457e-01 6.60051229e-01\n",
      " 1.37940107e-02 8.46621385e-01 9.67976475e-01 8.97135848e-01\n",
      " 8.72338129e-01 3.96223285e-01 8.41636734e-02 5.42722639e-01\n",
      " 1.56029824e-01 3.92152302e-01 8.15372888e-01 9.20102328e-01\n",
      " 2.67404279e-01 3.85482413e-01 3.33738464e-01 2.17450799e-01\n",
      " 9.65465940e-01 1.92961993e-01 1.04297689e-01 7.72148891e-01\n",
      " 8.99633126e-02 1.76550452e-01 6.90127643e-01 4.13036156e-01\n",
      " 1.98412423e-01 5.88115699e-01 4.52219944e-01 3.25287227e-01\n",
      " 5.95116983e-01 9.57135032e-01 1.96271741e-02 3.42974647e-01\n",
      " 3.18452522e-01 7.02395581e-01 4.33261919e-01 8.66897187e-01\n",
      " 7.92112984e-01 4.14922826e-01 6.54261610e-01 1.05364498e-02\n",
      " 2.24629831e-01 2.90107219e-01 1.25619945e-01 8.32841544e-01\n",
      " 5.24154394e-02 4.46080430e-01 6.51636415e-01 5.89690550e-02\n",
      " 2.68997821e-01 4.08236680e-01 3.54060940e-01 8.12240104e-01\n",
      " 6.20415375e-02 6.76851924e-01 6.13265280e-01 9.01466846e-01\n",
      " 8.44773340e-01 9.32640368e-01 3.24004319e-01 9.03388139e-01\n",
      " 7.06359712e-01 5.18701469e-01 7.09026152e-01 3.37687183e-01\n",
      " 4.17619654e-01 1.27959809e-01 2.24917811e-01 3.63037512e-01\n",
      " 5.03625777e-01 4.24489681e-01 7.45699228e-01 7.55663049e-01\n",
      " 9.80364378e-01 1.27438383e-01 5.20653730e-01 6.08865819e-01\n",
      " 6.66814268e-01 9.94720115e-01 8.80397922e-01 1.76082309e-01\n",
      " 7.44028302e-01 5.18284649e-01 7.76763121e-01 5.45992184e-01\n",
      " 6.74923410e-01 5.47422963e-01 6.01621943e-01 1.73867503e-01\n",
      " 3.50913689e-01 5.32961549e-01 1.87980176e-01 3.36360251e-01\n",
      " 2.28108338e-01 5.37809462e-01 6.86444836e-01 5.10071561e-01\n",
      " 7.11982597e-01 4.96790076e-01 3.23115418e-01 3.63675139e-01\n",
      " 9.38550757e-01 6.19476197e-01 5.40732431e-01 2.45885603e-01\n",
      " 6.89736275e-01 1.67073585e-01 4.52208401e-02 1.27250095e-01\n",
      " 6.97119970e-02 9.53157161e-01 9.61081733e-01 8.48545974e-01\n",
      " 1.52367479e-02 4.09190797e-01 1.33118236e-01 1.36644397e-01\n",
      " 5.84324989e-01 4.05548758e-01 9.07485663e-01 6.15021422e-01\n",
      " 9.23510698e-01 9.01931933e-01 2.02469506e-03 4.43007345e-01\n",
      " 4.37256783e-01 7.45331283e-01 7.04279889e-01 8.41535441e-01\n",
      " 5.46750562e-01 7.72407508e-01 2.97396968e-01 5.88113462e-01\n",
      " 6.04208261e-01 9.32941715e-01 5.45997964e-01 9.16044790e-01\n",
      " 4.08696141e-01 1.14179103e-01 3.59473463e-01 8.88566709e-01\n",
      " 7.01721809e-01 4.30292114e-01 3.67282771e-01 2.06630486e-01\n",
      " 2.89649990e-01 5.67270395e-01 3.75619019e-01 1.81648570e-01\n",
      " 8.83422851e-02 1.33511602e-01 7.69189906e-01 8.45928474e-01\n",
      " 1.32971619e-01 1.36284597e-01 3.47072815e-01 9.91588217e-01\n",
      " 4.41111838e-01 3.77748731e-02 7.47666258e-01 3.00015038e-01\n",
      " 1.59652837e-01 8.96709246e-02 1.68302022e-01 2.44456627e-02\n",
      " 4.48951571e-01 6.21088789e-01 2.42987556e-01 9.23477729e-01\n",
      " 7.36543300e-01 1.55961773e-01 9.00149457e-01 9.83552620e-01\n",
      " 3.77228820e-01 1.20650197e-01 6.40536088e-01 1.84687494e-01\n",
      " 2.53917816e-01 5.10011084e-01 7.35095784e-01 3.90606218e-01\n",
      " 5.84807119e-01 5.41164569e-01 7.40107001e-01 5.68114674e-01\n",
      " 6.36068523e-01 1.53453024e-02 6.69375381e-01 9.25610298e-01\n",
      " 4.13952112e-01 7.98714514e-01 1.57515677e-01 6.36501860e-01\n",
      " 5.53697146e-01 6.48995565e-01 9.09686450e-01 7.78214106e-01\n",
      " 5.00129349e-01 4.99974287e-01 3.72506611e-01 4.32411400e-02\n",
      " 6.64144496e-01 7.58721144e-01 7.06467659e-01 6.60353322e-01\n",
      " 1.37519494e-01 3.18891119e-01 1.30347853e-01 7.69207712e-01\n",
      " 7.76434335e-01 7.85243331e-01 2.74397618e-01 1.72694200e-01\n",
      " 3.65240104e-01 9.32536143e-01 5.50987534e-01 4.22170564e-01\n",
      " 5.99367612e-01 7.13699603e-01 2.27815833e-01 7.50304696e-01\n",
      " 3.00771104e-01 8.19155702e-01 4.52235615e-01 1.88298743e-01\n",
      " 7.75823862e-01 1.15958531e-01 2.73477590e-01 5.17811597e-01\n",
      " 5.06268448e-01 1.58002314e-01 4.85902456e-01 7.96025629e-01\n",
      " 7.32869119e-01 1.73977087e-01 7.06707160e-01 9.49881966e-01\n",
      " 2.84996552e-01 4.13131938e-01 4.72145131e-01 9.41046434e-01\n",
      " 7.22431625e-02 2.79397201e-01 4.46647010e-01 7.87735489e-01\n",
      " 5.58329750e-01 7.89366669e-01 5.14746416e-02 2.77522259e-01\n",
      " 5.29149600e-01 2.71260165e-01 1.90189912e-01 6.35098166e-01\n",
      " 1.83878561e-01 3.78174829e-01 4.31408214e-01 9.43574372e-01\n",
      " 9.60680500e-02 6.43497685e-01 4.78753467e-01 9.71617850e-02\n",
      " 5.25746963e-01 4.52698158e-02 7.41669644e-01 9.50439379e-01\n",
      " 7.18533428e-01 8.63731895e-01 5.29572306e-01 4.05578419e-01\n",
      " 1.55941664e-01 2.25045047e-01 1.93236349e-01 2.27113675e-01\n",
      " 2.26411877e-01 3.51776198e-01 4.11105626e-01 9.58807809e-01\n",
      " 8.19463814e-01 4.56518524e-01 2.13298344e-01 8.53892220e-01\n",
      " 5.09090894e-01 7.49872990e-01 7.96422304e-04 5.61006591e-01\n",
      " 2.96947275e-01 1.77398058e-01 6.96949272e-01 7.51632842e-01\n",
      " 7.30377304e-01 2.38257886e-01 8.65665106e-01 4.19946814e-01\n",
      " 9.72418208e-01 9.10439254e-01 9.65719277e-01 2.96035740e-01]\n",
      "<class 'numpy.ndarray'>\n"
     ]
    }
   ],
   "source": [
    "A=np.random.rand(1000)     #rand function only gives value between 0 and 1\n",
    "print(A)\n",
    "print(type(A))"
   ]
  },
  {
   "cell_type": "code",
   "execution_count": 4,
   "metadata": {},
   "outputs": [
    {
     "data": {
      "text/plain": [
       "(array([11., 15., 11., 11., 11., 11.,  5., 10.,  9., 14.,  5., 11., 12.,\n",
       "        13., 13., 16.,  9.,  8., 13.,  6.,  5.,  9., 12.,  8., 12.,  8.,\n",
       "         7., 11.,  9.,  8.,  9., 14., 12., 10., 11., 12., 11., 14., 10.,\n",
       "         6., 13.,  8.,  9., 16., 13.,  6.,  3., 11.,  7.,  4., 15., 12.,\n",
       "        13.,  5., 10., 11., 10.,  5., 13.,  7.,  8.,  7., 11., 12.,  8.,\n",
       "        14., 11.,  6.,  5., 13., 12.,  8.,  6., 12., 20., 13., 13., 15.,\n",
       "        13.,  9.,  4., 12., 11.,  7.,  8.,  5.,  8.,  8.,  7.,  5., 13.,\n",
       "         9., 10., 17.,  6., 15., 12.,  8.,  7.,  9.]),\n",
       " array([3.87853649e-04, 1.03752489e-02, 2.03626441e-02, 3.03500393e-02,\n",
       "        4.03374345e-02, 5.03248297e-02, 6.03122249e-02, 7.02996201e-02,\n",
       "        8.02870153e-02, 9.02744106e-02, 1.00261806e-01, 1.10249201e-01,\n",
       "        1.20236596e-01, 1.30223991e-01, 1.40211387e-01, 1.50198782e-01,\n",
       "        1.60186177e-01, 1.70173572e-01, 1.80160967e-01, 1.90148363e-01,\n",
       "        2.00135758e-01, 2.10123153e-01, 2.20110548e-01, 2.30097944e-01,\n",
       "        2.40085339e-01, 2.50072734e-01, 2.60060129e-01, 2.70047524e-01,\n",
       "        2.80034920e-01, 2.90022315e-01, 3.00009710e-01, 3.09997105e-01,\n",
       "        3.19984500e-01, 3.29971896e-01, 3.39959291e-01, 3.49946686e-01,\n",
       "        3.59934081e-01, 3.69921476e-01, 3.79908872e-01, 3.89896267e-01,\n",
       "        3.99883662e-01, 4.09871057e-01, 4.19858453e-01, 4.29845848e-01,\n",
       "        4.39833243e-01, 4.49820638e-01, 4.59808033e-01, 4.69795429e-01,\n",
       "        4.79782824e-01, 4.89770219e-01, 4.99757614e-01, 5.09745009e-01,\n",
       "        5.19732405e-01, 5.29719800e-01, 5.39707195e-01, 5.49694590e-01,\n",
       "        5.59681986e-01, 5.69669381e-01, 5.79656776e-01, 5.89644171e-01,\n",
       "        5.99631566e-01, 6.09618962e-01, 6.19606357e-01, 6.29593752e-01,\n",
       "        6.39581147e-01, 6.49568542e-01, 6.59555938e-01, 6.69543333e-01,\n",
       "        6.79530728e-01, 6.89518123e-01, 6.99505518e-01, 7.09492914e-01,\n",
       "        7.19480309e-01, 7.29467704e-01, 7.39455099e-01, 7.49442495e-01,\n",
       "        7.59429890e-01, 7.69417285e-01, 7.79404680e-01, 7.89392075e-01,\n",
       "        7.99379471e-01, 8.09366866e-01, 8.19354261e-01, 8.29341656e-01,\n",
       "        8.39329051e-01, 8.49316447e-01, 8.59303842e-01, 8.69291237e-01,\n",
       "        8.79278632e-01, 8.89266027e-01, 8.99253423e-01, 9.09240818e-01,\n",
       "        9.19228213e-01, 9.29215608e-01, 9.39203004e-01, 9.49190399e-01,\n",
       "        9.59177794e-01, 9.69165189e-01, 9.79152584e-01, 9.89139980e-01,\n",
       "        9.99127375e-01]),\n",
       " <BarContainer object of 100 artists>)"
      ]
     },
     "execution_count": 4,
     "metadata": {},
     "output_type": "execute_result"
    },
    {
     "data": {
      "image/png": "[encoded data removed]",
      "text/plain": [
       "<Figure size 432x288 with 1 Axes>"
      ]
     },
     "metadata": {
      "needs_background": "light"
     },
     "output_type": "display_data"
    }
   ],
   "source": [
    "import matplotlib.pyplot as plt\n",
    "plt.hist(A,bins=100)"
   ]
  },
  {
   "cell_type": "code",
   "execution_count": 5,
   "metadata": {},
   "outputs": [
    {
     "data": {
      "text/plain": [
       "(array([2.000e+00, 0.000e+00, 0.000e+00, 0.000e+00, 0.000e+00, 0.000e+00,\n",
       "        1.000e+00, 2.000e+00, 1.000e+00, 0.000e+00, 1.000e+00, 0.000e+00,\n",
       "        1.000e+00, 1.000e+00, 1.000e+00, 1.000e+00, 1.000e+00, 3.000e+00,\n",
       "        2.000e+00, 1.000e+00, 2.000e+00, 1.000e+00, 3.000e+00, 8.000e+00,\n",
       "        7.000e+00, 9.000e+00, 5.000e+00, 1.000e+01, 1.400e+01, 2.200e+01,\n",
       "        1.600e+01, 1.700e+01, 1.400e+01, 2.400e+01, 2.800e+01, 3.200e+01,\n",
       "        4.400e+01, 5.200e+01, 5.600e+01, 6.200e+01, 6.700e+01, 8.300e+01,\n",
       "        8.000e+01, 9.000e+01, 1.050e+02, 1.450e+02, 1.650e+02, 1.200e+02,\n",
       "        1.670e+02, 1.890e+02, 2.320e+02, 2.240e+02, 2.530e+02, 2.920e+02,\n",
       "        2.870e+02, 3.150e+02, 3.390e+02, 4.170e+02, 4.230e+02, 4.740e+02,\n",
       "        5.260e+02, 6.070e+02, 5.650e+02, 6.640e+02, 6.750e+02, 7.520e+02,\n",
       "        8.060e+02, 8.450e+02, 9.240e+02, 9.660e+02, 9.980e+02, 1.103e+03,\n",
       "        1.068e+03, 1.151e+03, 1.220e+03, 1.298e+03, 1.385e+03, 1.446e+03,\n",
       "        1.397e+03, 1.546e+03, 1.474e+03, 1.550e+03, 1.609e+03, 1.700e+03,\n",
       "        1.727e+03, 1.808e+03, 1.702e+03, 1.795e+03, 1.787e+03, 1.886e+03,\n",
       "        1.948e+03, 1.890e+03, 1.955e+03, 1.955e+03, 1.926e+03, 1.915e+03,\n",
       "        1.837e+03, 1.853e+03, 1.907e+03, 1.803e+03, 1.783e+03, 1.827e+03,\n",
       "        1.749e+03, 1.727e+03, 1.596e+03, 1.685e+03, 1.579e+03, 1.638e+03,\n",
       "        1.562e+03, 1.506e+03, 1.402e+03, 1.367e+03, 1.302e+03, 1.300e+03,\n",
       "        1.188e+03, 1.146e+03, 1.043e+03, 9.890e+02, 9.610e+02, 9.320e+02,\n",
       "        8.730e+02, 7.810e+02, 7.860e+02, 6.970e+02, 6.780e+02, 6.260e+02,\n",
       "        5.560e+02, 5.560e+02, 4.890e+02, 4.170e+02, 4.600e+02, 3.770e+02,\n",
       "        3.900e+02, 3.140e+02, 2.980e+02, 2.620e+02, 2.520e+02, 2.360e+02,\n",
       "        2.020e+02, 1.950e+02, 1.840e+02, 1.410e+02, 1.200e+02, 1.110e+02,\n",
       "        9.500e+01, 9.000e+01, 7.700e+01, 8.000e+01, 6.100e+01, 6.300e+01,\n",
       "        5.400e+01, 5.200e+01, 3.400e+01, 3.900e+01, 2.300e+01, 2.100e+01,\n",
       "        1.600e+01, 2.000e+01, 1.800e+01, 1.000e+01, 1.500e+01, 1.100e+01,\n",
       "        1.000e+01, 7.000e+00, 7.000e+00, 8.000e+00, 5.000e+00, 3.000e+00,\n",
       "        2.000e+00, 1.000e+00, 3.000e+00, 0.000e+00, 2.000e+00, 2.000e+00,\n",
       "        1.000e+00, 1.000e+00, 2.000e+00, 1.000e+00, 1.000e+00, 0.000e+00,\n",
       "        1.000e+00, 0.000e+00, 0.000e+00, 0.000e+00, 0.000e+00, 0.000e+00,\n",
       "        0.000e+00, 0.000e+00, 0.000e+00, 0.000e+00, 0.000e+00, 0.000e+00,\n",
       "        0.000e+00, 0.000e+00, 0.000e+00, 0.000e+00, 0.000e+00, 0.000e+00,\n",
       "        0.000e+00, 1.000e+00]),\n",
       " array([-4.54080398, -4.49268734, -4.44457069, -4.39645405, -4.34833741,\n",
       "        -4.30022077, -4.25210413, -4.20398749, -4.15587085, -4.10775421,\n",
       "        -4.05963757, -4.01152093, -3.96340429, -3.91528764, -3.867171  ,\n",
       "        -3.81905436, -3.77093772, -3.72282108, -3.67470444, -3.6265878 ,\n",
       "        -3.57847116, -3.53035452, -3.48223788, -3.43412124, -3.38600459,\n",
       "        -3.33788795, -3.28977131, -3.24165467, -3.19353803, -3.14542139,\n",
       "        -3.09730475, -3.04918811, -3.00107147, -2.95295483, -2.90483819,\n",
       "        -2.85672154, -2.8086049 , -2.76048826, -2.71237162, -2.66425498,\n",
       "        -2.61613834, -2.5680217 , -2.51990506, -2.47178842, -2.42367178,\n",
       "        -2.37555514, -2.32743849, -2.27932185, -2.23120521, -2.18308857,\n",
       "        -2.13497193, -2.08685529, -2.03873865, -1.99062201, -1.94250537,\n",
       "        -1.89438873, -1.84627209, -1.79815544, -1.7500388 , -1.70192216,\n",
       "        -1.65380552, -1.60568888, -1.55757224, -1.5094556 , -1.46133896,\n",
       "        -1.41322232, -1.36510568, -1.31698904, -1.2688724 , -1.22075575,\n",
       "        -1.17263911, -1.12452247, -1.07640583, -1.02828919, -0.98017255,\n",
       "        -0.93205591, -0.88393927, -0.83582263, -0.78770599, -0.73958935,\n",
       "        -0.6914727 , -0.64335606, -0.59523942, -0.54712278, -0.49900614,\n",
       "        -0.4508895 , -0.40277286, -0.35465622, -0.30653958, -0.25842294,\n",
       "        -0.2103063 , -0.16218965, -0.11407301, -0.06595637, -0.01783973,\n",
       "         0.03027691,  0.07839355,  0.12651019,  0.17462683,  0.22274347,\n",
       "         0.27086011,  0.31897675,  0.3670934 ,  0.41521004,  0.46332668,\n",
       "         0.51144332,  0.55955996,  0.6076766 ,  0.65579324,  0.70390988,\n",
       "         0.75202652,  0.80014316,  0.8482598 ,  0.89637645,  0.94449309,\n",
       "         0.99260973,  1.04072637,  1.08884301,  1.13695965,  1.18507629,\n",
       "         1.23319293,  1.28130957,  1.32942621,  1.37754285,  1.4256595 ,\n",
       "         1.47377614,  1.52189278,  1.57000942,  1.61812606,  1.6662427 ,\n",
       "         1.71435934,  1.76247598,  1.81059262,  1.85870926,  1.9068259 ,\n",
       "         1.95494255,  2.00305919,  2.05117583,  2.09929247,  2.14740911,\n",
       "         2.19552575,  2.24364239,  2.29175903,  2.33987567,  2.38799231,\n",
       "         2.43610895,  2.48422559,  2.53234224,  2.58045888,  2.62857552,\n",
       "         2.67669216,  2.7248088 ,  2.77292544,  2.82104208,  2.86915872,\n",
       "         2.91727536,  2.965392  ,  3.01350864,  3.06162529,  3.10974193,\n",
       "         3.15785857,  3.20597521,  3.25409185,  3.30220849,  3.35032513,\n",
       "         3.39844177,  3.44655841,  3.49467505,  3.54279169,  3.59090834,\n",
       "         3.63902498,  3.68714162,  3.73525826,  3.7833749 ,  3.83149154,\n",
       "         3.87960818,  3.92772482,  3.97584146,  4.0239581 ,  4.07207474,\n",
       "         4.12019139,  4.16830803,  4.21642467,  4.26454131,  4.31265795,\n",
       "         4.36077459,  4.40889123,  4.45700787,  4.50512451,  4.55324115,\n",
       "         4.60135779,  4.64947444,  4.69759108,  4.74570772,  4.79382436,\n",
       "         4.841941  ,  4.89005764,  4.93817428,  4.98629092,  5.03440756,\n",
       "         5.0825242 ]),\n",
       " <BarContainer object of 200 artists>)"
      ]
     },
     "execution_count": 5,
     "metadata": {},
     "output_type": "execute_result"
    },
    {
     "data": {
      "image/png": "[encoded data removed]",
      "text/plain": [
       "<Figure size 432x288 with 1 Axes>"
      ]
     },
     "metadata": {
      "needs_background": "light"
     },
     "output_type": "display_data"
    }
   ],
   "source": [
    "B=np.random.randn(100000)\n",
    "plt.hist(B,bins=200)"
   ]
  },
  {
   "cell_type": "code",
   "execution_count": 6,
   "metadata": {},
   "outputs": [
    {
     "name": "stdout",
     "output_type": "stream",
     "text": [
      "[[0.62941969 0.64206102 0.05911497]\n",
      " [0.78400067 0.42120307 0.58570295]]\n",
      "2\n"
     ]
    }
   ],
   "source": [
    "C=np.random.rand(2,3)\n",
    "print(C)\n",
    "print(C.ndim)"
   ]
  },
  {
   "cell_type": "code",
   "execution_count": 7,
   "metadata": {},
   "outputs": [
    {
     "name": "stdout",
     "output_type": "stream",
     "text": [
      "[[[[0.19650337 0.67559316]\n",
      "   [0.62268506 0.35395761]\n",
      "   [0.01557845 0.41575937]\n",
      "   [0.86774113 0.86237773]]\n",
      "\n",
      "  [[0.70722067 0.91981699]\n",
      "   [0.50418626 0.77213741]\n",
      "   [0.67903328 0.89369452]\n",
      "   [0.83938617 0.79920847]]\n",
      "\n",
      "  [[0.31064317 0.53204379]\n",
      "   [0.49277141 0.89859579]\n",
      "   [0.18935091 0.6818246 ]\n",
      "   [0.13490507 0.6241223 ]]]\n",
      "\n",
      "\n",
      " [[[0.37547888 0.32199693]\n",
      "   [0.79675987 0.59181867]\n",
      "   [0.76568003 0.66356337]\n",
      "   [0.37301844 0.73936367]]\n",
      "\n",
      "  [[0.6538973  0.14267377]\n",
      "   [0.81519419 0.90420076]\n",
      "   [0.3072426  0.11381738]\n",
      "   [0.87317481 0.78406343]]\n",
      "\n",
      "  [[0.93705042 0.28020492]\n",
      "   [0.98455669 0.99501826]\n",
      "   [0.36841844 0.09957021]\n",
      "   [0.06403892 0.91547001]]]]\n",
      "<class 'numpy.ndarray'>\n",
      "4\n"
     ]
    }
   ],
   "source": [
    "D=np.random.rand(2,3,4,2)\n",
    "print(D)\n",
    "print(type(D))\n",
    "print(D.ndim)"
   ]
  },
  {
   "cell_type": "code",
   "execution_count": 8,
   "metadata": {},
   "outputs": [
    {
     "name": "stdout",
     "output_type": "stream",
     "text": [
      "[[ 0  1  2  3  4  5  6  7  8  9 10 11 12 13 14 15 16 17 18 19 20 21 22 23\n",
      "  24]\n",
      " [25 26 27 28 29 30 31 32 33 34 35 36 37 38 39 40 41 42 43 44 45 46 47 48\n",
      "  49]\n",
      " [50 51 52 53 54 55 56 57 58 59 60 61 62 63 64 65 66 67 68 69 70 71 72 73\n",
      "  74]\n",
      " [75 76 77 78 79 80 81 82 83 84 85 86 87 88 89 90 91 92 93 94 95 96 97 98\n",
      "  99]]\n",
      "(4, 25)\n"
     ]
    }
   ],
   "source": [
    "E=np.arange(100).reshape(4,25)\n",
    "print(E)\n",
    "print(E.shape)"
   ]
  },
  {
   "cell_type": "code",
   "execution_count": 9,
   "metadata": {},
   "outputs": [
    {
     "name": "stdout",
     "output_type": "stream",
     "text": [
      "[[[ 0  1  2  3  4]\n",
      "  [ 5  6  7  8  9]\n",
      "  [10 11 12 13 14]\n",
      "  [15 16 17 18 19]\n",
      "  [20 21 22 23 24]]\n",
      "\n",
      " [[25 26 27 28 29]\n",
      "  [30 31 32 33 34]\n",
      "  [35 36 37 38 39]\n",
      "  [40 41 42 43 44]\n",
      "  [45 46 47 48 49]]\n",
      "\n",
      " [[50 51 52 53 54]\n",
      "  [55 56 57 58 59]\n",
      "  [60 61 62 63 64]\n",
      "  [65 66 67 68 69]\n",
      "  [70 71 72 73 74]]\n",
      "\n",
      " [[75 76 77 78 79]\n",
      "  [80 81 82 83 84]\n",
      "  [85 86 87 88 89]\n",
      "  [90 91 92 93 94]\n",
      "  [95 96 97 98 99]]]\n",
      "(4, 5, 5)\n"
     ]
    }
   ],
   "source": [
    "F=np.arange(100).reshape(4,5,5)\n",
    "print(F)\n",
    "print(F.shape)"
   ]
  },
  {
   "cell_type": "code",
   "execution_count": 10,
   "metadata": {},
   "outputs": [
    {
     "name": "stdout",
     "output_type": "stream",
     "text": [
      "[[0 1 2]\n",
      " [3 4 5]\n",
      " [6 7 8]]\n",
      "[[6 7 8]\n",
      " [3 4 5]\n",
      " [0 1 2]]\n",
      "<class 'numpy.ndarray'>\n",
      "2\n",
      "(3, 3)\n",
      "3\n",
      "3\n"
     ]
    }
   ],
   "source": [
    "a = np.arange(9).reshape((3, 3))\n",
    "print(a)\n",
    "b=np.random.permutation(a)\n",
    "print(b)\n",
    "print(type(b))\n",
    "print(b.ndim)\n",
    "print(b.shape)\n",
    "print(b.shape[0])\n",
    "print(b.shape[1])"
   ]
  },
  {
   "cell_type": "markdown",
   "metadata": {},
   "source": [
    "# NUMPY(Slicing)"
   ]
  },
  {
   "cell_type": "code",
   "execution_count": 145,
   "metadata": {},
   "outputs": [
    {
     "name": "stdout",
     "output_type": "stream",
     "text": [
      "[ 0  1  2  3  4  5  6  7  8  9 10 11 12 13 14 15 16 17 18 19 20 21 22 23\n",
      " 24 25 26 27 28 29 30 31 32 33 34 35 36 37 38 39 40 41 42 43 44 45 46 47\n",
      " 48 49 50 51 52 53 54 55 56 57 58 59 60 61 62 63 64 65 66 67 68 69 70 71\n",
      " 72 73 74 75 76 77 78 79 80 81 82 83 84 85 86 87 88 89 90 91 92 93 94 95\n",
      " 96 97 98 99]\n",
      "[3 4 5 6 7 8 9]\n",
      "[1200    4    5    6    7    8    9]\n",
      "[   0    1    2 1200    4    5    6    7    8    9   10   11   12   13\n",
      "   14   15   16   17   18   19   20   21   22   23   24   25   26   27\n",
      "   28   29   30   31   32   33   34   35   36   37   38   39   40   41\n",
      "   42   43   44   45   46   47   48   49   50   51   52   53   54   55\n",
      "   56   57   58   59   60   61   62   63   64   65   66   67   68   69\n",
      "   70   71   72   73   74   75   76   77   78   79   80   81   82   83\n",
      "   84   85   86   87   88   89   90   91   92   93   94   95   96   97\n",
      "   98   99]\n"
     ]
    }
   ],
   "source": [
    "A=np.arange(100)\n",
    "print(A)\n",
    "B=A[3:10]\n",
    "print(B)\n",
    "B[0]=1200\n",
    "print(B)\n",
    "print(A)     #here A also changes on changing value in B because both points to same memory location"
   ]
  },
  {
   "cell_type": "code",
   "execution_count": 148,
   "metadata": {},
   "outputs": [
    {
     "name": "stdout",
     "output_type": "stream",
     "text": [
      "[1200    4    5    6    7    8    9]\n",
      "[3 4 5 6 7 8 9]\n",
      "[   0    1    2 1200    4    5    6    7    8    9   10   11   12   13\n",
      "   14   15   16   17   18   19   20   21   22   23   24   25   26   27\n",
      "   28   29   30   31   32   33   34   35   36   37   38   39   40   41\n",
      "   42   43   44   45   46   47   48   49   50   51   52   53   54   55\n",
      "   56   57   58   59   60   61   62   63   64   65   66   67   68   69\n",
      "   70   71   72   73   74   75   76   77   78   79   80   81   82   83\n",
      "   84   85   86   87   88   89   90   91   92   93   94   95   96   97\n",
      "   98   99]\n"
     ]
    }
   ],
   "source": [
    "B=A[3:10].copy()     #copy function helps in getting out of the above problem.It copies that value in different memory instead of orignal list\n",
    "print(B)\n",
    "B[0]=3\n",
    "print(B)\n",
    "print(A)"
   ]
  },
  {
   "cell_type": "code",
   "execution_count": 149,
   "metadata": {},
   "outputs": [
    {
     "data": {
      "text/plain": [
       "array([ 0,  5, 10, 15, 20, 25, 30, 35, 40, 45, 50, 55, 60, 65, 70, 75, 80,\n",
       "       85, 90, 95])"
      ]
     },
     "execution_count": 149,
     "metadata": {},
     "output_type": "execute_result"
    }
   ],
   "source": [
    "A[::5]"
   ]
  },
  {
   "cell_type": "code",
   "execution_count": 150,
   "metadata": {},
   "outputs": [
    {
     "data": {
      "text/plain": [
       "array([99, 94, 89, 84, 79, 74, 69, 64, 59, 54, 49, 44, 39, 34, 29, 24, 19,\n",
       "       14,  9,  4])"
      ]
     },
     "execution_count": 150,
     "metadata": {},
     "output_type": "execute_result"
    }
   ],
   "source": [
    "A[::-5]"
   ]
  },
  {
   "cell_type": "code",
   "execution_count": 151,
   "metadata": {},
   "outputs": [
    {
     "data": {
      "text/plain": [
       "array([  99,   98,   97,   96,   95,   94,   93,   92,   91,   90,   89,\n",
       "         88,   87,   86,   85,   84,   83,   82,   81,   80,   79,   78,\n",
       "         77,   76,   75,   74,   73,   72,   71,   70,   69,   68,   67,\n",
       "         66,   65,   64,   63,   62,   61,   60,   59,   58,   57,   56,\n",
       "         55,   54,   53,   52,   51,   50,   49,   48,   47,   46,   45,\n",
       "         44,   43,   42,   41,   40,   39,   38,   37,   36,   35,   34,\n",
       "         33,   32,   31,   30,   29,   28,   27,   26,   25,   24,   23,\n",
       "         22,   21,   20,   19,   18,   17,   16,   15,   14,   13,   12,\n",
       "         11,   10,    9,    8,    7,    6,    5,    4, 1200,    2,    1,\n",
       "          0])"
      ]
     },
     "execution_count": 151,
     "metadata": {},
     "output_type": "execute_result"
    }
   ],
   "source": [
    "A[::-1]"
   ]
  },
  {
   "cell_type": "code",
   "execution_count": 169,
   "metadata": {},
   "outputs": [
    {
     "name": "stdout",
     "output_type": "stream",
     "text": [
      "3\n",
      "[ 0  1  2  3  4  5  6  7  8  9 10 11 12 13 14 15 16 17 18 19 20 21 22 23\n",
      " 24 25 26 27 28 29 30 31 32 33 34 35 36 37 38 39 40 41 42 43 44 45 46 47\n",
      " 48 49 50 51 52 53 54 55 56 57 58 59 60 61 62 63 64 65 66 67 68 69 70 71\n",
      " 72 73 74 75 76 77 78 79 80 81 82 83 84 85 86 87 88 89 90 91 92 93 94 95\n",
      " 96 97 98 99]\n"
     ]
    }
   ],
   "source": [
    "idx =np.argwhere(A==1200)[0][0]\n",
    "print(idx)\n",
    "A[idx]=3\n",
    "print(A)"
   ]
  },
  {
   "cell_type": "code",
   "execution_count": 174,
   "metadata": {},
   "outputs": [
    {
     "name": "stdout",
     "output_type": "stream",
     "text": [
      "[False False False False  True False False False False False False False\n",
      " False False False False False False False False False False False False\n",
      " False False False False False False False False False False False False\n",
      " False False False False False False False False False False False False\n",
      " False False False False False False False False False False False False\n",
      " False False False False False False False False False False False False\n",
      " False False False False False False False False False False False False\n",
      " False False False False False False False False False False False False\n",
      " False False False False]\n"
     ]
    }
   ],
   "source": [
    "B= (A==4)\n",
    "print(B)"
   ]
  },
  {
   "cell_type": "code",
   "execution_count": 173,
   "metadata": {},
   "outputs": [
    {
     "name": "stdout",
     "output_type": "stream",
     "text": [
      "[0 0 0 0 4 0 0 0 0 0 0 0 0 0 0 0 0 0 0 0 0 0 0 0 0 0 0 0 0 0 0 0 0 0 0 0 0\n",
      " 0 0 0 0 0 0 0 0 0 0 0 0 0 0 0 0 0 0 0 0 0 0 0 0 0 0 0 0 0 0 0 0 0 0 0 0 0\n",
      " 0 0 0 0 0 0 0 0 0 0 0 0 0 0 0 0 0 0 0 0 0 0 0 0 0 0]\n"
     ]
    }
   ],
   "source": [
    "B= (A==4)*np.arange(A.size)\n",
    "print(B)"
   ]
  },
  {
   "cell_type": "code",
   "execution_count": 51,
   "metadata": {},
   "outputs": [
    {
     "name": "stdout",
     "output_type": "stream",
     "text": [
      "[[ 2.  5.  0.  6.]\n",
      " [ 8.  1.  0.  8.]\n",
      " [ 8.  7.  2.  7.]\n",
      " [10.  6.  0.  4.]\n",
      " [ 5.  6.  2.  8.]]\n"
     ]
    }
   ],
   "source": [
    "A=np.round(10*np.random.rand(5,4))\n",
    "print(A)"
   ]
  },
  {
   "cell_type": "code",
   "execution_count": 52,
   "metadata": {},
   "outputs": [
    {
     "data": {
      "text/plain": [
       "0.0"
      ]
     },
     "execution_count": 52,
     "metadata": {},
     "output_type": "execute_result"
    }
   ],
   "source": [
    "A[1,2]   # this is used for acessing the element in 2nd row and 3rd column "
   ]
  },
  {
   "cell_type": "code",
   "execution_count": 53,
   "metadata": {},
   "outputs": [
    {
     "data": {
      "text/plain": [
       "array([8., 1., 0., 8.])"
      ]
     },
     "execution_count": 53,
     "metadata": {},
     "output_type": "execute_result"
    }
   ],
   "source": [
    "A[1,:]    #It is used to acess whole 2nd row"
   ]
  },
  {
   "cell_type": "code",
   "execution_count": 54,
   "metadata": {},
   "outputs": [
    {
     "data": {
      "text/plain": [
       "array([5., 1., 7., 6., 6.])"
      ]
     },
     "execution_count": 54,
     "metadata": {},
     "output_type": "execute_result"
    }
   ],
   "source": [
    "A[:,1]    #It is used to acess whole 2nd column"
   ]
  },
  {
   "cell_type": "code",
   "execution_count": 55,
   "metadata": {},
   "outputs": [
    {
     "data": {
      "text/plain": [
       "array([[0., 8.],\n",
       "       [2., 7.]])"
      ]
     },
     "execution_count": 55,
     "metadata": {},
     "output_type": "execute_result"
    }
   ],
   "source": [
    "A[1:3,2:4]"
   ]
  },
  {
   "cell_type": "code",
   "execution_count": 56,
   "metadata": {},
   "outputs": [
    {
     "data": {
      "text/plain": [
       "array([[ 2.,  8.,  8., 10.,  5.],\n",
       "       [ 5.,  1.,  7.,  6.,  6.],\n",
       "       [ 0.,  0.,  2.,  0.,  2.],\n",
       "       [ 6.,  8.,  7.,  4.,  8.]])"
      ]
     },
     "execution_count": 56,
     "metadata": {},
     "output_type": "execute_result"
    }
   ],
   "source": [
    "A.T    # It is used for getting transpose of matrix"
   ]
  },
  {
   "cell_type": "code",
   "execution_count": 34,
   "metadata": {},
   "outputs": [],
   "source": [
    "import numpy.linalg as la     #Import linear algebra library in numpy"
   ]
  },
  {
   "cell_type": "code",
   "execution_count": 35,
   "metadata": {},
   "outputs": [
    {
     "name": "stdout",
     "output_type": "stream",
     "text": [
      "[[1 2]\n",
      " [2 3]]\n"
     ]
    },
    {
     "data": {
      "text/plain": [
       "array([[-3.,  2.],\n",
       "       [ 2., -1.]])"
      ]
     },
     "execution_count": 35,
     "metadata": {},
     "output_type": "execute_result"
    }
   ],
   "source": [
    "b=np.array([[1,2],[2,3]])\n",
    "print(b)\n",
    "la.inv(b)"
   ]
  },
  {
   "cell_type": "code",
   "execution_count": 59,
   "metadata": {},
   "outputs": [
    {
     "name": "stdout",
     "output_type": "stream",
     "text": [
      "[[0.58221616 0.49060919 0.6033522 ]\n",
      " [0.136876   0.10353438 0.57152895]\n",
      " [0.78917317 0.37365925 0.95808294]]\n"
     ]
    },
    {
     "data": {
      "text/plain": [
       "array([[-1.59010979, -3.40089262,  3.03011846],\n",
       "       [ 4.44788044,  1.13543772, -3.47837732],\n",
       "       [-0.42493157,  2.35848725, -0.09556618]])"
      ]
     },
     "execution_count": 59,
     "metadata": {},
     "output_type": "execute_result"
    }
   ],
   "source": [
    "c=np.random.rand(3,3)\n",
    "print(c)\n",
    "la.inv(c)"
   ]
  },
  {
   "cell_type": "code",
   "execution_count": 60,
   "metadata": {},
   "outputs": [
    {
     "name": "stdout",
     "output_type": "stream",
     "text": [
      "[[ 2.  5.  0.  6.]\n",
      " [ 8.  1.  0.  8.]\n",
      " [ 8.  7.  2.  7.]\n",
      " [10.  6.  0.  4.]\n",
      " [ 5.  6.  2.  8.]]\n"
     ]
    }
   ],
   "source": [
    "print(A)"
   ]
  },
  {
   "cell_type": "code",
   "execution_count": 62,
   "metadata": {},
   "outputs": [
    {
     "name": "stdout",
     "output_type": "stream",
     "text": [
      "[[ 2.  1.  0.  4.]\n",
      " [ 5.  5.  0.  6.]\n",
      " [ 8.  6.  0.  7.]\n",
      " [ 8.  6.  2.  8.]\n",
      " [10.  7.  2.  8.]]\n"
     ]
    }
   ],
   "source": [
    "A.sort(axis=0)   #Here every column is sorted individually\n",
    "print(A)"
   ]
  },
  {
   "cell_type": "code",
   "execution_count": 65,
   "metadata": {},
   "outputs": [
    {
     "name": "stdout",
     "output_type": "stream",
     "text": [
      "[[ 0.  1.  2.  4.]\n",
      " [ 0.  5.  5.  6.]\n",
      " [ 0.  6.  7.  8.]\n",
      " [ 2.  6.  8.  8.]\n",
      " [ 2.  7.  8. 10.]]\n",
      "2\n"
     ]
    }
   ],
   "source": [
    "A.sort(axis=1)      #Here every row is sorted individually\n",
    "print(A)\n",
    "print(A.ndim)"
   ]
  },
  {
   "cell_type": "code",
   "execution_count": 36,
   "metadata": {},
   "outputs": [
    {
     "name": "stdout",
     "output_type": "stream",
     "text": [
      "[[[ 4  2 10]\n",
      "  [ 2  0  4]]\n",
      "\n",
      " [[ 3  4  5]\n",
      "  [ 4  8  6]]\n",
      "\n",
      " [[ 5  9  7]\n",
      "  [ 6  1  8]]]\n",
      "3\n"
     ]
    }
   ],
   "source": [
    "import numpy as np\n",
    "B= np.array([[[4,2,10],[2,0,4]],[[3,4,5],[4,8,6]],[[5,9,7],[6,1,8]]])\n",
    "print(B)\n",
    "print(B.ndim)"
   ]
  },
  {
   "cell_type": "code",
   "execution_count": 37,
   "metadata": {},
   "outputs": [
    {
     "name": "stdout",
     "output_type": "stream",
     "text": [
      "[[[ 2  4 10]\n",
      "  [ 0  2  4]]\n",
      "\n",
      " [[ 3  4  5]\n",
      "  [ 4  6  8]]\n",
      "\n",
      " [[ 5  7  9]\n",
      "  [ 1  6  8]]]\n"
     ]
    }
   ],
   "source": [
    "B.sort(axis=2)     #DOUBT:-Not Understand current cell and below two cells\n",
    "print(B)"
   ]
  },
  {
   "cell_type": "code",
   "execution_count": 38,
   "metadata": {},
   "outputs": [
    {
     "name": "stdout",
     "output_type": "stream",
     "text": [
      "[[[ 0  2  4]\n",
      "  [ 2  4 10]]\n",
      "\n",
      " [[ 3  4  5]\n",
      "  [ 4  6  8]]\n",
      "\n",
      " [[ 1  6  8]\n",
      "  [ 5  7  9]]]\n"
     ]
    }
   ],
   "source": [
    "B.sort(axis=1)\n",
    "print(B)"
   ]
  },
  {
   "cell_type": "code",
   "execution_count": 39,
   "metadata": {},
   "outputs": [
    {
     "name": "stdout",
     "output_type": "stream",
     "text": [
      "[[[ 0  2  4]\n",
      "  [ 2  4  8]]\n",
      "\n",
      " [[ 1  4  5]\n",
      "  [ 4  6  9]]\n",
      "\n",
      " [[ 3  6  8]\n",
      "  [ 5  7 10]]]\n"
     ]
    }
   ],
   "source": [
    "B.sort(axis=0)\n",
    "print(B)"
   ]
  },
  {
   "cell_type": "markdown",
   "metadata": {},
   "source": [
    "# NUMPY(More indexing)"
   ]
  },
  {
   "cell_type": "code",
   "execution_count": 30,
   "metadata": {},
   "outputs": [
    {
     "name": "stdout",
     "output_type": "stream",
     "text": [
      "[ 0  1  2  3  4  5  6  7  8  9 10 11 12 13 14 15 16 17 18 19 20 21 22 23\n",
      " 24 25 26 27 28 29 30 31 32 33 34 35 36 37 38 39 40 41 42 43 44 45 46 47\n",
      " 48 49 50 51 52 53 54 55 56 57 58 59 60 61 62 63 64 65 66 67 68 69 70 71\n",
      " 72 73 74 75 76 77 78 79 80 81 82 83 84 85 86 87 88 89 90 91 92 93 94 95\n",
      " 96 97 98 99]\n"
     ]
    }
   ],
   "source": [
    "A=np.arange(100)\n",
    "print(A)"
   ]
  },
  {
   "cell_type": "code",
   "execution_count": 102,
   "metadata": {},
   "outputs": [
    {
     "name": "stdout",
     "output_type": "stream",
     "text": [
      "[3 5 6]\n"
     ]
    }
   ],
   "source": [
    "B=A[[3,5,6]]   \n",
    "'''This type of indexing is called array indexing or masking having syntax as A[index_array] \n",
    "In this type of indexing the indexing array\n",
    "make view of array such that any change in view array doesn't effect the orignal array\n",
    "In the above example,we are indexing A array to B but any change in B doesn't effect A array '''\n",
    "'''But during slicing,we are making copy of orignal array so any change in copy array effect orignal array.\n",
    "This happens because by slicing,the copied array got the same memory location as orignal array\n",
    "'''\n",
    "print(B)"
   ]
  },
  {
   "cell_type": "code",
   "execution_count": 37,
   "metadata": {},
   "outputs": [
    {
     "name": "stdout",
     "output_type": "stream",
     "text": [
      "[-4  5  6]\n",
      "[ 0  1  2  3  4  5  6  7  8  9 10 11 12 13 14 15 16 17 18 19 20 21 22 23\n",
      " 24 25 26 27 28 29 30 31 32 33 34 35 36 37 38 39 40 41 42 43 44 45 46 47\n",
      " 48 49 50 51 52 53 54 55 56 57 58 59 60 61 62 63 64 65 66 67 68 69 70 71\n",
      " 72 73 74 75 76 77 78 79 80 81 82 83 84 85 86 87 88 89 90 91 92 93 94 95\n",
      " 96 97 98 99]\n"
     ]
    }
   ],
   "source": [
    "B[0]=-4\n",
    "print(B)  #here value in A array doesn't change on changing value in B because we have uses different type of indexing in above cell\n",
    "print(A)"
   ]
  },
  {
   "cell_type": "code",
   "execution_count": 101,
   "metadata": {},
   "outputs": [
    {
     "name": "stdout",
     "output_type": "stream",
     "text": [
      "1\n",
      "[2 8 5 7]\n",
      "[2 8 5 7]\n"
     ]
    }
   ],
   "source": [
    "c=np.array([1,2,8,5,6,7,45,453])\n",
    "print(c.ndim)\n",
    "print(c[[1,2,3,5]])\n",
    "#                                       OR\n",
    "print(c[[False,True,True,True,False,True,False,False]])"
   ]
  },
  {
   "cell_type": "code",
   "execution_count": 42,
   "metadata": {},
   "outputs": [
    {
     "name": "stdout",
     "output_type": "stream",
     "text": [
      "[ 0  1  2  3  4  5  6  7  8  9 10 11 12 13 14 15 16 17 18 19 20 21 22 23\n",
      " 24 25 26 27 28 29 30 31 32 33 34 35 36 37 38 39]\n"
     ]
    }
   ],
   "source": [
    "D=A[A<40]\n",
    "print(D)"
   ]
  },
  {
   "cell_type": "code",
   "execution_count": 44,
   "metadata": {},
   "outputs": [
    {
     "name": "stdout",
     "output_type": "stream",
     "text": [
      "[31 32 33 34 35 36 37 38 39]\n"
     ]
    }
   ],
   "source": [
    "E=A[(A<40) & (A>30)]     \n",
    "print(E)"
   ]
  },
  {
   "cell_type": "code",
   "execution_count": 56,
   "metadata": {},
   "outputs": [],
   "source": [
    "# &---->used for array    and    and----->used for single object\n",
    "# |---->used for array    and    or----->used for single object\n",
    "# ~---->used for array    and    not----->used for single object"
   ]
  },
  {
   "cell_type": "markdown",
   "metadata": {},
   "source": [
    "# NUMPY(Broadcasting,hstack,vstack,sort)"
   ]
  },
  {
   "cell_type": "code",
   "execution_count": 103,
   "metadata": {},
   "outputs": [
    {
     "name": "stdout",
     "output_type": "stream",
     "text": [
      "[[8. 6. 9.]\n",
      " [4. 5. 7.]]\n"
     ]
    }
   ],
   "source": [
    "A=np.round(10*np.random.rand(2,3))\n",
    "print(A)"
   ]
  },
  {
   "cell_type": "code",
   "execution_count": 104,
   "metadata": {},
   "outputs": [
    {
     "data": {
      "text/plain": [
       "array([[11.,  9., 12.],\n",
       "       [ 7.,  8., 10.]])"
      ]
     },
     "execution_count": 104,
     "metadata": {},
     "output_type": "execute_result"
    }
   ],
   "source": [
    "A+3"
   ]
  },
  {
   "cell_type": "code",
   "execution_count": 108,
   "metadata": {},
   "outputs": [
    {
     "data": {
      "text/plain": [
       "array([[8., 6., 9.],\n",
       "       [5., 6., 8.]])"
      ]
     },
     "execution_count": 108,
     "metadata": {},
     "output_type": "execute_result"
    }
   ],
   "source": [
    "A+(np.arange(2).reshape(2,1))"
   ]
  },
  {
   "cell_type": "code",
   "execution_count": 116,
   "metadata": {},
   "outputs": [
    {
     "name": "stdout",
     "output_type": "stream",
     "text": [
      "[[6. 7. 3.]\n",
      " [7. 5. 1.]]\n"
     ]
    }
   ],
   "source": [
    "B=np.round(10*np.random.rand(2,3))\n",
    "print(B)"
   ]
  },
  {
   "cell_type": "code",
   "execution_count": 117,
   "metadata": {},
   "outputs": [
    {
     "name": "stdout",
     "output_type": "stream",
     "text": [
      "[[8. 6. 9. 6. 7. 3.]\n",
      " [4. 5. 7. 7. 5. 1.]]\n"
     ]
    }
   ],
   "source": [
    "C=np.hstack((A,B))     #np.hstack() Concatenate A And B horizontally\n",
    "print(C)"
   ]
  },
  {
   "cell_type": "code",
   "execution_count": 118,
   "metadata": {},
   "outputs": [
    {
     "name": "stdout",
     "output_type": "stream",
     "text": [
      "[[8. 6. 9.]\n",
      " [4. 5. 7.]\n",
      " [6. 7. 3.]\n",
      " [7. 5. 1.]]\n"
     ]
    }
   ],
   "source": [
    "D=np.vstack((A,B))\n",
    "print(D)"
   ]
  },
  {
   "cell_type": "code",
   "execution_count": 130,
   "metadata": {},
   "outputs": [
    {
     "name": "stdout",
     "output_type": "stream",
     "text": [
      "[8 9 7 3 2 0 6 5 1 4]\n",
      "[0 1 2 3 4 5 6 7 8 9]\n"
     ]
    }
   ],
   "source": [
    "A=np.random.permutation(np.arange(10))\n",
    "print(A)\n",
    "A.sort()\n",
    "print(A)"
   ]
  },
  {
   "cell_type": "code",
   "execution_count": 135,
   "metadata": {},
   "outputs": [
    {
     "name": "stdout",
     "output_type": "stream",
     "text": [
      "[6 3 7 5 0 2 9 4 1 8]\n",
      "[0 1 2 3 4 5 6 7 8 9]\n"
     ]
    }
   ],
   "source": [
    "B=np.random.permutation(np.arange(10))  \n",
    "print(B)\n",
    "C=np.sort(B)     # by sorting an array get sort in ascending order by default\n",
    "print(C)"
   ]
  },
  {
   "cell_type": "code",
   "execution_count": 40,
   "metadata": {},
   "outputs": [
    {
     "name": "stdout",
     "output_type": "stream",
     "text": [
      "[4 6 3 5 9 2 1 8 0 7]\n",
      "[0 1 2 3 4 5 6 7 8 9]\n",
      "[9 8 7 6 5 4 3 2 1 0]\n"
     ]
    }
   ],
   "source": [
    "#For sorting an array in descending order,we first sort the array in ascending order and then do a reverse slicing by[::-1]\n",
    "A=np.random.permutation(np.arange(10))\n",
    "print(A)\n",
    "A.sort()\n",
    "print(A)\n",
    "A=A[::-1]\n",
    "print(A)"
   ]
  },
  {
   "cell_type": "code",
   "execution_count": 41,
   "metadata": {},
   "outputs": [
    {
     "name": "stdout",
     "output_type": "stream",
     "text": [
      "['13er' 'abc' 'how are you' 'u765']\n"
     ]
    }
   ],
   "source": [
    "A=np.array([\"abc\",'how are you','u765','13er'])\n",
    "A.sort()\n",
    "print(A)"
   ]
  },
  {
   "cell_type": "markdown",
   "metadata": {},
   "source": [
    "# NUMPY(Seed:ufuncs)     #Universal Function"
   ]
  },
  {
   "cell_type": "code",
   "execution_count": 6,
   "metadata": {},
   "outputs": [
    {
     "name": "stdout",
     "output_type": "stream",
     "text": [
      "311 ms ± 5.44 ms per loop (mean ± std. dev. of 7 runs, 1 loop each)\n",
      "1.4 ms ± 43.7 µs per loop (mean ± std. dev. of 7 runs, 1000 loops each)\n"
     ]
    }
   ],
   "source": [
    "#Universal functions are very very fast\n",
    "import numpy as np\n",
    "B=np.random.rand(1000000)\n",
    "%timeit sum(B)\n",
    "%timeit np.sum(B)   #B.sum() is same as np.sum"
   ]
  },
  {
   "cell_type": "code",
   "execution_count": 7,
   "metadata": {},
   "outputs": [
    {
     "name": "stdout",
     "output_type": "stream",
     "text": [
      "371 ms ± 4.41 ms per loop (mean ± std. dev. of 7 runs, 1 loop each)\n"
     ]
    }
   ],
   "source": [
    "def mySum(G):\n",
    "    S=0\n",
    "    for x in G:\n",
    "        S+=x\n",
    "    return S\n",
    "%timeit mySum(B)"
   ]
  },
  {
   "cell_type": "markdown",
   "metadata": {},
   "source": [
    "# PANDAS"
   ]
  },
  {
   "cell_type": "code",
   "execution_count": 9,
   "metadata": {},
   "outputs": [],
   "source": [
    "import pandas as pd"
   ]
  },
  {
   "cell_type": "code",
   "execution_count": 11,
   "metadata": {},
   "outputs": [
    {
     "name": "stdout",
     "output_type": "stream",
     "text": [
      "1.1.3\n"
     ]
    }
   ],
   "source": [
    "print(pd.__version__)"
   ]
  },
  {
   "cell_type": "code",
   "execution_count": 17,
   "metadata": {},
   "outputs": [
    {
     "name": "stdout",
     "output_type": "stream",
     "text": [
      "a    2\n",
      "b    3\n",
      "c    4\n",
      "d    5\n",
      "dtype: int64\n",
      "<class 'pandas.core.series.Series'>\n",
      "[2 3 4 5]\n",
      "<class 'numpy.ndarray'>\n",
      "Index(['a', 'b', 'c', 'd'], dtype='object')\n",
      "<class 'pandas.core.indexes.base.Index'>\n"
     ]
    }
   ],
   "source": [
    "A=pd.Series([2,3,4,5],index=['a','b','c','d'])\n",
    "print(A)\n",
    "print(type(A))\n",
    "print(A.values)\n",
    "print(type(A.values))\n",
    "print(A.index)\n",
    "print(type(A.index))"
   ]
  },
  {
   "cell_type": "code",
   "execution_count": 18,
   "metadata": {},
   "outputs": [
    {
     "data": {
      "text/plain": [
       "2"
      ]
     },
     "execution_count": 18,
     "metadata": {},
     "output_type": "execute_result"
    }
   ],
   "source": [
    "A['a']"
   ]
  },
  {
   "cell_type": "code",
   "execution_count": 20,
   "metadata": {},
   "outputs": [
    {
     "data": {
      "text/plain": [
       "a    2\n",
       "b    3\n",
       "c    4\n",
       "dtype: int64"
      ]
     },
     "execution_count": 20,
     "metadata": {},
     "output_type": "execute_result"
    }
   ],
   "source": [
    "A['a':'c']   #Here final index is also included"
   ]
  },
  {
   "cell_type": "markdown",
   "metadata": {},
   "source": [
    "# PANDAS(Series)"
   ]
  },
  {
   "cell_type": "code",
   "execution_count": 26,
   "metadata": {},
   "outputs": [
    {
     "name": "stdout",
     "output_type": "stream",
     "text": [
      "A     4.0\n",
      "A-    3.5\n",
      "B     2.0\n",
      "B-    2.5\n",
      "dtype: float64\n",
      "[4.  3.5 2.  2.5]\n",
      "Index(['A', 'A-', 'B', 'B-'], dtype='object')\n"
     ]
    }
   ],
   "source": [
    "grades_dict={'A':4,'A-':3.5,'B':3,'B-':2.5,'B':2}\n",
    "grades=pd.Series(grades_dict)\n",
    "print(grades)\n",
    "print(grades.values)\n",
    "print(grades.index)"
   ]
  },
  {
   "cell_type": "code",
   "execution_count": 39,
   "metadata": {},
   "outputs": [
    {
     "name": "stdout",
     "output_type": "stream",
     "text": [
      "A     85\n",
      "A-    80\n",
      "B     65\n",
      "B-    70\n",
      "dtype: int64\n",
      "85\n",
      "A     85\n",
      "A-    80\n",
      "dtype: int64\n",
      "A     85\n",
      "A-    80\n",
      "B     65\n",
      "dtype: int64\n"
     ]
    }
   ],
   "source": [
    "marks_dict={'A':85,'A-':80,'B':75,'B-':70,'B':65}\n",
    "marks=pd.Series(marks_dict)\n",
    "print(marks)\n",
    "print(marks['A'])\n",
    "print(marks[0:2])\n",
    "print(marks['A':'B'])"
   ]
  },
  {
   "cell_type": "markdown",
   "metadata": {},
   "source": [
    "# PANDAS(DataFrame)"
   ]
  },
  {
   "cell_type": "code",
   "execution_count": 40,
   "metadata": {},
   "outputs": [
    {
     "name": "stdout",
     "output_type": "stream",
     "text": [
      "    MARKS  GRADES\n",
      "A      85     4.0\n",
      "A-     80     3.5\n",
      "B      65     2.0\n",
      "B-     70     2.5\n"
     ]
    }
   ],
   "source": [
    "rs=pd.DataFrame({\"MARKS\":marks,'GRADES':grades})\n",
    "print(rs)"
   ]
  },
  {
   "cell_type": "code",
   "execution_count": 41,
   "metadata": {},
   "outputs": [
    {
     "name": "stdout",
     "output_type": "stream",
     "text": [
      "           A    A-     B    B-\n",
      "MARKS   85.0  80.0  65.0  70.0\n",
      "GRADES   4.0   3.5   2.0   2.5\n"
     ]
    }
   ],
   "source": [
    "print(rs.T)    #transpose data"
   ]
  },
  {
   "cell_type": "code",
   "execution_count": 42,
   "metadata": {},
   "outputs": [
    {
     "data": {
      "text/plain": [
       "array([[85. ,  4. ],\n",
       "       [80. ,  3.5],\n",
       "       [65. ,  2. ],\n",
       "       [70. ,  2.5]])"
      ]
     },
     "execution_count": 42,
     "metadata": {},
     "output_type": "execute_result"
    }
   ],
   "source": [
    "rs.values"
   ]
  },
  {
   "cell_type": "code",
   "execution_count": 43,
   "metadata": {},
   "outputs": [
    {
     "data": {
      "text/plain": [
       "Index(['A', 'A-', 'B', 'B-'], dtype='object')"
      ]
     },
     "execution_count": 43,
     "metadata": {},
     "output_type": "execute_result"
    }
   ],
   "source": [
    "rs.index"
   ]
  },
  {
   "cell_type": "code",
   "execution_count": 44,
   "metadata": {},
   "outputs": [
    {
     "data": {
      "text/plain": [
       "65.0"
      ]
     },
     "execution_count": 44,
     "metadata": {},
     "output_type": "execute_result"
    }
   ],
   "source": [
    "rs.values[2,0]"
   ]
  },
  {
   "cell_type": "code",
   "execution_count": 45,
   "metadata": {},
   "outputs": [
    {
     "data": {
      "text/plain": [
       "Index(['MARKS', 'GRADES'], dtype='object')"
      ]
     },
     "execution_count": 45,
     "metadata": {},
     "output_type": "execute_result"
    }
   ],
   "source": [
    "rs.columns"
   ]
  },
  {
   "cell_type": "code",
   "execution_count": 49,
   "metadata": {},
   "outputs": [
    {
     "name": "stdout",
     "output_type": "stream",
     "text": [
      "    MARKS  GRADES  ScaledMarks\n",
      "A      85     4.0    94.444444\n",
      "A-     80     3.5    88.888889\n",
      "B      65     2.0    72.222222\n",
      "B-     70     2.5    77.777778\n"
     ]
    }
   ],
   "source": [
    "rs['ScaledMarks']=100*(rs['MARKS']/90)\n",
    "print(rs)"
   ]
  },
  {
   "cell_type": "code",
   "execution_count": 50,
   "metadata": {},
   "outputs": [
    {
     "name": "stdout",
     "output_type": "stream",
     "text": [
      "    MARKS  GRADES\n",
      "A      85     4.0\n",
      "A-     80     3.5\n",
      "B      65     2.0\n",
      "B-     70     2.5\n"
     ]
    }
   ],
   "source": [
    "del rs['ScaledMarks']\n",
    "print(rs)"
   ]
  },
  {
   "cell_type": "code",
   "execution_count": 56,
   "metadata": {},
   "outputs": [
    {
     "name": "stdout",
     "output_type": "stream",
     "text": [
      "    MARKS  GRADES\n",
      "A      85     4.0\n",
      "A-     80     3.5\n"
     ]
    }
   ],
   "source": [
    "G=rs[rs['MARKS']>70]  #Doubt-Not Understand\n",
    "print(G)"
   ]
  },
  {
   "cell_type": "markdown",
   "metadata": {},
   "source": [
    "# PANDAS(NaN)"
   ]
  },
  {
   "cell_type": "code",
   "execution_count": 70,
   "metadata": {},
   "outputs": [
    {
     "name": "stdout",
     "output_type": "stream",
     "text": [
      "     a  b    c\n",
      "0  1.0  4  NaN\n",
      "1  NaN -3  9.0\n"
     ]
    }
   ],
   "source": [
    "A=pd.DataFrame([{'a':1,'b':4},{'b':-3,\"c\":9}])\n",
    "print(A)"
   ]
  },
  {
   "cell_type": "code",
   "execution_count": 76,
   "metadata": {},
   "outputs": [
    {
     "data": {
      "text/html": [
       "<div>\n",
       "<style scoped>\n",
       "    .dataframe tbody tr th:only-of-type {\n",
       "        vertical-align: middle;\n",
       "    }\n",
       "\n",
       "    .dataframe tbody tr th {\n",
       "        vertical-align: top;\n",
       "    }\n",
       "\n",
       "    .dataframe thead th {\n",
       "        text-align: right;\n",
       "    }\n",
       "</style>\n",
       "<table border=\"1\" class=\"dataframe\">\n",
       "  <thead>\n",
       "    <tr style=\"text-align: right;\">\n",
       "      <th></th>\n",
       "      <th>a</th>\n",
       "      <th>b</th>\n",
       "      <th>c</th>\n",
       "    </tr>\n",
       "  </thead>\n",
       "  <tbody>\n",
       "    <tr>\n",
       "      <th>0</th>\n",
       "      <td>1.0</td>\n",
       "      <td>4</td>\n",
       "      <td>0.0</td>\n",
       "    </tr>\n",
       "    <tr>\n",
       "      <th>1</th>\n",
       "      <td>0.0</td>\n",
       "      <td>-3</td>\n",
       "      <td>9.0</td>\n",
       "    </tr>\n",
       "  </tbody>\n",
       "</table>\n",
       "</div>"
      ],
      "text/plain": [
       "     a  b    c\n",
       "0  1.0  4  0.0\n",
       "1  0.0 -3  9.0"
      ]
     },
     "execution_count": 76,
     "metadata": {},
     "output_type": "execute_result"
    }
   ],
   "source": [
    "A.fillna(0)"
   ]
  },
  {
   "cell_type": "code",
   "execution_count": 83,
   "metadata": {},
   "outputs": [],
   "source": [
    "A.dropna?"
   ]
  },
  {
   "cell_type": "markdown",
   "metadata": {},
   "source": [
    "# PANDAS(Indexing)"
   ]
  },
  {
   "cell_type": "code",
   "execution_count": 85,
   "metadata": {},
   "outputs": [],
   "source": [
    "#explicit index,   use loc instead\n",
    "#implicit index,   use iloc instead"
   ]
  },
  {
   "cell_type": "code",
   "execution_count": 86,
   "metadata": {},
   "outputs": [],
   "source": [
    "A=pd.Series(['a','b','c'],index=[1,3,5])"
   ]
  },
  {
   "cell_type": "code",
   "execution_count": 87,
   "metadata": {},
   "outputs": [
    {
     "data": {
      "text/plain": [
       "'a'"
      ]
     },
     "execution_count": 87,
     "metadata": {},
     "output_type": "execute_result"
    }
   ],
   "source": [
    "A[1]"
   ]
  },
  {
   "cell_type": "code",
   "execution_count": 88,
   "metadata": {},
   "outputs": [
    {
     "data": {
      "text/plain": [
       "3    b\n",
       "5    c\n",
       "dtype: object"
      ]
     },
     "execution_count": 88,
     "metadata": {},
     "output_type": "execute_result"
    }
   ],
   "source": [
    "A[1:3]    #implicit indices"
   ]
  },
  {
   "cell_type": "code",
   "execution_count": 90,
   "metadata": {},
   "outputs": [
    {
     "data": {
      "text/plain": [
       "1    a\n",
       "3    b\n",
       "dtype: object"
      ]
     },
     "execution_count": 90,
     "metadata": {},
     "output_type": "execute_result"
    }
   ],
   "source": [
    "A.loc[1:3]   #explicit indices"
   ]
  },
  {
   "cell_type": "code",
   "execution_count": 91,
   "metadata": {},
   "outputs": [
    {
     "data": {
      "text/plain": [
       "3    b\n",
       "5    c\n",
       "dtype: object"
      ]
     },
     "execution_count": 91,
     "metadata": {},
     "output_type": "execute_result"
    }
   ],
   "source": [
    "A.iloc[1:3]   #implicit indices"
   ]
  },
  {
   "cell_type": "code",
   "execution_count": 92,
   "metadata": {},
   "outputs": [
    {
     "data": {
      "text/html": [
       "<div>\n",
       "<style scoped>\n",
       "    .dataframe tbody tr th:only-of-type {\n",
       "        vertical-align: middle;\n",
       "    }\n",
       "\n",
       "    .dataframe tbody tr th {\n",
       "        vertical-align: top;\n",
       "    }\n",
       "\n",
       "    .dataframe thead th {\n",
       "        text-align: right;\n",
       "    }\n",
       "</style>\n",
       "<table border=\"1\" class=\"dataframe\">\n",
       "  <thead>\n",
       "    <tr style=\"text-align: right;\">\n",
       "      <th></th>\n",
       "      <th>MARKS</th>\n",
       "      <th>GRADES</th>\n",
       "    </tr>\n",
       "  </thead>\n",
       "  <tbody>\n",
       "    <tr>\n",
       "      <th>A</th>\n",
       "      <td>85</td>\n",
       "      <td>4.0</td>\n",
       "    </tr>\n",
       "    <tr>\n",
       "      <th>A-</th>\n",
       "      <td>80</td>\n",
       "      <td>3.5</td>\n",
       "    </tr>\n",
       "    <tr>\n",
       "      <th>B</th>\n",
       "      <td>65</td>\n",
       "      <td>2.0</td>\n",
       "    </tr>\n",
       "    <tr>\n",
       "      <th>B-</th>\n",
       "      <td>70</td>\n",
       "      <td>2.5</td>\n",
       "    </tr>\n",
       "  </tbody>\n",
       "</table>\n",
       "</div>"
      ],
      "text/plain": [
       "    MARKS  GRADES\n",
       "A      85     4.0\n",
       "A-     80     3.5\n",
       "B      65     2.0\n",
       "B-     70     2.5"
      ]
     },
     "execution_count": 92,
     "metadata": {},
     "output_type": "execute_result"
    }
   ],
   "source": [
    "rs"
   ]
  },
  {
   "cell_type": "code",
   "execution_count": 95,
   "metadata": {},
   "outputs": [
    {
     "data": {
      "text/plain": [
       "MARKS     65.0\n",
       "GRADES     2.0\n",
       "Name: B, dtype: float64"
      ]
     },
     "execution_count": 95,
     "metadata": {},
     "output_type": "execute_result"
    }
   ],
   "source": [
    "rs.iloc[2,:]"
   ]
  },
  {
   "cell_type": "code",
   "execution_count": 104,
   "metadata": {},
   "outputs": [
    {
     "data": {
      "text/html": [
       "<div>\n",
       "<style scoped>\n",
       "    .dataframe tbody tr th:only-of-type {\n",
       "        vertical-align: middle;\n",
       "    }\n",
       "\n",
       "    .dataframe tbody tr th {\n",
       "        vertical-align: top;\n",
       "    }\n",
       "\n",
       "    .dataframe thead th {\n",
       "        text-align: right;\n",
       "    }\n",
       "</style>\n",
       "<table border=\"1\" class=\"dataframe\">\n",
       "  <thead>\n",
       "    <tr style=\"text-align: right;\">\n",
       "      <th></th>\n",
       "      <th>MARKS</th>\n",
       "      <th>GRADES</th>\n",
       "    </tr>\n",
       "  </thead>\n",
       "  <tbody>\n",
       "    <tr>\n",
       "      <th>B-</th>\n",
       "      <td>70</td>\n",
       "      <td>2.5</td>\n",
       "    </tr>\n",
       "    <tr>\n",
       "      <th>B</th>\n",
       "      <td>65</td>\n",
       "      <td>2.0</td>\n",
       "    </tr>\n",
       "    <tr>\n",
       "      <th>A-</th>\n",
       "      <td>80</td>\n",
       "      <td>3.5</td>\n",
       "    </tr>\n",
       "    <tr>\n",
       "      <th>A</th>\n",
       "      <td>85</td>\n",
       "      <td>4.0</td>\n",
       "    </tr>\n",
       "  </tbody>\n",
       "</table>\n",
       "</div>"
      ],
      "text/plain": [
       "    MARKS  GRADES\n",
       "B-     70     2.5\n",
       "B      65     2.0\n",
       "A-     80     3.5\n",
       "A      85     4.0"
      ]
     },
     "execution_count": 104,
     "metadata": {},
     "output_type": "execute_result"
    }
   ],
   "source": [
    "rs.iloc[::-1,:]"
   ]
  },
  {
   "cell_type": "markdown",
   "metadata": {},
   "source": [
    "# PANDAS(csv files)"
   ]
  },
  {
   "cell_type": "code",
   "execution_count": 36,
   "metadata": {},
   "outputs": [],
   "source": [
    "import numpy as np\n",
    "import pandas as pd\n",
    "from sklearn.impute import SimpleImputer\n",
    "df=pd.read_csv('C:/covid_19_data.csv')"
   ]
  },
  {
   "cell_type": "code",
   "execution_count": 37,
   "metadata": {},
   "outputs": [
    {
     "data": {
      "text/html": [
       "<div>\n",
       "<style scoped>\n",
       "    .dataframe tbody tr th:only-of-type {\n",
       "        vertical-align: middle;\n",
       "    }\n",
       "\n",
       "    .dataframe tbody tr th {\n",
       "        vertical-align: top;\n",
       "    }\n",
       "\n",
       "    .dataframe thead th {\n",
       "        text-align: right;\n",
       "    }\n",
       "</style>\n",
       "<table border=\"1\" class=\"dataframe\">\n",
       "  <thead>\n",
       "    <tr style=\"text-align: right;\">\n",
       "      <th></th>\n",
       "      <th>SNo</th>\n",
       "      <th>ObservationDate</th>\n",
       "      <th>Province/State</th>\n",
       "      <th>Country/Region</th>\n",
       "      <th>Last Update</th>\n",
       "      <th>Confirmed</th>\n",
       "      <th>Deaths</th>\n",
       "      <th>Recovered</th>\n",
       "    </tr>\n",
       "  </thead>\n",
       "  <tbody>\n",
       "    <tr>\n",
       "      <th>0</th>\n",
       "      <td>1</td>\n",
       "      <td>01/22/2020</td>\n",
       "      <td>Anhui</td>\n",
       "      <td>Mainland China</td>\n",
       "      <td>1/22/2020 17:00</td>\n",
       "      <td>1.0</td>\n",
       "      <td>0.0</td>\n",
       "      <td>0.0</td>\n",
       "    </tr>\n",
       "    <tr>\n",
       "      <th>1</th>\n",
       "      <td>2</td>\n",
       "      <td>01/22/2020</td>\n",
       "      <td>Beijing</td>\n",
       "      <td>Mainland China</td>\n",
       "      <td>1/22/2020 17:00</td>\n",
       "      <td>14.0</td>\n",
       "      <td>0.0</td>\n",
       "      <td>0.0</td>\n",
       "    </tr>\n",
       "    <tr>\n",
       "      <th>2</th>\n",
       "      <td>3</td>\n",
       "      <td>01/22/2020</td>\n",
       "      <td>Chongqing</td>\n",
       "      <td>Mainland China</td>\n",
       "      <td>1/22/2020 17:00</td>\n",
       "      <td>6.0</td>\n",
       "      <td>0.0</td>\n",
       "      <td>0.0</td>\n",
       "    </tr>\n",
       "    <tr>\n",
       "      <th>3</th>\n",
       "      <td>4</td>\n",
       "      <td>01/22/2020</td>\n",
       "      <td>Fujian</td>\n",
       "      <td>Mainland China</td>\n",
       "      <td>1/22/2020 17:00</td>\n",
       "      <td>1.0</td>\n",
       "      <td>0.0</td>\n",
       "      <td>0.0</td>\n",
       "    </tr>\n",
       "    <tr>\n",
       "      <th>4</th>\n",
       "      <td>5</td>\n",
       "      <td>01/22/2020</td>\n",
       "      <td>Gansu</td>\n",
       "      <td>Mainland China</td>\n",
       "      <td>1/22/2020 17:00</td>\n",
       "      <td>0.0</td>\n",
       "      <td>0.0</td>\n",
       "      <td>0.0</td>\n",
       "    </tr>\n",
       "  </tbody>\n",
       "</table>\n",
       "</div>"
      ],
      "text/plain": [
       "   SNo ObservationDate Province/State  Country/Region      Last Update  \\\n",
       "0    1      01/22/2020          Anhui  Mainland China  1/22/2020 17:00   \n",
       "1    2      01/22/2020        Beijing  Mainland China  1/22/2020 17:00   \n",
       "2    3      01/22/2020      Chongqing  Mainland China  1/22/2020 17:00   \n",
       "3    4      01/22/2020         Fujian  Mainland China  1/22/2020 17:00   \n",
       "4    5      01/22/2020          Gansu  Mainland China  1/22/2020 17:00   \n",
       "\n",
       "   Confirmed  Deaths  Recovered  \n",
       "0        1.0     0.0        0.0  \n",
       "1       14.0     0.0        0.0  \n",
       "2        6.0     0.0        0.0  \n",
       "3        1.0     0.0        0.0  \n",
       "4        0.0     0.0        0.0  "
      ]
     },
     "execution_count": 37,
     "metadata": {},
     "output_type": "execute_result"
    }
   ],
   "source": [
    "df.head()   #By default show first 5 records"
   ]
  },
  {
   "cell_type": "code",
   "execution_count": 38,
   "metadata": {},
   "outputs": [
    {
     "data": {
      "text/html": [
       "<div>\n",
       "<style scoped>\n",
       "    .dataframe tbody tr th:only-of-type {\n",
       "        vertical-align: middle;\n",
       "    }\n",
       "\n",
       "    .dataframe tbody tr th {\n",
       "        vertical-align: top;\n",
       "    }\n",
       "\n",
       "    .dataframe thead th {\n",
       "        text-align: right;\n",
       "    }\n",
       "</style>\n",
       "<table border=\"1\" class=\"dataframe\">\n",
       "  <thead>\n",
       "    <tr style=\"text-align: right;\">\n",
       "      <th></th>\n",
       "      <th>SNo</th>\n",
       "      <th>ObservationDate</th>\n",
       "      <th>Province/State</th>\n",
       "      <th>Country/Region</th>\n",
       "      <th>Last Update</th>\n",
       "      <th>Confirmed</th>\n",
       "      <th>Deaths</th>\n",
       "      <th>Recovered</th>\n",
       "    </tr>\n",
       "  </thead>\n",
       "  <tbody>\n",
       "    <tr>\n",
       "      <th>0</th>\n",
       "      <td>1</td>\n",
       "      <td>01/22/2020</td>\n",
       "      <td>Anhui</td>\n",
       "      <td>Mainland China</td>\n",
       "      <td>1/22/2020 17:00</td>\n",
       "      <td>1.0</td>\n",
       "      <td>0.0</td>\n",
       "      <td>0.0</td>\n",
       "    </tr>\n",
       "    <tr>\n",
       "      <th>1</th>\n",
       "      <td>2</td>\n",
       "      <td>01/22/2020</td>\n",
       "      <td>Beijing</td>\n",
       "      <td>Mainland China</td>\n",
       "      <td>1/22/2020 17:00</td>\n",
       "      <td>14.0</td>\n",
       "      <td>0.0</td>\n",
       "      <td>0.0</td>\n",
       "    </tr>\n",
       "    <tr>\n",
       "      <th>2</th>\n",
       "      <td>3</td>\n",
       "      <td>01/22/2020</td>\n",
       "      <td>Chongqing</td>\n",
       "      <td>Mainland China</td>\n",
       "      <td>1/22/2020 17:00</td>\n",
       "      <td>6.0</td>\n",
       "      <td>0.0</td>\n",
       "      <td>0.0</td>\n",
       "    </tr>\n",
       "    <tr>\n",
       "      <th>3</th>\n",
       "      <td>4</td>\n",
       "      <td>01/22/2020</td>\n",
       "      <td>Fujian</td>\n",
       "      <td>Mainland China</td>\n",
       "      <td>1/22/2020 17:00</td>\n",
       "      <td>1.0</td>\n",
       "      <td>0.0</td>\n",
       "      <td>0.0</td>\n",
       "    </tr>\n",
       "    <tr>\n",
       "      <th>4</th>\n",
       "      <td>5</td>\n",
       "      <td>01/22/2020</td>\n",
       "      <td>Gansu</td>\n",
       "      <td>Mainland China</td>\n",
       "      <td>1/22/2020 17:00</td>\n",
       "      <td>0.0</td>\n",
       "      <td>0.0</td>\n",
       "      <td>0.0</td>\n",
       "    </tr>\n",
       "    <tr>\n",
       "      <th>5</th>\n",
       "      <td>6</td>\n",
       "      <td>01/22/2020</td>\n",
       "      <td>Guangdong</td>\n",
       "      <td>Mainland China</td>\n",
       "      <td>1/22/2020 17:00</td>\n",
       "      <td>26.0</td>\n",
       "      <td>0.0</td>\n",
       "      <td>0.0</td>\n",
       "    </tr>\n",
       "    <tr>\n",
       "      <th>6</th>\n",
       "      <td>7</td>\n",
       "      <td>01/22/2020</td>\n",
       "      <td>Guangxi</td>\n",
       "      <td>Mainland China</td>\n",
       "      <td>1/22/2020 17:00</td>\n",
       "      <td>2.0</td>\n",
       "      <td>0.0</td>\n",
       "      <td>0.0</td>\n",
       "    </tr>\n",
       "    <tr>\n",
       "      <th>7</th>\n",
       "      <td>8</td>\n",
       "      <td>01/22/2020</td>\n",
       "      <td>Guizhou</td>\n",
       "      <td>Mainland China</td>\n",
       "      <td>1/22/2020 17:00</td>\n",
       "      <td>1.0</td>\n",
       "      <td>0.0</td>\n",
       "      <td>0.0</td>\n",
       "    </tr>\n",
       "    <tr>\n",
       "      <th>8</th>\n",
       "      <td>9</td>\n",
       "      <td>01/22/2020</td>\n",
       "      <td>Hainan</td>\n",
       "      <td>Mainland China</td>\n",
       "      <td>1/22/2020 17:00</td>\n",
       "      <td>4.0</td>\n",
       "      <td>0.0</td>\n",
       "      <td>0.0</td>\n",
       "    </tr>\n",
       "    <tr>\n",
       "      <th>9</th>\n",
       "      <td>10</td>\n",
       "      <td>01/22/2020</td>\n",
       "      <td>Hebei</td>\n",
       "      <td>Mainland China</td>\n",
       "      <td>1/22/2020 17:00</td>\n",
       "      <td>1.0</td>\n",
       "      <td>0.0</td>\n",
       "      <td>0.0</td>\n",
       "    </tr>\n",
       "  </tbody>\n",
       "</table>\n",
       "</div>"
      ],
      "text/plain": [
       "   SNo ObservationDate Province/State  Country/Region      Last Update  \\\n",
       "0    1      01/22/2020          Anhui  Mainland China  1/22/2020 17:00   \n",
       "1    2      01/22/2020        Beijing  Mainland China  1/22/2020 17:00   \n",
       "2    3      01/22/2020      Chongqing  Mainland China  1/22/2020 17:00   \n",
       "3    4      01/22/2020         Fujian  Mainland China  1/22/2020 17:00   \n",
       "4    5      01/22/2020          Gansu  Mainland China  1/22/2020 17:00   \n",
       "5    6      01/22/2020      Guangdong  Mainland China  1/22/2020 17:00   \n",
       "6    7      01/22/2020        Guangxi  Mainland China  1/22/2020 17:00   \n",
       "7    8      01/22/2020        Guizhou  Mainland China  1/22/2020 17:00   \n",
       "8    9      01/22/2020         Hainan  Mainland China  1/22/2020 17:00   \n",
       "9   10      01/22/2020          Hebei  Mainland China  1/22/2020 17:00   \n",
       "\n",
       "   Confirmed  Deaths  Recovered  \n",
       "0        1.0     0.0        0.0  \n",
       "1       14.0     0.0        0.0  \n",
       "2        6.0     0.0        0.0  \n",
       "3        1.0     0.0        0.0  \n",
       "4        0.0     0.0        0.0  \n",
       "5       26.0     0.0        0.0  \n",
       "6        2.0     0.0        0.0  \n",
       "7        1.0     0.0        0.0  \n",
       "8        4.0     0.0        0.0  \n",
       "9        1.0     0.0        0.0  "
      ]
     },
     "execution_count": 38,
     "metadata": {},
     "output_type": "execute_result"
    }
   ],
   "source": [
    "df.head(10)"
   ]
  },
  {
   "cell_type": "code",
   "execution_count": 43,
   "metadata": {},
   "outputs": [],
   "source": [
    "df.drop(['SNo','Last Update'],axis=1,inplace=True)          #OR      del df['SNo']"
   ]
  },
  {
   "cell_type": "code",
   "execution_count": 44,
   "metadata": {},
   "outputs": [
    {
     "data": {
      "text/html": [
       "<div>\n",
       "<style scoped>\n",
       "    .dataframe tbody tr th:only-of-type {\n",
       "        vertical-align: middle;\n",
       "    }\n",
       "\n",
       "    .dataframe tbody tr th {\n",
       "        vertical-align: top;\n",
       "    }\n",
       "\n",
       "    .dataframe thead th {\n",
       "        text-align: right;\n",
       "    }\n",
       "</style>\n",
       "<table border=\"1\" class=\"dataframe\">\n",
       "  <thead>\n",
       "    <tr style=\"text-align: right;\">\n",
       "      <th></th>\n",
       "      <th>ObservationDate</th>\n",
       "      <th>Province/State</th>\n",
       "      <th>Country/Region</th>\n",
       "      <th>Confirmed</th>\n",
       "      <th>Deaths</th>\n",
       "      <th>Recovered</th>\n",
       "    </tr>\n",
       "  </thead>\n",
       "  <tbody>\n",
       "    <tr>\n",
       "      <th>0</th>\n",
       "      <td>01/22/2020</td>\n",
       "      <td>Anhui</td>\n",
       "      <td>Mainland China</td>\n",
       "      <td>1.0</td>\n",
       "      <td>0.0</td>\n",
       "      <td>0.0</td>\n",
       "    </tr>\n",
       "    <tr>\n",
       "      <th>1</th>\n",
       "      <td>01/22/2020</td>\n",
       "      <td>Beijing</td>\n",
       "      <td>Mainland China</td>\n",
       "      <td>14.0</td>\n",
       "      <td>0.0</td>\n",
       "      <td>0.0</td>\n",
       "    </tr>\n",
       "    <tr>\n",
       "      <th>2</th>\n",
       "      <td>01/22/2020</td>\n",
       "      <td>Chongqing</td>\n",
       "      <td>Mainland China</td>\n",
       "      <td>6.0</td>\n",
       "      <td>0.0</td>\n",
       "      <td>0.0</td>\n",
       "    </tr>\n",
       "    <tr>\n",
       "      <th>3</th>\n",
       "      <td>01/22/2020</td>\n",
       "      <td>Fujian</td>\n",
       "      <td>Mainland China</td>\n",
       "      <td>1.0</td>\n",
       "      <td>0.0</td>\n",
       "      <td>0.0</td>\n",
       "    </tr>\n",
       "    <tr>\n",
       "      <th>4</th>\n",
       "      <td>01/22/2020</td>\n",
       "      <td>Gansu</td>\n",
       "      <td>Mainland China</td>\n",
       "      <td>0.0</td>\n",
       "      <td>0.0</td>\n",
       "      <td>0.0</td>\n",
       "    </tr>\n",
       "  </tbody>\n",
       "</table>\n",
       "</div>"
      ],
      "text/plain": [
       "  ObservationDate Province/State  Country/Region  Confirmed  Deaths  Recovered\n",
       "0      01/22/2020          Anhui  Mainland China        1.0     0.0        0.0\n",
       "1      01/22/2020        Beijing  Mainland China       14.0     0.0        0.0\n",
       "2      01/22/2020      Chongqing  Mainland China        6.0     0.0        0.0\n",
       "3      01/22/2020         Fujian  Mainland China        1.0     0.0        0.0\n",
       "4      01/22/2020          Gansu  Mainland China        0.0     0.0        0.0"
      ]
     },
     "execution_count": 44,
     "metadata": {},
     "output_type": "execute_result"
    }
   ],
   "source": [
    "df.head()"
   ]
  },
  {
   "cell_type": "code",
   "execution_count": 45,
   "metadata": {},
   "outputs": [],
   "source": [
    "df.rename(columns={'ObservationDate':'Date','Province/State':'Province','Country/Region':'Country'},inplace=True)"
   ]
  },
  {
   "cell_type": "code",
   "execution_count": 46,
   "metadata": {},
   "outputs": [
    {
     "data": {
      "text/html": [
       "<div>\n",
       "<style scoped>\n",
       "    .dataframe tbody tr th:only-of-type {\n",
       "        vertical-align: middle;\n",
       "    }\n",
       "\n",
       "    .dataframe tbody tr th {\n",
       "        vertical-align: top;\n",
       "    }\n",
       "\n",
       "    .dataframe thead th {\n",
       "        text-align: right;\n",
       "    }\n",
       "</style>\n",
       "<table border=\"1\" class=\"dataframe\">\n",
       "  <thead>\n",
       "    <tr style=\"text-align: right;\">\n",
       "      <th></th>\n",
       "      <th>Date</th>\n",
       "      <th>Province</th>\n",
       "      <th>Country</th>\n",
       "      <th>Confirmed</th>\n",
       "      <th>Deaths</th>\n",
       "      <th>Recovered</th>\n",
       "    </tr>\n",
       "  </thead>\n",
       "  <tbody>\n",
       "    <tr>\n",
       "      <th>0</th>\n",
       "      <td>01/22/2020</td>\n",
       "      <td>Anhui</td>\n",
       "      <td>Mainland China</td>\n",
       "      <td>1.0</td>\n",
       "      <td>0.0</td>\n",
       "      <td>0.0</td>\n",
       "    </tr>\n",
       "    <tr>\n",
       "      <th>1</th>\n",
       "      <td>01/22/2020</td>\n",
       "      <td>Beijing</td>\n",
       "      <td>Mainland China</td>\n",
       "      <td>14.0</td>\n",
       "      <td>0.0</td>\n",
       "      <td>0.0</td>\n",
       "    </tr>\n",
       "    <tr>\n",
       "      <th>2</th>\n",
       "      <td>01/22/2020</td>\n",
       "      <td>Chongqing</td>\n",
       "      <td>Mainland China</td>\n",
       "      <td>6.0</td>\n",
       "      <td>0.0</td>\n",
       "      <td>0.0</td>\n",
       "    </tr>\n",
       "    <tr>\n",
       "      <th>3</th>\n",
       "      <td>01/22/2020</td>\n",
       "      <td>Fujian</td>\n",
       "      <td>Mainland China</td>\n",
       "      <td>1.0</td>\n",
       "      <td>0.0</td>\n",
       "      <td>0.0</td>\n",
       "    </tr>\n",
       "    <tr>\n",
       "      <th>4</th>\n",
       "      <td>01/22/2020</td>\n",
       "      <td>Gansu</td>\n",
       "      <td>Mainland China</td>\n",
       "      <td>0.0</td>\n",
       "      <td>0.0</td>\n",
       "      <td>0.0</td>\n",
       "    </tr>\n",
       "  </tbody>\n",
       "</table>\n",
       "</div>"
      ],
      "text/plain": [
       "         Date   Province         Country  Confirmed  Deaths  Recovered\n",
       "0  01/22/2020      Anhui  Mainland China        1.0     0.0        0.0\n",
       "1  01/22/2020    Beijing  Mainland China       14.0     0.0        0.0\n",
       "2  01/22/2020  Chongqing  Mainland China        6.0     0.0        0.0\n",
       "3  01/22/2020     Fujian  Mainland China        1.0     0.0        0.0\n",
       "4  01/22/2020      Gansu  Mainland China        0.0     0.0        0.0"
      ]
     },
     "execution_count": 46,
     "metadata": {},
     "output_type": "execute_result"
    }
   ],
   "source": [
    "df.head()"
   ]
  },
  {
   "cell_type": "code",
   "execution_count": 47,
   "metadata": {},
   "outputs": [],
   "source": [
    "df['Date']=pd.to_datetime(df['Date'])"
   ]
  },
  {
   "cell_type": "code",
   "execution_count": 48,
   "metadata": {},
   "outputs": [
    {
     "data": {
      "text/html": [
       "<div>\n",
       "<style scoped>\n",
       "    .dataframe tbody tr th:only-of-type {\n",
       "        vertical-align: middle;\n",
       "    }\n",
       "\n",
       "    .dataframe tbody tr th {\n",
       "        vertical-align: top;\n",
       "    }\n",
       "\n",
       "    .dataframe thead th {\n",
       "        text-align: right;\n",
       "    }\n",
       "</style>\n",
       "<table border=\"1\" class=\"dataframe\">\n",
       "  <thead>\n",
       "    <tr style=\"text-align: right;\">\n",
       "      <th></th>\n",
       "      <th>Date</th>\n",
       "      <th>Province</th>\n",
       "      <th>Country</th>\n",
       "      <th>Confirmed</th>\n",
       "      <th>Deaths</th>\n",
       "      <th>Recovered</th>\n",
       "    </tr>\n",
       "  </thead>\n",
       "  <tbody>\n",
       "    <tr>\n",
       "      <th>0</th>\n",
       "      <td>2020-01-22</td>\n",
       "      <td>Anhui</td>\n",
       "      <td>Mainland China</td>\n",
       "      <td>1.0</td>\n",
       "      <td>0.0</td>\n",
       "      <td>0.0</td>\n",
       "    </tr>\n",
       "    <tr>\n",
       "      <th>1</th>\n",
       "      <td>2020-01-22</td>\n",
       "      <td>Beijing</td>\n",
       "      <td>Mainland China</td>\n",
       "      <td>14.0</td>\n",
       "      <td>0.0</td>\n",
       "      <td>0.0</td>\n",
       "    </tr>\n",
       "    <tr>\n",
       "      <th>2</th>\n",
       "      <td>2020-01-22</td>\n",
       "      <td>Chongqing</td>\n",
       "      <td>Mainland China</td>\n",
       "      <td>6.0</td>\n",
       "      <td>0.0</td>\n",
       "      <td>0.0</td>\n",
       "    </tr>\n",
       "    <tr>\n",
       "      <th>3</th>\n",
       "      <td>2020-01-22</td>\n",
       "      <td>Fujian</td>\n",
       "      <td>Mainland China</td>\n",
       "      <td>1.0</td>\n",
       "      <td>0.0</td>\n",
       "      <td>0.0</td>\n",
       "    </tr>\n",
       "    <tr>\n",
       "      <th>4</th>\n",
       "      <td>2020-01-22</td>\n",
       "      <td>Gansu</td>\n",
       "      <td>Mainland China</td>\n",
       "      <td>0.0</td>\n",
       "      <td>0.0</td>\n",
       "      <td>0.0</td>\n",
       "    </tr>\n",
       "  </tbody>\n",
       "</table>\n",
       "</div>"
      ],
      "text/plain": [
       "        Date   Province         Country  Confirmed  Deaths  Recovered\n",
       "0 2020-01-22      Anhui  Mainland China        1.0     0.0        0.0\n",
       "1 2020-01-22    Beijing  Mainland China       14.0     0.0        0.0\n",
       "2 2020-01-22  Chongqing  Mainland China        6.0     0.0        0.0\n",
       "3 2020-01-22     Fujian  Mainland China        1.0     0.0        0.0\n",
       "4 2020-01-22      Gansu  Mainland China        0.0     0.0        0.0"
      ]
     },
     "execution_count": 48,
     "metadata": {},
     "output_type": "execute_result"
    }
   ],
   "source": [
    "df.head()"
   ]
  },
  {
   "cell_type": "code",
   "execution_count": 50,
   "metadata": {},
   "outputs": [
    {
     "data": {
      "text/html": [
       "<div>\n",
       "<style scoped>\n",
       "    .dataframe tbody tr th:only-of-type {\n",
       "        vertical-align: middle;\n",
       "    }\n",
       "\n",
       "    .dataframe tbody tr th {\n",
       "        vertical-align: top;\n",
       "    }\n",
       "\n",
       "    .dataframe thead th {\n",
       "        text-align: right;\n",
       "    }\n",
       "</style>\n",
       "<table border=\"1\" class=\"dataframe\">\n",
       "  <thead>\n",
       "    <tr style=\"text-align: right;\">\n",
       "      <th></th>\n",
       "      <th>Confirmed</th>\n",
       "      <th>Deaths</th>\n",
       "      <th>Recovered</th>\n",
       "    </tr>\n",
       "  </thead>\n",
       "  <tbody>\n",
       "    <tr>\n",
       "      <th>count</th>\n",
       "      <td>2.853070e+05</td>\n",
       "      <td>285307.000000</td>\n",
       "      <td>2.853070e+05</td>\n",
       "    </tr>\n",
       "    <tr>\n",
       "      <th>mean</th>\n",
       "      <td>7.662923e+04</td>\n",
       "      <td>1867.334661</td>\n",
       "      <td>4.478423e+04</td>\n",
       "    </tr>\n",
       "    <tr>\n",
       "      <th>std</th>\n",
       "      <td>2.466176e+05</td>\n",
       "      <td>5905.565551</td>\n",
       "      <td>1.788030e+05</td>\n",
       "    </tr>\n",
       "    <tr>\n",
       "      <th>min</th>\n",
       "      <td>-3.028440e+05</td>\n",
       "      <td>-178.000000</td>\n",
       "      <td>-8.544050e+05</td>\n",
       "    </tr>\n",
       "    <tr>\n",
       "      <th>25%</th>\n",
       "      <td>9.700000e+02</td>\n",
       "      <td>12.000000</td>\n",
       "      <td>1.100000e+01</td>\n",
       "    </tr>\n",
       "    <tr>\n",
       "      <th>50%</th>\n",
       "      <td>9.181000e+03</td>\n",
       "      <td>172.000000</td>\n",
       "      <td>1.552000e+03</td>\n",
       "    </tr>\n",
       "    <tr>\n",
       "      <th>75%</th>\n",
       "      <td>4.561800e+04</td>\n",
       "      <td>1181.000000</td>\n",
       "      <td>1.793500e+04</td>\n",
       "    </tr>\n",
       "    <tr>\n",
       "      <th>max</th>\n",
       "      <td>5.605532e+06</td>\n",
       "      <td>112182.000000</td>\n",
       "      <td>6.399531e+06</td>\n",
       "    </tr>\n",
       "  </tbody>\n",
       "</table>\n",
       "</div>"
      ],
      "text/plain": [
       "          Confirmed         Deaths     Recovered\n",
       "count  2.853070e+05  285307.000000  2.853070e+05\n",
       "mean   7.662923e+04    1867.334661  4.478423e+04\n",
       "std    2.466176e+05    5905.565551  1.788030e+05\n",
       "min   -3.028440e+05    -178.000000 -8.544050e+05\n",
       "25%    9.700000e+02      12.000000  1.100000e+01\n",
       "50%    9.181000e+03     172.000000  1.552000e+03\n",
       "75%    4.561800e+04    1181.000000  1.793500e+04\n",
       "max    5.605532e+06  112182.000000  6.399531e+06"
      ]
     },
     "execution_count": 50,
     "metadata": {},
     "output_type": "execute_result"
    }
   ],
   "source": [
    "df.describe()"
   ]
  },
  {
   "cell_type": "code",
   "execution_count": 52,
   "metadata": {},
   "outputs": [
    {
     "name": "stdout",
     "output_type": "stream",
     "text": [
      "<class 'pandas.core.frame.DataFrame'>\n",
      "RangeIndex: 285307 entries, 0 to 285306\n",
      "Data columns (total 6 columns):\n",
      " #   Column     Non-Null Count   Dtype         \n",
      "---  ------     --------------   -----         \n",
      " 0   Date       285307 non-null  datetime64[ns]\n",
      " 1   Province   212318 non-null  object        \n",
      " 2   Country    285307 non-null  object        \n",
      " 3   Confirmed  285307 non-null  float64       \n",
      " 4   Deaths     285307 non-null  float64       \n",
      " 5   Recovered  285307 non-null  float64       \n",
      "dtypes: datetime64[ns](1), float64(3), object(2)\n",
      "memory usage: 13.1+ MB\n"
     ]
    }
   ],
   "source": [
    "df.info()"
   ]
  },
  {
   "cell_type": "code",
   "execution_count": 57,
   "metadata": {
    "scrolled": false
   },
   "outputs": [],
   "source": [
    "'''imputer=SimpleImputer(strategy='constant')\n",
    "df2=pd.DataFrame(imputer.fit_transform(df),columns=df.columns)'''\n",
    "#                                                   OR\n",
    "df=df.fillna('NA')"
   ]
  },
  {
   "cell_type": "code",
   "execution_count": 59,
   "metadata": {},
   "outputs": [
    {
     "name": "stdout",
     "output_type": "stream",
     "text": [
      "<class 'pandas.core.frame.DataFrame'>\n",
      "RangeIndex: 285307 entries, 0 to 285306\n",
      "Data columns (total 6 columns):\n",
      " #   Column     Non-Null Count   Dtype         \n",
      "---  ------     --------------   -----         \n",
      " 0   Date       285307 non-null  datetime64[ns]\n",
      " 1   Province   285307 non-null  object        \n",
      " 2   Country    285307 non-null  object        \n",
      " 3   Confirmed  285307 non-null  float64       \n",
      " 4   Deaths     285307 non-null  float64       \n",
      " 5   Recovered  285307 non-null  float64       \n",
      "dtypes: datetime64[ns](1), float64(3), object(2)\n",
      "memory usage: 13.1+ MB\n"
     ]
    }
   ],
   "source": [
    "df.info()   #There is no null value in the covid 19 csv data by above command"
   ]
  },
  {
   "cell_type": "code",
   "execution_count": 60,
   "metadata": {},
   "outputs": [
    {
     "data": {
      "text/html": [
       "<div>\n",
       "<style scoped>\n",
       "    .dataframe tbody tr th:only-of-type {\n",
       "        vertical-align: middle;\n",
       "    }\n",
       "\n",
       "    .dataframe tbody tr th {\n",
       "        vertical-align: top;\n",
       "    }\n",
       "\n",
       "    .dataframe thead th {\n",
       "        text-align: right;\n",
       "    }\n",
       "</style>\n",
       "<table border=\"1\" class=\"dataframe\">\n",
       "  <thead>\n",
       "    <tr style=\"text-align: right;\">\n",
       "      <th></th>\n",
       "      <th>Date</th>\n",
       "      <th>Province</th>\n",
       "      <th>Country</th>\n",
       "      <th>Confirmed</th>\n",
       "      <th>Deaths</th>\n",
       "      <th>Recovered</th>\n",
       "    </tr>\n",
       "  </thead>\n",
       "  <tbody>\n",
       "    <tr>\n",
       "      <th>0</th>\n",
       "      <td>2020-01-22</td>\n",
       "      <td>Anhui</td>\n",
       "      <td>Mainland China</td>\n",
       "      <td>1.0</td>\n",
       "      <td>0.0</td>\n",
       "      <td>0.0</td>\n",
       "    </tr>\n",
       "    <tr>\n",
       "      <th>1</th>\n",
       "      <td>2020-01-22</td>\n",
       "      <td>Beijing</td>\n",
       "      <td>Mainland China</td>\n",
       "      <td>14.0</td>\n",
       "      <td>0.0</td>\n",
       "      <td>0.0</td>\n",
       "    </tr>\n",
       "    <tr>\n",
       "      <th>2</th>\n",
       "      <td>2020-01-22</td>\n",
       "      <td>Chongqing</td>\n",
       "      <td>Mainland China</td>\n",
       "      <td>6.0</td>\n",
       "      <td>0.0</td>\n",
       "      <td>0.0</td>\n",
       "    </tr>\n",
       "    <tr>\n",
       "      <th>3</th>\n",
       "      <td>2020-01-22</td>\n",
       "      <td>Fujian</td>\n",
       "      <td>Mainland China</td>\n",
       "      <td>1.0</td>\n",
       "      <td>0.0</td>\n",
       "      <td>0.0</td>\n",
       "    </tr>\n",
       "    <tr>\n",
       "      <th>4</th>\n",
       "      <td>2020-01-22</td>\n",
       "      <td>Gansu</td>\n",
       "      <td>Mainland China</td>\n",
       "      <td>0.0</td>\n",
       "      <td>0.0</td>\n",
       "      <td>0.0</td>\n",
       "    </tr>\n",
       "    <tr>\n",
       "      <th>5</th>\n",
       "      <td>2020-01-22</td>\n",
       "      <td>Guangdong</td>\n",
       "      <td>Mainland China</td>\n",
       "      <td>26.0</td>\n",
       "      <td>0.0</td>\n",
       "      <td>0.0</td>\n",
       "    </tr>\n",
       "    <tr>\n",
       "      <th>6</th>\n",
       "      <td>2020-01-22</td>\n",
       "      <td>Guangxi</td>\n",
       "      <td>Mainland China</td>\n",
       "      <td>2.0</td>\n",
       "      <td>0.0</td>\n",
       "      <td>0.0</td>\n",
       "    </tr>\n",
       "    <tr>\n",
       "      <th>7</th>\n",
       "      <td>2020-01-22</td>\n",
       "      <td>Guizhou</td>\n",
       "      <td>Mainland China</td>\n",
       "      <td>1.0</td>\n",
       "      <td>0.0</td>\n",
       "      <td>0.0</td>\n",
       "    </tr>\n",
       "    <tr>\n",
       "      <th>8</th>\n",
       "      <td>2020-01-22</td>\n",
       "      <td>Hainan</td>\n",
       "      <td>Mainland China</td>\n",
       "      <td>4.0</td>\n",
       "      <td>0.0</td>\n",
       "      <td>0.0</td>\n",
       "    </tr>\n",
       "    <tr>\n",
       "      <th>9</th>\n",
       "      <td>2020-01-22</td>\n",
       "      <td>Hebei</td>\n",
       "      <td>Mainland China</td>\n",
       "      <td>1.0</td>\n",
       "      <td>0.0</td>\n",
       "      <td>0.0</td>\n",
       "    </tr>\n",
       "  </tbody>\n",
       "</table>\n",
       "</div>"
      ],
      "text/plain": [
       "        Date   Province         Country  Confirmed  Deaths  Recovered\n",
       "0 2020-01-22      Anhui  Mainland China        1.0     0.0        0.0\n",
       "1 2020-01-22    Beijing  Mainland China       14.0     0.0        0.0\n",
       "2 2020-01-22  Chongqing  Mainland China        6.0     0.0        0.0\n",
       "3 2020-01-22     Fujian  Mainland China        1.0     0.0        0.0\n",
       "4 2020-01-22      Gansu  Mainland China        0.0     0.0        0.0\n",
       "5 2020-01-22  Guangdong  Mainland China       26.0     0.0        0.0\n",
       "6 2020-01-22    Guangxi  Mainland China        2.0     0.0        0.0\n",
       "7 2020-01-22    Guizhou  Mainland China        1.0     0.0        0.0\n",
       "8 2020-01-22     Hainan  Mainland China        4.0     0.0        0.0\n",
       "9 2020-01-22      Hebei  Mainland China        1.0     0.0        0.0"
      ]
     },
     "execution_count": 60,
     "metadata": {},
     "output_type": "execute_result"
    }
   ],
   "source": [
    "df.head(10)"
   ]
  },
  {
   "cell_type": "code",
   "execution_count": 72,
   "metadata": {
    "scrolled": false,
    "slideshow": {
     "slide_type": "-"
    }
   },
   "outputs": [
    {
     "data": {
      "text/html": [
       "<div>\n",
       "<style scoped>\n",
       "    .dataframe tbody tr th:only-of-type {\n",
       "        vertical-align: middle;\n",
       "    }\n",
       "\n",
       "    .dataframe tbody tr th {\n",
       "        vertical-align: top;\n",
       "    }\n",
       "\n",
       "    .dataframe thead th {\n",
       "        text-align: right;\n",
       "    }\n",
       "</style>\n",
       "<table border=\"1\" class=\"dataframe\">\n",
       "  <thead>\n",
       "    <tr style=\"text-align: right;\">\n",
       "      <th></th>\n",
       "      <th>Country</th>\n",
       "      <th>Confirmed</th>\n",
       "      <th>Deaths</th>\n",
       "      <th>Recovered</th>\n",
       "    </tr>\n",
       "  </thead>\n",
       "  <tbody>\n",
       "    <tr>\n",
       "      <th>0</th>\n",
       "      <td>Azerbaijan</td>\n",
       "      <td>1.0</td>\n",
       "      <td>0.0</td>\n",
       "      <td>0.0</td>\n",
       "    </tr>\n",
       "    <tr>\n",
       "      <th>1</th>\n",
       "      <td>('St. Martin',)</td>\n",
       "      <td>2.0</td>\n",
       "      <td>0.0</td>\n",
       "      <td>0.0</td>\n",
       "    </tr>\n",
       "    <tr>\n",
       "      <th>2</th>\n",
       "      <td>Afghanistan</td>\n",
       "      <td>15297152.0</td>\n",
       "      <td>594820.0</td>\n",
       "      <td>11975357.0</td>\n",
       "    </tr>\n",
       "    <tr>\n",
       "      <th>3</th>\n",
       "      <td>Albania</td>\n",
       "      <td>16206760.0</td>\n",
       "      <td>310382.0</td>\n",
       "      <td>10629990.0</td>\n",
       "    </tr>\n",
       "    <tr>\n",
       "      <th>4</th>\n",
       "      <td>Algeria</td>\n",
       "      <td>24296426.0</td>\n",
       "      <td>743381.0</td>\n",
       "      <td>16599409.0</td>\n",
       "    </tr>\n",
       "    <tr>\n",
       "      <th>...</th>\n",
       "      <td>...</td>\n",
       "      <td>...</td>\n",
       "      <td>...</td>\n",
       "      <td>...</td>\n",
       "    </tr>\n",
       "    <tr>\n",
       "      <th>223</th>\n",
       "      <td>West Bank and Gaza</td>\n",
       "      <td>33622052.0</td>\n",
       "      <td>348247.0</td>\n",
       "      <td>29139481.0</td>\n",
       "    </tr>\n",
       "    <tr>\n",
       "      <th>224</th>\n",
       "      <td>Yemen</td>\n",
       "      <td>785028.0</td>\n",
       "      <td>202847.0</td>\n",
       "      <td>422750.0</td>\n",
       "    </tr>\n",
       "    <tr>\n",
       "      <th>225</th>\n",
       "      <td>Zambia</td>\n",
       "      <td>10991488.0</td>\n",
       "      <td>171894.0</td>\n",
       "      <td>10174297.0</td>\n",
       "    </tr>\n",
       "    <tr>\n",
       "      <th>226</th>\n",
       "      <td>Zimbabwe</td>\n",
       "      <td>5443118.0</td>\n",
       "      <td>194517.0</td>\n",
       "      <td>4615427.0</td>\n",
       "    </tr>\n",
       "    <tr>\n",
       "      <th>227</th>\n",
       "      <td>occupied Palestinian territory</td>\n",
       "      <td>25.0</td>\n",
       "      <td>0.0</td>\n",
       "      <td>0.0</td>\n",
       "    </tr>\n",
       "  </tbody>\n",
       "</table>\n",
       "<p>228 rows × 4 columns</p>\n",
       "</div>"
      ],
      "text/plain": [
       "                            Country   Confirmed    Deaths   Recovered\n",
       "0                        Azerbaijan         1.0       0.0         0.0\n",
       "1                   ('St. Martin',)         2.0       0.0         0.0\n",
       "2                       Afghanistan  15297152.0  594820.0  11975357.0\n",
       "3                           Albania  16206760.0  310382.0  10629990.0\n",
       "4                           Algeria  24296426.0  743381.0  16599409.0\n",
       "..                              ...         ...       ...         ...\n",
       "223              West Bank and Gaza  33622052.0  348247.0  29139481.0\n",
       "224                           Yemen    785028.0  202847.0    422750.0\n",
       "225                          Zambia  10991488.0  171894.0  10174297.0\n",
       "226                        Zimbabwe   5443118.0  194517.0   4615427.0\n",
       "227  occupied Palestinian territory        25.0       0.0         0.0\n",
       "\n",
       "[228 rows x 4 columns]"
      ]
     },
     "execution_count": 72,
     "metadata": {},
     "output_type": "execute_result"
    }
   ],
   "source": [
    "df3=df.groupby('Country')[['Country','Confirmed','Deaths','Recovered']].sum().reset_index()\n",
    "df3"
   ]
  },
  {
   "cell_type": "code",
   "execution_count": 75,
   "metadata": {},
   "outputs": [
    {
     "data": {
      "text/html": [
       "<div>\n",
       "<style scoped>\n",
       "    .dataframe tbody tr th:only-of-type {\n",
       "        vertical-align: middle;\n",
       "    }\n",
       "\n",
       "    .dataframe tbody tr th {\n",
       "        vertical-align: top;\n",
       "    }\n",
       "\n",
       "    .dataframe thead th {\n",
       "        text-align: right;\n",
       "    }\n",
       "</style>\n",
       "<table border=\"1\" class=\"dataframe\">\n",
       "  <thead>\n",
       "    <tr style=\"text-align: right;\">\n",
       "      <th></th>\n",
       "      <th>Country</th>\n",
       "      <th>Date</th>\n",
       "      <th>Confirmed</th>\n",
       "      <th>Deaths</th>\n",
       "      <th>Recovered</th>\n",
       "    </tr>\n",
       "  </thead>\n",
       "  <tbody>\n",
       "    <tr>\n",
       "      <th>0</th>\n",
       "      <td>Azerbaijan</td>\n",
       "      <td>2020-02-28</td>\n",
       "      <td>1.0</td>\n",
       "      <td>0.0</td>\n",
       "      <td>0.0</td>\n",
       "    </tr>\n",
       "    <tr>\n",
       "      <th>1</th>\n",
       "      <td>('St. Martin',)</td>\n",
       "      <td>2020-03-10</td>\n",
       "      <td>2.0</td>\n",
       "      <td>0.0</td>\n",
       "      <td>0.0</td>\n",
       "    </tr>\n",
       "    <tr>\n",
       "      <th>2</th>\n",
       "      <td>Afghanistan</td>\n",
       "      <td>2020-02-24</td>\n",
       "      <td>1.0</td>\n",
       "      <td>0.0</td>\n",
       "      <td>0.0</td>\n",
       "    </tr>\n",
       "    <tr>\n",
       "      <th>3</th>\n",
       "      <td>Afghanistan</td>\n",
       "      <td>2020-02-25</td>\n",
       "      <td>1.0</td>\n",
       "      <td>0.0</td>\n",
       "      <td>0.0</td>\n",
       "    </tr>\n",
       "    <tr>\n",
       "      <th>4</th>\n",
       "      <td>Afghanistan</td>\n",
       "      <td>2020-02-26</td>\n",
       "      <td>1.0</td>\n",
       "      <td>0.0</td>\n",
       "      <td>0.0</td>\n",
       "    </tr>\n",
       "    <tr>\n",
       "      <th>...</th>\n",
       "      <td>...</td>\n",
       "      <td>...</td>\n",
       "      <td>...</td>\n",
       "      <td>...</td>\n",
       "      <td>...</td>\n",
       "    </tr>\n",
       "    <tr>\n",
       "      <th>81544</th>\n",
       "      <td>occupied Palestinian territory</td>\n",
       "      <td>2020-03-12</td>\n",
       "      <td>0.0</td>\n",
       "      <td>0.0</td>\n",
       "      <td>0.0</td>\n",
       "    </tr>\n",
       "    <tr>\n",
       "      <th>81545</th>\n",
       "      <td>occupied Palestinian territory</td>\n",
       "      <td>2020-03-14</td>\n",
       "      <td>0.0</td>\n",
       "      <td>0.0</td>\n",
       "      <td>0.0</td>\n",
       "    </tr>\n",
       "    <tr>\n",
       "      <th>81546</th>\n",
       "      <td>occupied Palestinian territory</td>\n",
       "      <td>2020-03-15</td>\n",
       "      <td>0.0</td>\n",
       "      <td>0.0</td>\n",
       "      <td>0.0</td>\n",
       "    </tr>\n",
       "    <tr>\n",
       "      <th>81547</th>\n",
       "      <td>occupied Palestinian territory</td>\n",
       "      <td>2020-03-16</td>\n",
       "      <td>0.0</td>\n",
       "      <td>0.0</td>\n",
       "      <td>0.0</td>\n",
       "    </tr>\n",
       "    <tr>\n",
       "      <th>81548</th>\n",
       "      <td>occupied Palestinian territory</td>\n",
       "      <td>2020-03-17</td>\n",
       "      <td>0.0</td>\n",
       "      <td>0.0</td>\n",
       "      <td>0.0</td>\n",
       "    </tr>\n",
       "  </tbody>\n",
       "</table>\n",
       "<p>81549 rows × 5 columns</p>\n",
       "</div>"
      ],
      "text/plain": [
       "                              Country       Date  Confirmed  Deaths  Recovered\n",
       "0                          Azerbaijan 2020-02-28        1.0     0.0        0.0\n",
       "1                     ('St. Martin',) 2020-03-10        2.0     0.0        0.0\n",
       "2                         Afghanistan 2020-02-24        1.0     0.0        0.0\n",
       "3                         Afghanistan 2020-02-25        1.0     0.0        0.0\n",
       "4                         Afghanistan 2020-02-26        1.0     0.0        0.0\n",
       "...                               ...        ...        ...     ...        ...\n",
       "81544  occupied Palestinian territory 2020-03-12        0.0     0.0        0.0\n",
       "81545  occupied Palestinian territory 2020-03-14        0.0     0.0        0.0\n",
       "81546  occupied Palestinian territory 2020-03-15        0.0     0.0        0.0\n",
       "81547  occupied Palestinian territory 2020-03-16        0.0     0.0        0.0\n",
       "81548  occupied Palestinian territory 2020-03-17        0.0     0.0        0.0\n",
       "\n",
       "[81549 rows x 5 columns]"
      ]
     },
     "execution_count": 75,
     "metadata": {},
     "output_type": "execute_result"
    }
   ],
   "source": [
    "df4=df.groupby(['Country','Date'])[['Country','Date','Confirmed','Deaths','Recovered']].sum().reset_index()\n",
    "df4"
   ]
  },
  {
   "cell_type": "code",
   "execution_count": 77,
   "metadata": {},
   "outputs": [
    {
     "data": {
      "text/html": [
       "<div>\n",
       "<style scoped>\n",
       "    .dataframe tbody tr th:only-of-type {\n",
       "        vertical-align: middle;\n",
       "    }\n",
       "\n",
       "    .dataframe tbody tr th {\n",
       "        vertical-align: top;\n",
       "    }\n",
       "\n",
       "    .dataframe thead th {\n",
       "        text-align: right;\n",
       "    }\n",
       "</style>\n",
       "<table border=\"1\" class=\"dataframe\">\n",
       "  <thead>\n",
       "    <tr style=\"text-align: right;\">\n",
       "      <th></th>\n",
       "      <th>Country</th>\n",
       "      <th>Date</th>\n",
       "      <th>Confirmed</th>\n",
       "      <th>Deaths</th>\n",
       "      <th>Recovered</th>\n",
       "    </tr>\n",
       "  </thead>\n",
       "  <tbody>\n",
       "    <tr>\n",
       "      <th>35</th>\n",
       "      <td>Afghanistan</td>\n",
       "      <td>2020-03-28</td>\n",
       "      <td>107.0</td>\n",
       "      <td>4.0</td>\n",
       "      <td>2.0</td>\n",
       "    </tr>\n",
       "    <tr>\n",
       "      <th>36</th>\n",
       "      <td>Afghanistan</td>\n",
       "      <td>2020-03-29</td>\n",
       "      <td>118.0</td>\n",
       "      <td>4.0</td>\n",
       "      <td>2.0</td>\n",
       "    </tr>\n",
       "    <tr>\n",
       "      <th>37</th>\n",
       "      <td>Afghanistan</td>\n",
       "      <td>2020-03-30</td>\n",
       "      <td>146.0</td>\n",
       "      <td>4.0</td>\n",
       "      <td>2.0</td>\n",
       "    </tr>\n",
       "    <tr>\n",
       "      <th>38</th>\n",
       "      <td>Afghanistan</td>\n",
       "      <td>2020-03-31</td>\n",
       "      <td>175.0</td>\n",
       "      <td>4.0</td>\n",
       "      <td>5.0</td>\n",
       "    </tr>\n",
       "    <tr>\n",
       "      <th>39</th>\n",
       "      <td>Afghanistan</td>\n",
       "      <td>2020-04-01</td>\n",
       "      <td>197.0</td>\n",
       "      <td>4.0</td>\n",
       "      <td>5.0</td>\n",
       "    </tr>\n",
       "    <tr>\n",
       "      <th>...</th>\n",
       "      <td>...</td>\n",
       "      <td>...</td>\n",
       "      <td>...</td>\n",
       "      <td>...</td>\n",
       "      <td>...</td>\n",
       "    </tr>\n",
       "    <tr>\n",
       "      <th>81537</th>\n",
       "      <td>Zimbabwe</td>\n",
       "      <td>2021-04-28</td>\n",
       "      <td>38191.0</td>\n",
       "      <td>1565.0</td>\n",
       "      <td>35517.0</td>\n",
       "    </tr>\n",
       "    <tr>\n",
       "      <th>81538</th>\n",
       "      <td>Zimbabwe</td>\n",
       "      <td>2021-04-29</td>\n",
       "      <td>38235.0</td>\n",
       "      <td>1567.0</td>\n",
       "      <td>35594.0</td>\n",
       "    </tr>\n",
       "    <tr>\n",
       "      <th>81539</th>\n",
       "      <td>Zimbabwe</td>\n",
       "      <td>2021-04-30</td>\n",
       "      <td>38257.0</td>\n",
       "      <td>1567.0</td>\n",
       "      <td>35612.0</td>\n",
       "    </tr>\n",
       "    <tr>\n",
       "      <th>81540</th>\n",
       "      <td>Zimbabwe</td>\n",
       "      <td>2021-05-01</td>\n",
       "      <td>38260.0</td>\n",
       "      <td>1568.0</td>\n",
       "      <td>35620.0</td>\n",
       "    </tr>\n",
       "    <tr>\n",
       "      <th>81541</th>\n",
       "      <td>Zimbabwe</td>\n",
       "      <td>2021-05-02</td>\n",
       "      <td>38281.0</td>\n",
       "      <td>1570.0</td>\n",
       "      <td>35634.0</td>\n",
       "    </tr>\n",
       "  </tbody>\n",
       "</table>\n",
       "<p>70060 rows × 5 columns</p>\n",
       "</div>"
      ],
      "text/plain": [
       "           Country       Date  Confirmed  Deaths  Recovered\n",
       "35     Afghanistan 2020-03-28      107.0     4.0        2.0\n",
       "36     Afghanistan 2020-03-29      118.0     4.0        2.0\n",
       "37     Afghanistan 2020-03-30      146.0     4.0        2.0\n",
       "38     Afghanistan 2020-03-31      175.0     4.0        5.0\n",
       "39     Afghanistan 2020-04-01      197.0     4.0        5.0\n",
       "...            ...        ...        ...     ...        ...\n",
       "81537     Zimbabwe 2021-04-28    38191.0  1565.0    35517.0\n",
       "81538     Zimbabwe 2021-04-29    38235.0  1567.0    35594.0\n",
       "81539     Zimbabwe 2021-04-30    38257.0  1567.0    35612.0\n",
       "81540     Zimbabwe 2021-05-01    38260.0  1568.0    35620.0\n",
       "81541     Zimbabwe 2021-05-02    38281.0  1570.0    35634.0\n",
       "\n",
       "[70060 rows x 5 columns]"
      ]
     },
     "execution_count": 77,
     "metadata": {},
     "output_type": "execute_result"
    }
   ],
   "source": [
    "df5=df4[df4['Confirmed']>100]\n",
    "df5"
   ]
  },
  {
   "cell_type": "code",
   "execution_count": 78,
   "metadata": {},
   "outputs": [
    {
     "data": {
      "text/html": [
       "<div>\n",
       "<style scoped>\n",
       "    .dataframe tbody tr th:only-of-type {\n",
       "        vertical-align: middle;\n",
       "    }\n",
       "\n",
       "    .dataframe tbody tr th {\n",
       "        vertical-align: top;\n",
       "    }\n",
       "\n",
       "    .dataframe thead th {\n",
       "        text-align: right;\n",
       "    }\n",
       "</style>\n",
       "<table border=\"1\" class=\"dataframe\">\n",
       "  <thead>\n",
       "    <tr style=\"text-align: right;\">\n",
       "      <th></th>\n",
       "      <th>Date</th>\n",
       "      <th>Country</th>\n",
       "      <th>Confirmed</th>\n",
       "      <th>Deaths</th>\n",
       "      <th>Recovered</th>\n",
       "    </tr>\n",
       "  </thead>\n",
       "  <tbody>\n",
       "    <tr>\n",
       "      <th>0</th>\n",
       "      <td>2020-01-22</td>\n",
       "      <td>China</td>\n",
       "      <td>0.0</td>\n",
       "      <td>0.0</td>\n",
       "      <td>0.0</td>\n",
       "    </tr>\n",
       "    <tr>\n",
       "      <th>1</th>\n",
       "      <td>2020-01-22</td>\n",
       "      <td>Hong Kong</td>\n",
       "      <td>0.0</td>\n",
       "      <td>0.0</td>\n",
       "      <td>0.0</td>\n",
       "    </tr>\n",
       "    <tr>\n",
       "      <th>2</th>\n",
       "      <td>2020-01-22</td>\n",
       "      <td>Japan</td>\n",
       "      <td>2.0</td>\n",
       "      <td>0.0</td>\n",
       "      <td>0.0</td>\n",
       "    </tr>\n",
       "    <tr>\n",
       "      <th>3</th>\n",
       "      <td>2020-01-22</td>\n",
       "      <td>Macau</td>\n",
       "      <td>1.0</td>\n",
       "      <td>0.0</td>\n",
       "      <td>0.0</td>\n",
       "    </tr>\n",
       "    <tr>\n",
       "      <th>4</th>\n",
       "      <td>2020-01-22</td>\n",
       "      <td>Mainland China</td>\n",
       "      <td>547.0</td>\n",
       "      <td>17.0</td>\n",
       "      <td>28.0</td>\n",
       "    </tr>\n",
       "    <tr>\n",
       "      <th>...</th>\n",
       "      <td>...</td>\n",
       "      <td>...</td>\n",
       "      <td>...</td>\n",
       "      <td>...</td>\n",
       "      <td>...</td>\n",
       "    </tr>\n",
       "    <tr>\n",
       "      <th>81544</th>\n",
       "      <td>2021-05-02</td>\n",
       "      <td>Vietnam</td>\n",
       "      <td>2962.0</td>\n",
       "      <td>35.0</td>\n",
       "      <td>2549.0</td>\n",
       "    </tr>\n",
       "    <tr>\n",
       "      <th>81545</th>\n",
       "      <td>2021-05-02</td>\n",
       "      <td>West Bank and Gaza</td>\n",
       "      <td>297638.0</td>\n",
       "      <td>3272.0</td>\n",
       "      <td>275392.0</td>\n",
       "    </tr>\n",
       "    <tr>\n",
       "      <th>81546</th>\n",
       "      <td>2021-05-02</td>\n",
       "      <td>Yemen</td>\n",
       "      <td>6341.0</td>\n",
       "      <td>1233.0</td>\n",
       "      <td>2875.0</td>\n",
       "    </tr>\n",
       "    <tr>\n",
       "      <th>81547</th>\n",
       "      <td>2021-05-02</td>\n",
       "      <td>Zambia</td>\n",
       "      <td>91693.0</td>\n",
       "      <td>1253.0</td>\n",
       "      <td>90082.0</td>\n",
       "    </tr>\n",
       "    <tr>\n",
       "      <th>81548</th>\n",
       "      <td>2021-05-02</td>\n",
       "      <td>Zimbabwe</td>\n",
       "      <td>38281.0</td>\n",
       "      <td>1570.0</td>\n",
       "      <td>35634.0</td>\n",
       "    </tr>\n",
       "  </tbody>\n",
       "</table>\n",
       "<p>81549 rows × 5 columns</p>\n",
       "</div>"
      ],
      "text/plain": [
       "            Date             Country  Confirmed  Deaths  Recovered\n",
       "0     2020-01-22               China        0.0     0.0        0.0\n",
       "1     2020-01-22           Hong Kong        0.0     0.0        0.0\n",
       "2     2020-01-22               Japan        2.0     0.0        0.0\n",
       "3     2020-01-22               Macau        1.0     0.0        0.0\n",
       "4     2020-01-22      Mainland China      547.0    17.0       28.0\n",
       "...          ...                 ...        ...     ...        ...\n",
       "81544 2021-05-02             Vietnam     2962.0    35.0     2549.0\n",
       "81545 2021-05-02  West Bank and Gaza   297638.0  3272.0   275392.0\n",
       "81546 2021-05-02               Yemen     6341.0  1233.0     2875.0\n",
       "81547 2021-05-02              Zambia    91693.0  1253.0    90082.0\n",
       "81548 2021-05-02            Zimbabwe    38281.0  1570.0    35634.0\n",
       "\n",
       "[81549 rows x 5 columns]"
      ]
     },
     "execution_count": 78,
     "metadata": {},
     "output_type": "execute_result"
    }
   ],
   "source": [
    "df6=df.groupby(['Date','Country'])[['Country','Date','Confirmed','Deaths','Recovered']].sum().reset_index()\n",
    "df6"
   ]
  },
  {
   "cell_type": "markdown",
   "metadata": {},
   "source": [
    "# MATPLOTLIB"
   ]
  },
  {
   "cell_type": "code",
   "execution_count": 8,
   "metadata": {},
   "outputs": [],
   "source": [
    "import numpy as np\n",
    "import matplotlib.pyplot as plt"
   ]
  },
  {
   "cell_type": "code",
   "execution_count": 9,
   "metadata": {},
   "outputs": [
    {
     "data": {
      "text/plain": [
       "[<matplotlib.lines.Line2D at 0x240fec97940>]"
      ]
     },
     "execution_count": 9,
     "metadata": {},
     "output_type": "execute_result"
    },
    {
     "data": {
      "image/png": "[encoded data removed]",
      "text/plain": [
       "<Figure size 432x288 with 1 Axes>"
      ]
     },
     "metadata": {
      "needs_background": "light"
     },
     "output_type": "display_data"
    }
   ],
   "source": [
    "x=np.linspace(0,10,1000)\n",
    "y=np.sin(x)\n",
    "plt.plot(x,y)"
   ]
  },
  {
   "cell_type": "code",
   "execution_count": 10,
   "metadata": {},
   "outputs": [
    {
     "data": {
      "text/plain": [
       "<matplotlib.collections.PathCollection at 0x240fefd9220>"
      ]
     },
     "execution_count": 10,
     "metadata": {},
     "output_type": "execute_result"
    },
    {
     "data": {
      "image/png": "[encoded data removed]",
      "text/plain": [
       "<Figure size 432x288 with 1 Axes>"
      ]
     },
     "metadata": {
      "needs_background": "light"
     },
     "output_type": "display_data"
    }
   ],
   "source": [
    "plt.scatter(x[:30],y[:30])"
   ]
  },
  {
   "cell_type": "code",
   "execution_count": 11,
   "metadata": {},
   "outputs": [
    {
     "data": {
      "text/plain": [
       "<matplotlib.collections.PathCollection at 0x24080012ca0>"
      ]
     },
     "execution_count": 11,
     "metadata": {},
     "output_type": "execute_result"
    },
    {
     "data": {
      "image/png": "[encoded data removed]",
      "text/plain": [
       "<Figure size 432x288 with 1 Axes>"
      ]
     },
     "metadata": {
      "needs_background": "light"
     },
     "output_type": "display_data"
    }
   ],
   "source": [
    "plt.scatter(x[::10],y[::10])"
   ]
  },
  {
   "cell_type": "code",
   "execution_count": 12,
   "metadata": {},
   "outputs": [
    {
     "data": {
      "text/plain": [
       "<matplotlib.collections.PathCollection at 0x24080077220>"
      ]
     },
     "execution_count": 12,
     "metadata": {},
     "output_type": "execute_result"
    },
    {
     "data": {
      "image/png": "[encoded data removed]",
      "text/plain": [
       "<Figure size 432x288 with 1 Axes>"
      ]
     },
     "metadata": {
      "needs_background": "light"
     },
     "output_type": "display_data"
    }
   ],
   "source": [
    "plt.scatter(x[::10],y[::10],color='red')"
   ]
  },
  {
   "cell_type": "code",
   "execution_count": 33,
   "metadata": {},
   "outputs": [
    {
     "data": {
      "text/plain": [
       "[<matplotlib.lines.Line2D at 0x24081f4b670>]"
      ]
     },
     "execution_count": 33,
     "metadata": {},
     "output_type": "execute_result"
    },
    {
     "data": {
      "image/png": "[encoded data removed]",
      "text/plain": [
       "<Figure size 432x288 with 1 Axes>"
      ]
     },
     "metadata": {
      "needs_background": "light"
     },
     "output_type": "display_data"
    }
   ],
   "source": [
    "plt.plot(x,y,color='blue')\n",
    "plt.plot(x,np.cos(x),color='g')\n",
    "plt.plot(x,np.sin(x-1),color='r')\n",
    "plt.plot(x,np.sin(x+1),color='k')    #k is used for black color"
   ]
  },
  {
   "cell_type": "code",
   "execution_count": 36,
   "metadata": {},
   "outputs": [
    {
     "data": {
      "text/plain": [
       "[<matplotlib.lines.Line2D at 0x24086964b80>]"
      ]
     },
     "execution_count": 36,
     "metadata": {},
     "output_type": "execute_result"
    },
    {
     "data": {
      "image/png": "[encoded data removed]",
      "text/plain": [
       "<Figure size 432x288 with 1 Axes>"
      ]
     },
     "metadata": {
      "needs_background": "light"
     },
     "output_type": "display_data"
    }
   ],
   "source": [
    "plt.plot(x,np.sin(x-0),color='blue')                  #specify color by name\n",
    "plt.plot(x,np.sin(x-1),color='g')                     #short color code(rgbcmyk)\n",
    "plt.plot(x,np.sin(x-2),color='0.75')                  #Grayscale between 0 and 1\n",
    "plt.plot(x,np.sin(x-3),color='#FFDD44')               #Hex code(RRGGBB FROM OO TO FF)\n",
    "plt.plot(x,np.sin(x-4),color=(1.0,0.2,0.3))           #RGB tuple,values 0 and 1\n",
    "plt.plot(x,np.sin(x-5),color='chartreuse')            #all HTML color names supported"
   ]
  },
  {
   "cell_type": "code",
   "execution_count": 47,
   "metadata": {},
   "outputs": [
    {
     "data": {
      "text/plain": [
       "[<matplotlib.lines.Line2D at 0x24083d2e520>]"
      ]
     },
     "execution_count": 47,
     "metadata": {},
     "output_type": "execute_result"
    },
    {
     "data": {
      "image/png": "[encoded data removed]",
      "text/plain": [
       "<Figure size 432x288 with 1 Axes>"
      ]
     },
     "metadata": {
      "needs_background": "light"
     },
     "output_type": "display_data"
    }
   ],
   "source": [
    "plt.plot(x,x+0,'-g')         #solid green\n",
    "plt.plot(x,x+1,'--c')      #dashed cyan\n",
    "plt.plot(x,x+2,'-.k')      #dashdot black\n",
    "plt.plot(x,x+3,':r')       #dotted red\n",
    "#                                               OR\n",
    "plt.plot(x,x+4,linestyle='-',color='g')        #solid\n",
    "plt.plot(x,x+5,linestyle='--',color='c')      #dashed\n",
    "plt.plot(x,x+6,linestyle='-.',color='k')      #dashdot\n",
    "plt.plot(x,x+7,linestyle=':',color='r')       #dotted"
   ]
  },
  {
   "cell_type": "code",
   "execution_count": 45,
   "metadata": {},
   "outputs": [
    {
     "data": {
      "text/plain": [
       "[<matplotlib.lines.Line2D at 0x24083ce5550>]"
      ]
     },
     "execution_count": 45,
     "metadata": {},
     "output_type": "execute_result"
    },
    {
     "data": {
      "image/png": "[encoded data removed]",
      "text/plain": [
       "<Figure size 432x288 with 1 Axes>"
      ]
     },
     "metadata": {
      "needs_background": "light"
     },
     "output_type": "display_data"
    }
   ],
   "source": [
    "plt.plot(x,x+0,'-')        #solid\n",
    "plt.plot(x,x+1,'--')      #dashed\n",
    "plt.plot(x,x+2,'-.')      #dashdot\n",
    "plt.plot(x,x+3,':')       #dotted\n",
    "#                                               OR\n",
    "plt.plot(x,x+4,linestyle='-')        #solid\n",
    "plt.plot(x,x+5,linestyle='--')      #dashed\n",
    "plt.plot(x,x+6,linestyle='-.')      #dashdot\n",
    "plt.plot(x,x+7,linestyle=':')       #dotted\n",
    "#                                               OR\n",
    "plt.plot(x,x+8,linestyle='solid')        #solid\n",
    "plt.plot(x,x+9,linestyle='dashed')      #dashed\n",
    "plt.plot(x,x+10,linestyle='dashdot')      #dashdot\n",
    "plt.plot(x,x+11,linestyle='dotted')       #dotted"
   ]
  }
 ],
 "metadata": {
  "celltoolbar": "Slideshow",
  "kernelspec": {
   "display_name": "Python 3",
   "language": "python",
   "name": "python3"
  },
  "language_info": {
   "codemirror_mode": {
    "name": "ipython",
    "version": 3
   },
   "file_extension": ".py",
   "mimetype": "text/x-python",
   "name": "python",
   "nbconvert_exporter": "python",
   "pygments_lexer": "ipython3",
   "version": "3.8.5"
  }
 },
 "nbformat": 4,
 "nbformat_minor": 4
}
